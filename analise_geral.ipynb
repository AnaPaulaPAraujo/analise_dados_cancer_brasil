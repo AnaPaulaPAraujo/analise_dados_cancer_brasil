{
 "cells": [
  {
   "cell_type": "markdown",
   "metadata": {},
   "source": [
    "# Importando bibliotecas que serão utilizadas no projeto"
   ]
  },
  {
   "cell_type": "code",
   "execution_count": 1,
   "metadata": {},
   "outputs": [],
   "source": [
    "import pandas as pd\n",
    "import matplotlib.pyplot as plt\n",
    "import seaborn as sns\n",
    "import numpy as np"
   ]
  },
  {
   "cell_type": "markdown",
   "metadata": {},
   "source": [
    "# Importando a tabela com os dados filtrados no arquivo 'Data/primeira_selecao_dados.ipynb'\n",
    "\n",
    "Arquivo 'data_cancer_2005_2019.csv' na pasta 'Data' desse projeto."
   ]
  },
  {
   "cell_type": "code",
   "execution_count": 3,
   "metadata": {},
   "outputs": [],
   "source": [
    "dados1 = pd.read_csv('Data/data_cancer_2005_2019.csv', sep = ',', encoding = 'utf-8', low_memory = False)"
   ]
  },
  {
   "cell_type": "code",
   "execution_count": 27,
   "metadata": {},
   "outputs": [
    {
     "name": "stdout",
     "output_type": "stream",
     "text": [
      "<class 'pandas.core.frame.DataFrame'>\n",
      "RangeIndex: 957959 entries, 0 to 957958\n",
      "Data columns (total 11 columns):\n",
      " #   Column             Non-Null Count   Dtype  \n",
      "---  ------             --------------   -----  \n",
      " 0   Unnamed: 0         957959 non-null  int64  \n",
      " 1   codigo_paciente    957959 non-null  int64  \n",
      " 2   local_atendimento  957959 non-null  object \n",
      " 3   sexo               957959 non-null  object \n",
      " 4   idade              906892 non-null  float64\n",
      " 5   cor                957959 non-null  object \n",
      " 6   nacionalidade      570600 non-null  object \n",
      " 7   estado_nascimento  572603 non-null  object \n",
      " 8   estado             957923 non-null  object \n",
      " 9   data               957958 non-null  object \n",
      " 10  data_obito         328005 non-null  object \n",
      "dtypes: float64(1), int64(2), object(8)\n",
      "memory usage: 80.4+ MB\n"
     ]
    }
   ],
   "source": [
    "dados1.info()"
   ]
  },
  {
   "cell_type": "code",
   "execution_count": 28,
   "metadata": {},
   "outputs": [
    {
     "data": {
      "text/html": [
       "<div>\n",
       "<style scoped>\n",
       "    .dataframe tbody tr th:only-of-type {\n",
       "        vertical-align: middle;\n",
       "    }\n",
       "\n",
       "    .dataframe tbody tr th {\n",
       "        vertical-align: top;\n",
       "    }\n",
       "\n",
       "    .dataframe thead th {\n",
       "        text-align: right;\n",
       "    }\n",
       "</style>\n",
       "<table border=\"1\" class=\"dataframe\">\n",
       "  <thead>\n",
       "    <tr style=\"text-align: right;\">\n",
       "      <th></th>\n",
       "      <th>Unnamed: 0</th>\n",
       "      <th>codigo_paciente</th>\n",
       "      <th>local_atendimento</th>\n",
       "      <th>sexo</th>\n",
       "      <th>idade</th>\n",
       "      <th>cor</th>\n",
       "      <th>nacionalidade</th>\n",
       "      <th>estado_nascimento</th>\n",
       "      <th>estado</th>\n",
       "      <th>data</th>\n",
       "      <th>data_obito</th>\n",
       "    </tr>\n",
       "  </thead>\n",
       "  <tbody>\n",
       "    <tr>\n",
       "      <th>0</th>\n",
       "      <td>0</td>\n",
       "      <td>672054</td>\n",
       "      <td>RCBP CAMPINAS-UNICAMP</td>\n",
       "      <td>MASCULINO</td>\n",
       "      <td>30.0</td>\n",
       "      <td>BRANCO</td>\n",
       "      <td>BRASIL</td>\n",
       "      <td>SÃO PAULO</td>\n",
       "      <td>SÃO PAULO</td>\n",
       "      <td>07/10/2005</td>\n",
       "      <td>07/10/2005</td>\n",
       "    </tr>\n",
       "    <tr>\n",
       "      <th>1</th>\n",
       "      <td>1</td>\n",
       "      <td>673745</td>\n",
       "      <td>RCBP CAMPINAS-UNICAMP</td>\n",
       "      <td>MASCULINO</td>\n",
       "      <td>71.0</td>\n",
       "      <td>BRANCO</td>\n",
       "      <td>BRASIL</td>\n",
       "      <td>SÃO PAULO</td>\n",
       "      <td>SÃO PAULO</td>\n",
       "      <td>21/10/2005</td>\n",
       "      <td>21/10/2005</td>\n",
       "    </tr>\n",
       "    <tr>\n",
       "      <th>2</th>\n",
       "      <td>2</td>\n",
       "      <td>676350</td>\n",
       "      <td>RCBP CAMPINAS-UNICAMP</td>\n",
       "      <td>MASCULINO</td>\n",
       "      <td>71.0</td>\n",
       "      <td>BRANCO</td>\n",
       "      <td>BRASIL</td>\n",
       "      <td>SÃO PAULO</td>\n",
       "      <td>SÃO PAULO</td>\n",
       "      <td>06/11/2005</td>\n",
       "      <td>06/11/2005</td>\n",
       "    </tr>\n",
       "    <tr>\n",
       "      <th>3</th>\n",
       "      <td>3</td>\n",
       "      <td>679877</td>\n",
       "      <td>RCBP CAMPINAS-UNICAMP</td>\n",
       "      <td>FEMININO</td>\n",
       "      <td>57.0</td>\n",
       "      <td>PARDA</td>\n",
       "      <td>BRASIL</td>\n",
       "      <td>ALAGOAS</td>\n",
       "      <td>SÃO PAULO</td>\n",
       "      <td>15/05/2005</td>\n",
       "      <td>15/05/2005</td>\n",
       "    </tr>\n",
       "    <tr>\n",
       "      <th>4</th>\n",
       "      <td>4</td>\n",
       "      <td>676553</td>\n",
       "      <td>RCBP CAMPINAS-UNICAMP</td>\n",
       "      <td>MASCULINO</td>\n",
       "      <td>52.0</td>\n",
       "      <td>BRANCO</td>\n",
       "      <td>BRASIL</td>\n",
       "      <td>SÃO PAULO</td>\n",
       "      <td>SÃO PAULO</td>\n",
       "      <td>24/02/2005</td>\n",
       "      <td>24/02/2005</td>\n",
       "    </tr>\n",
       "  </tbody>\n",
       "</table>\n",
       "</div>"
      ],
      "text/plain": [
       "   Unnamed: 0  codigo_paciente      local_atendimento       sexo  idade  \\\n",
       "0           0           672054  RCBP CAMPINAS-UNICAMP  MASCULINO   30.0   \n",
       "1           1           673745  RCBP CAMPINAS-UNICAMP  MASCULINO   71.0   \n",
       "2           2           676350  RCBP CAMPINAS-UNICAMP  MASCULINO   71.0   \n",
       "3           3           679877  RCBP CAMPINAS-UNICAMP   FEMININO   57.0   \n",
       "4           4           676553  RCBP CAMPINAS-UNICAMP  MASCULINO   52.0   \n",
       "\n",
       "      cor nacionalidade estado_nascimento     estado        data  data_obito  \n",
       "0  BRANCO        BRASIL         SÃO PAULO  SÃO PAULO  07/10/2005  07/10/2005  \n",
       "1  BRANCO        BRASIL         SÃO PAULO  SÃO PAULO  21/10/2005  21/10/2005  \n",
       "2  BRANCO        BRASIL         SÃO PAULO  SÃO PAULO  06/11/2005  06/11/2005  \n",
       "3   PARDA        BRASIL           ALAGOAS  SÃO PAULO  15/05/2005  15/05/2005  \n",
       "4  BRANCO        BRASIL         SÃO PAULO  SÃO PAULO  24/02/2005  24/02/2005  "
      ]
     },
     "execution_count": 28,
     "metadata": {},
     "output_type": "execute_result"
    }
   ],
   "source": [
    "dados1.head()"
   ]
  },
  {
   "cell_type": "code",
   "execution_count": 4,
   "metadata": {},
   "outputs": [
    {
     "data": {
      "text/plain": [
       "Index(['Unnamed: 0', 'codigo_paciente', 'local_atendimento', 'sexo', 'idade',\n",
       "       'cor', 'nacionalidade', 'estado_nascimento', 'estado', 'data',\n",
       "       'data_obito'],\n",
       "      dtype='object')"
      ]
     },
     "execution_count": 4,
     "metadata": {},
     "output_type": "execute_result"
    }
   ],
   "source": [
    "dados1.columns"
   ]
  },
  {
   "cell_type": "markdown",
   "metadata": {},
   "source": [
    "## Retirando a coluna 'Unnamed: 0'"
   ]
  },
  {
   "cell_type": "code",
   "execution_count": 4,
   "metadata": {},
   "outputs": [],
   "source": [
    "dados2 = dados1[[\n",
    "    'codigo_paciente', 'local_atendimento', 'sexo', 'idade',\n",
    "    'cor', 'nacionalidade', 'estado_nascimento', 'estado', 'data',\n",
    "    'data_obito'\n",
    "]]"
   ]
  },
  {
   "cell_type": "code",
   "execution_count": 5,
   "metadata": {},
   "outputs": [
    {
     "data": {
      "text/html": [
       "<div>\n",
       "<style scoped>\n",
       "    .dataframe tbody tr th:only-of-type {\n",
       "        vertical-align: middle;\n",
       "    }\n",
       "\n",
       "    .dataframe tbody tr th {\n",
       "        vertical-align: top;\n",
       "    }\n",
       "\n",
       "    .dataframe thead th {\n",
       "        text-align: right;\n",
       "    }\n",
       "</style>\n",
       "<table border=\"1\" class=\"dataframe\">\n",
       "  <thead>\n",
       "    <tr style=\"text-align: right;\">\n",
       "      <th></th>\n",
       "      <th>codigo_paciente</th>\n",
       "      <th>local_atendimento</th>\n",
       "      <th>sexo</th>\n",
       "      <th>idade</th>\n",
       "      <th>cor</th>\n",
       "      <th>nacionalidade</th>\n",
       "      <th>estado_nascimento</th>\n",
       "      <th>estado</th>\n",
       "      <th>data</th>\n",
       "      <th>data_obito</th>\n",
       "    </tr>\n",
       "  </thead>\n",
       "  <tbody>\n",
       "    <tr>\n",
       "      <th>0</th>\n",
       "      <td>672054</td>\n",
       "      <td>RCBP CAMPINAS-UNICAMP</td>\n",
       "      <td>MASCULINO</td>\n",
       "      <td>30.0</td>\n",
       "      <td>BRANCO</td>\n",
       "      <td>BRASIL</td>\n",
       "      <td>SÃO PAULO</td>\n",
       "      <td>SÃO PAULO</td>\n",
       "      <td>07/10/2005</td>\n",
       "      <td>07/10/2005</td>\n",
       "    </tr>\n",
       "    <tr>\n",
       "      <th>1</th>\n",
       "      <td>673745</td>\n",
       "      <td>RCBP CAMPINAS-UNICAMP</td>\n",
       "      <td>MASCULINO</td>\n",
       "      <td>71.0</td>\n",
       "      <td>BRANCO</td>\n",
       "      <td>BRASIL</td>\n",
       "      <td>SÃO PAULO</td>\n",
       "      <td>SÃO PAULO</td>\n",
       "      <td>21/10/2005</td>\n",
       "      <td>21/10/2005</td>\n",
       "    </tr>\n",
       "    <tr>\n",
       "      <th>2</th>\n",
       "      <td>676350</td>\n",
       "      <td>RCBP CAMPINAS-UNICAMP</td>\n",
       "      <td>MASCULINO</td>\n",
       "      <td>71.0</td>\n",
       "      <td>BRANCO</td>\n",
       "      <td>BRASIL</td>\n",
       "      <td>SÃO PAULO</td>\n",
       "      <td>SÃO PAULO</td>\n",
       "      <td>06/11/2005</td>\n",
       "      <td>06/11/2005</td>\n",
       "    </tr>\n",
       "    <tr>\n",
       "      <th>3</th>\n",
       "      <td>679877</td>\n",
       "      <td>RCBP CAMPINAS-UNICAMP</td>\n",
       "      <td>FEMININO</td>\n",
       "      <td>57.0</td>\n",
       "      <td>PARDA</td>\n",
       "      <td>BRASIL</td>\n",
       "      <td>ALAGOAS</td>\n",
       "      <td>SÃO PAULO</td>\n",
       "      <td>15/05/2005</td>\n",
       "      <td>15/05/2005</td>\n",
       "    </tr>\n",
       "    <tr>\n",
       "      <th>4</th>\n",
       "      <td>676553</td>\n",
       "      <td>RCBP CAMPINAS-UNICAMP</td>\n",
       "      <td>MASCULINO</td>\n",
       "      <td>52.0</td>\n",
       "      <td>BRANCO</td>\n",
       "      <td>BRASIL</td>\n",
       "      <td>SÃO PAULO</td>\n",
       "      <td>SÃO PAULO</td>\n",
       "      <td>24/02/2005</td>\n",
       "      <td>24/02/2005</td>\n",
       "    </tr>\n",
       "  </tbody>\n",
       "</table>\n",
       "</div>"
      ],
      "text/plain": [
       "   codigo_paciente      local_atendimento       sexo  idade     cor  \\\n",
       "0           672054  RCBP CAMPINAS-UNICAMP  MASCULINO   30.0  BRANCO   \n",
       "1           673745  RCBP CAMPINAS-UNICAMP  MASCULINO   71.0  BRANCO   \n",
       "2           676350  RCBP CAMPINAS-UNICAMP  MASCULINO   71.0  BRANCO   \n",
       "3           679877  RCBP CAMPINAS-UNICAMP   FEMININO   57.0   PARDA   \n",
       "4           676553  RCBP CAMPINAS-UNICAMP  MASCULINO   52.0  BRANCO   \n",
       "\n",
       "  nacionalidade estado_nascimento     estado        data  data_obito  \n",
       "0        BRASIL         SÃO PAULO  SÃO PAULO  07/10/2005  07/10/2005  \n",
       "1        BRASIL         SÃO PAULO  SÃO PAULO  21/10/2005  21/10/2005  \n",
       "2        BRASIL         SÃO PAULO  SÃO PAULO  06/11/2005  06/11/2005  \n",
       "3        BRASIL           ALAGOAS  SÃO PAULO  15/05/2005  15/05/2005  \n",
       "4        BRASIL         SÃO PAULO  SÃO PAULO  24/02/2005  24/02/2005  "
      ]
     },
     "execution_count": 5,
     "metadata": {},
     "output_type": "execute_result"
    }
   ],
   "source": [
    "dados2.head()"
   ]
  },
  {
   "cell_type": "markdown",
   "metadata": {},
   "source": [
    "# ANÁLISE 01 - Distribuição por sexos dos pacientes"
   ]
  },
  {
   "cell_type": "code",
   "execution_count": 31,
   "metadata": {},
   "outputs": [
    {
     "name": "stdout",
     "output_type": "stream",
     "text": [
      "<class 'pandas.core.frame.DataFrame'>\n",
      "RangeIndex: 957959 entries, 0 to 957958\n",
      "Data columns (total 10 columns):\n",
      " #   Column             Non-Null Count   Dtype  \n",
      "---  ------             --------------   -----  \n",
      " 0   codigo_paciente    957959 non-null  int64  \n",
      " 1   local_atendimento  957959 non-null  object \n",
      " 2   sexo               957959 non-null  object \n",
      " 3   idade              906892 non-null  float64\n",
      " 4   cor                957959 non-null  object \n",
      " 5   nacionalidade      570600 non-null  object \n",
      " 6   estado_nascimento  572603 non-null  object \n",
      " 7   estado             957923 non-null  object \n",
      " 8   data               957958 non-null  object \n",
      " 9   data_obito         328005 non-null  object \n",
      "dtypes: float64(1), int64(1), object(8)\n",
      "memory usage: 73.1+ MB\n"
     ]
    }
   ],
   "source": [
    "dados2.info()"
   ]
  },
  {
   "cell_type": "code",
   "execution_count": 13,
   "metadata": {},
   "outputs": [
    {
     "data": {
      "text/plain": [
       "array(['MASCULINO', 'FEMININO', 'IGNORADO'], dtype=object)"
      ]
     },
     "execution_count": 13,
     "metadata": {},
     "output_type": "execute_result"
    }
   ],
   "source": [
    "dados2.sexo.unique()"
   ]
  },
  {
   "cell_type": "code",
   "execution_count": 15,
   "metadata": {},
   "outputs": [
    {
     "data": {
      "text/plain": [
       "codigo_paciente           0\n",
       "local_atendimento         0\n",
       "sexo                      0\n",
       "idade                 51067\n",
       "cor                       0\n",
       "nacionalidade        387359\n",
       "estado_nascimento    385356\n",
       "estado                   36\n",
       "data                      1\n",
       "data_obito           629954\n",
       "dtype: int64"
      ]
     },
     "execution_count": 15,
     "metadata": {},
     "output_type": "execute_result"
    }
   ],
   "source": [
    "dados2.isnull().sum()"
   ]
  },
  {
   "cell_type": "code",
   "execution_count": 50,
   "metadata": {},
   "outputs": [
    {
     "data": {
      "text/plain": [
       "FEMININO     527913\n",
       "MASCULINO    429937\n",
       "IGNORADO        109\n",
       "Name: sexo, dtype: int64"
      ]
     },
     "execution_count": 50,
     "metadata": {},
     "output_type": "execute_result"
    }
   ],
   "source": [
    "dados2['sexo'].value_counts()"
   ]
  },
  {
   "cell_type": "code",
   "execution_count": null,
   "metadata": {},
   "outputs": [],
   "source": [
    "sexos = dados2[dados2['sexo'] == 'IGNORADO'].index\n",
    "sexos"
   ]
  },
  {
   "cell_type": "code",
   "execution_count": 62,
   "metadata": {},
   "outputs": [],
   "source": [
    "sexos_masc_fem = dados2.drop(sexos)"
   ]
  },
  {
   "cell_type": "code",
   "execution_count": 63,
   "metadata": {},
   "outputs": [],
   "source": [
    "sexos_masc_fem_df = pd.DataFrame(sexos_masc_fem)"
   ]
  },
  {
   "cell_type": "code",
   "execution_count": 90,
   "metadata": {},
   "outputs": [],
   "source": [
    "gf_pizza_sexos = sexos_masc_fem_df['sexo'].value_counts()"
   ]
  },
  {
   "cell_type": "code",
   "execution_count": 105,
   "metadata": {},
   "outputs": [
    {
     "data": {
      "image/png": "[encoded data removed]",
      "text/plain": [
       "<Figure size 504x504 with 1 Axes>"
      ]
     },
     "metadata": {},
     "output_type": "display_data"
    }
   ],
   "source": [
    "plt.figure(figsize=(7,7))\n",
    "\n",
    "plt.axis('equal')\n",
    "plt.pie(gf_pizza_sexos, \n",
    "        labels= ['MASCULINO','FEMININO'],\n",
    "        autopct='%1.1f%%',\n",
    "        colors= [\"c\",\"violet\"]\n",
    ")\n",
    "\n",
    "plt.show()\n"
   ]
  },
  {
   "cell_type": "code",
   "execution_count": null,
   "metadata": {},
   "outputs": [],
   "source": [
    "sexos_masc_fem_df.head()"
   ]
  },
  {
   "cell_type": "code",
   "execution_count": 104,
   "metadata": {},
   "outputs": [
    {
     "data": {
      "image/png": "[encoded data removed]",
      "text/plain": [
       "<Figure size 504x504 with 1 Axes>"
      ]
     },
     "metadata": {
      "needs_background": "light"
     },
     "output_type": "display_data"
    }
   ],
   "source": [
    "plt.figure(figsize=(7,7))\n",
    "sns.histplot(data=sexos_masc_fem_df, x='sexo', hue='sexo')\n",
    "plt.tick_params(axis='x', labelsize=0)\n",
    "plt.xlabel([], fontsize=0)\n",
    "plt.show()\n"
   ]
  },
  {
   "cell_type": "markdown",
   "metadata": {},
   "source": [
    "# ANÁLISE 02 - Quantidade de casos por estado."
   ]
  },
  {
   "cell_type": "code",
   "execution_count": 93,
   "metadata": {},
   "outputs": [
    {
     "data": {
      "text/plain": [
       "Index(['codigo_paciente', 'local_atendimento', 'sexo', 'idade', 'cor',\n",
       "       'nacionalidade', 'estado_nascimento', 'estado', 'data', 'data_obito'],\n",
       "      dtype='object')"
      ]
     },
     "execution_count": 93,
     "metadata": {},
     "output_type": "execute_result"
    }
   ],
   "source": [
    "sexos_masc_fem_df.columns"
   ]
  },
  {
   "cell_type": "code",
   "execution_count": 108,
   "metadata": {},
   "outputs": [
    {
     "data": {
      "text/plain": [
       "SÃO PAULO              430767\n",
       "MINAS GERAIS           102853\n",
       "MATO GROSSO             53060\n",
       "CEARÁ                   48026\n",
       "DISTRITO FEDERAL        47590\n",
       "PARÁ                    42463\n",
       "PARANÁ                  41153\n",
       "PERNAMBUCO              33626\n",
       "RIO GRANDE DO SUL       28495\n",
       "AMAZONAS                20605\n",
       "SERGIPE                 15938\n",
       "SANTA CATARINA          15851\n",
       "ESPIRITO SANTO          14056\n",
       "PARAÍBA                 12941\n",
       "ALAGOAS                  9688\n",
       "MATO GROSSO DO SUL       9655\n",
       "RIO GRANDE DO NORTE      9120\n",
       "RONDONIA                 7142\n",
       "ACRE                     6031\n",
       "RORAIMA                  2716\n",
       "RIO DE JANEIRO           2264\n",
       "TOCANTINS                2179\n",
       "PIAUÍ                    1512\n",
       "BAHIA                     192\n",
       "Name: estado, dtype: int64"
      ]
     },
     "execution_count": 108,
     "metadata": {},
     "output_type": "execute_result"
    }
   ],
   "source": [
    "gf_pizza_estados = dados2['estado'].value_counts()\n",
    "gf_pizza_estados"
   ]
  },
  {
   "cell_type": "code",
   "execution_count": 121,
   "metadata": {},
   "outputs": [
    {
     "data": {
      "text/plain": [
       "array(['SÃO PAULO', 'ACRE', 'ALAGOAS', 'RIO DE JANEIRO', 'SERGIPE',\n",
       "       'PARÁ', 'MINAS GERAIS', nan, 'MATO GROSSO DO SUL', 'MATO GROSSO ',\n",
       "       'PARANÁ', 'DISTRITO FEDERAL', 'ESPIRITO SANTO', 'SANTA CATARINA',\n",
       "       'CEARÁ', 'PARAÍBA', 'AMAZONAS', 'RIO GRANDE DO NORTE', 'TOCANTINS',\n",
       "       'RIO GRANDE DO SUL', 'PERNAMBUCO', 'RORAIMA', 'BAHIA', 'PIAUÍ',\n",
       "       'RONDONIA'], dtype=object)"
      ]
     },
     "execution_count": 121,
     "metadata": {},
     "output_type": "execute_result"
    }
   ],
   "source": [
    "dados2.estado.unique()"
   ]
  },
  {
   "cell_type": "code",
   "execution_count": 145,
   "metadata": {},
   "outputs": [
    {
     "data": {
      "image/png": "[encoded data removed]",
      "text/plain": [
       "<Figure size 504x504 with 1 Axes>"
      ]
     },
     "metadata": {},
     "output_type": "display_data"
    }
   ],
   "source": [
    "plt.figure(figsize=(7,7))\n",
    "\n",
    "plt.axis('equal')\n",
    "plt.pie(gf_pizza_estados,\n",
    "        labels=['SÃO PAULO',\n",
    "                'MINAS GERAIS',\n",
    "                'MATO GROSSO',\n",
    "                'CEARÁ',\n",
    "                'DISTRITO FEDERAL',\n",
    "                'PARÁ',\n",
    "                'PARANÁ',\n",
    "                'PERNAMBUCO',\n",
    "                'RIO GRANDE DO SUL',\n",
    "                'AMAZONAS',\n",
    "                'SERGIPE',\n",
    "                'SANTA CATARINA',\n",
    "                'ESPIRITO SANTO',\n",
    "                'PARAÍBA',\n",
    "                'ALAGOAS',\n",
    "                'MATO GROSSO DO SUL',\n",
    "                'RIO GRANDE DO NORTE',\n",
    "                'RONDONIA',\n",
    "                'ACRE',\n",
    "                'RORAIMA',\n",
    "                'RIO DE JANEIRO',\n",
    "                'TOCANTINS',\n",
    "                'PIAUÍ',\n",
    "                'BAHIA'],\n",
    "        autopct='%1.1f%%',\n",
    "        pctdistance= 0.8\n",
    ")\n",
    "\n",
    "plt.show()"
   ]
  },
  {
   "cell_type": "code",
   "execution_count": 150,
   "metadata": {},
   "outputs": [],
   "source": [
    "gf_barras_sexos_df = pd.DataFrame(gf_pizza_estados)"
   ]
  },
  {
   "cell_type": "code",
   "execution_count": 151,
   "metadata": {},
   "outputs": [
    {
     "data": {
      "text/html": [
       "<div>\n",
       "<style scoped>\n",
       "    .dataframe tbody tr th:only-of-type {\n",
       "        vertical-align: middle;\n",
       "    }\n",
       "\n",
       "    .dataframe tbody tr th {\n",
       "        vertical-align: top;\n",
       "    }\n",
       "\n",
       "    .dataframe thead th {\n",
       "        text-align: right;\n",
       "    }\n",
       "</style>\n",
       "<table border=\"1\" class=\"dataframe\">\n",
       "  <thead>\n",
       "    <tr style=\"text-align: right;\">\n",
       "      <th></th>\n",
       "      <th>estado</th>\n",
       "    </tr>\n",
       "  </thead>\n",
       "  <tbody>\n",
       "    <tr>\n",
       "      <th>SÃO PAULO</th>\n",
       "      <td>430767</td>\n",
       "    </tr>\n",
       "    <tr>\n",
       "      <th>MINAS GERAIS</th>\n",
       "      <td>102853</td>\n",
       "    </tr>\n",
       "    <tr>\n",
       "      <th>MATO GROSSO</th>\n",
       "      <td>53060</td>\n",
       "    </tr>\n",
       "    <tr>\n",
       "      <th>CEARÁ</th>\n",
       "      <td>48026</td>\n",
       "    </tr>\n",
       "    <tr>\n",
       "      <th>DISTRITO FEDERAL</th>\n",
       "      <td>47590</td>\n",
       "    </tr>\n",
       "  </tbody>\n",
       "</table>\n",
       "</div>"
      ],
      "text/plain": [
       "                  estado\n",
       "SÃO PAULO         430767\n",
       "MINAS GERAIS      102853\n",
       "MATO GROSSO        53060\n",
       "CEARÁ              48026\n",
       "DISTRITO FEDERAL   47590"
      ]
     },
     "execution_count": 151,
     "metadata": {},
     "output_type": "execute_result"
    }
   ],
   "source": [
    "gf_barras_sexos_df.head()"
   ]
  },
  {
   "cell_type": "code",
   "execution_count": 160,
   "metadata": {},
   "outputs": [
    {
     "name": "stderr",
     "output_type": "stream",
     "text": [
      "No handles with labels found to put in legend.\n"
     ]
    },
    {
     "data": {
      "image/png": "[encoded data removed]",
      "text/plain": [
       "<Figure size 1296x432 with 1 Axes>"
      ]
     },
     "metadata": {
      "needs_background": "light"
     },
     "output_type": "display_data"
    }
   ],
   "source": [
    "plt.figure(figsize=(18,6))\n",
    "sns.histplot(data=dados2, x='estado', hue='estado', stat='percent', palette='rainbow')\n",
    "plt.xticks(rotation = 90)\n",
    "plt.legend().set_visible(False)\n",
    "\n",
    "plt.show()"
   ]
  },
  {
   "cell_type": "code",
   "execution_count": 132,
   "metadata": {},
   "outputs": [
    {
     "data": {
      "text/plain": [
       "array(['RCBP CAMPINAS-UNICAMP', 'RCBP SÃO PAULO', 'RCBP ACRE',\n",
       "       'RCBP ALAGOAS', 'RCBP ANGRA DOS REIS', 'RCBP ARACAJU',\n",
       "       'RCBP BELÉM', 'RCBP BELO HORIZONTE', 'RCBP CAMPINAS-SMS',\n",
       "       'RCBP CAMPO GRANDE', 'RCBP CUIABA', 'RCBP CURITIBA',\n",
       "       'RCBP MATO GROSSO (INTERIOR)', 'RCBP DISTRITO FEDERAL',\n",
       "       'RCBP DRS BARRETOS', 'RCBP ESPÍRITO SANTO', 'RCBP FLORIANOPOLIS',\n",
       "       'RCBP FORTALEZA', 'RCBP JAHU', 'RCBP JOAO PESSOA', 'RCBP MANAUS',\n",
       "       'RCBP NATAL', 'RCBP PALMAS', 'RCBP POÇOS DE CALDAS',\n",
       "       'RCBP PORTO ALEGRE', 'RCBP RECIFE', 'RCBP RORAIMA',\n",
       "       'RCBP SALVADOR', 'RCBP SANTOS', 'RCBP TERESINA', 'RCBP GOIÂNIA',\n",
       "       'RCBP RONDONIA'], dtype=object)"
      ]
     },
     "execution_count": 132,
     "metadata": {},
     "output_type": "execute_result"
    }
   ],
   "source": [
    "dados2.local_atendimento.unique()"
   ]
  },
  {
   "cell_type": "code",
   "execution_count": 139,
   "metadata": {},
   "outputs": [],
   "source": [
    "\n",
    "conditionlist=[\n",
    "    (dados2['local_atendimento']=='RCBP CAMPINAS-UNICAMP'),\n",
    "    (dados2['local_atendimento']=='RCBP SÃO PAULO'),\n",
    "    (dados2['local_atendimento']=='RCBP ACRE'),\n",
    "    (dados2['local_atendimento']=='RCBP ALAGOAS'),\n",
    "    (dados2['local_atendimento']=='RCBP ANGRA DOS REIS'),\n",
    "    (dados2['local_atendimento']=='RCBP ARACAJU'),\n",
    "    (dados2['local_atendimento']=='RCBP BELÉM'),\n",
    "    (dados2['local_atendimento']=='RCBP BELO HORIZONTE'),\n",
    "    (dados2['local_atendimento']=='RCBP CAMPINAS-SMS'),\n",
    "    (dados2['local_atendimento']=='RCBP CAMPO GRANDE'),\n",
    "    (dados2['local_atendimento']=='RCBP CUIABA'),\n",
    "    (dados2['local_atendimento']=='RCBP CURITIBA'),\n",
    "    (dados2['local_atendimento']=='RCBP MATO GROSSO (INTERIOR)'),\n",
    "    (dados2['local_atendimento']=='RCBP DISTRITO FEDERAL)'),\n",
    "    (dados2['local_atendimento']=='RCBP DRS BARRETOS'),\n",
    "    (dados2['local_atendimento']=='RCBP ESPÍRITO SANTO'),\n",
    "    (dados2['local_atendimento']=='RCBP FLORIANOPOLIS'),\n",
    "    (dados2['local_atendimento']=='RCBP FORTALEZA'),\n",
    "    (dados2['local_atendimento']=='RCBP JAHU'),\n",
    "    (dados2['local_atendimento']=='RCBP JOAO PESSOA'),\n",
    "    (dados2['local_atendimento']=='RCBP MANAUS'),\n",
    "    (dados2['local_atendimento']=='RCBP NATAL'),\n",
    "    (dados2['local_atendimento']=='RCBP PALMAS'),\n",
    "    (dados2['local_atendimento']=='RCBP POÇOS DE CALDAS'),\n",
    "    (dados2['local_atendimento']=='RCBP PORTO ALEGRE'),\n",
    "    (dados2['local_atendimento']=='RCBP RECIFE'),\n",
    "    (dados2['local_atendimento']=='RCBP RORAIMA'),\n",
    "    (dados2['local_atendimento']=='RCBP SALVADOR'),\n",
    "    (dados2['local_atendimento']=='RCBP SANTOS'),\n",
    "    (dados2['local_atendimento']=='RCBP TERESINA'),\n",
    "    (dados2['local_atendimento']=='RCBP GOIÂNIA'),\n",
    "    (dados2['local_atendimento']=='RCBP RONDONIA'),\n",
    "]\n",
    "\n",
    "choicelist = [\n",
    "    'SÃO PAULO',\n",
    "    'SÃO PAULO', \n",
    "    'ACRE',\n",
    "    'ALAGOAS',\n",
    "    'RIO DE JANEIRO',\n",
    "    'SERGIPE',\n",
    "    'PARÁ',\n",
    "    'MINAS GERAIS',\n",
    "    'SÃO PAULO',\n",
    "    'MATO GROSSO DO SUL', \n",
    "    'MATO GROSSO',\n",
    "    'PARANÁ',\n",
    "    'MATO GROSSO',\n",
    "    'DISTRITO FEDERAL',\n",
    "    'SÃO PAULO',\n",
    "    'ESPÍRITO SANTO', \n",
    "    'SANTA CATARINA',\n",
    "    'CEARÁ', \n",
    "    'SÃO PAULO', \n",
    "    'PARAÍBA',\n",
    "    'AMAZONAS',\n",
    "    'RIO GRANDE DO NORTE', \n",
    "    'TOCANTINS', \n",
    "    'MINAS GERAIS',\n",
    "    'RIO GRANDE DO SUL', \n",
    "    'PERNAMBUCO', \n",
    "    'RORAIMA',\n",
    "    'BAHIA',\n",
    "    'SÃO PAULO', \n",
    "    'PIAUÍ', \n",
    "    'GOIÁS',\n",
    "    'RONDONIA'\n",
    "]"
   ]
  },
  {
   "cell_type": "code",
   "execution_count": 140,
   "metadata": {},
   "outputs": [],
   "source": [
    "dados2['estado_atendimento']= np.select(conditionlist, choicelist, default='Not Specified')"
   ]
  },
  {
   "cell_type": "code",
   "execution_count": 143,
   "metadata": {},
   "outputs": [
    {
     "data": {
      "text/html": [
       "<div>\n",
       "<style scoped>\n",
       "    .dataframe tbody tr th:only-of-type {\n",
       "        vertical-align: middle;\n",
       "    }\n",
       "\n",
       "    .dataframe tbody tr th {\n",
       "        vertical-align: top;\n",
       "    }\n",
       "\n",
       "    .dataframe thead th {\n",
       "        text-align: right;\n",
       "    }\n",
       "</style>\n",
       "<table border=\"1\" class=\"dataframe\">\n",
       "  <thead>\n",
       "    <tr style=\"text-align: right;\">\n",
       "      <th></th>\n",
       "      <th>codigo_paciente</th>\n",
       "      <th>local_atendimento</th>\n",
       "      <th>sexo</th>\n",
       "      <th>idade</th>\n",
       "      <th>cor</th>\n",
       "      <th>nacionalidade</th>\n",
       "      <th>estado_nascimento</th>\n",
       "      <th>estado</th>\n",
       "      <th>data</th>\n",
       "      <th>data_obito</th>\n",
       "      <th>estado_atendimento</th>\n",
       "    </tr>\n",
       "  </thead>\n",
       "  <tbody>\n",
       "    <tr>\n",
       "      <th>0</th>\n",
       "      <td>672054</td>\n",
       "      <td>RCBP CAMPINAS-UNICAMP</td>\n",
       "      <td>MASCULINO</td>\n",
       "      <td>30.0</td>\n",
       "      <td>BRANCO</td>\n",
       "      <td>BRASIL</td>\n",
       "      <td>SÃO PAULO</td>\n",
       "      <td>SÃO PAULO</td>\n",
       "      <td>07/10/2005</td>\n",
       "      <td>07/10/2005</td>\n",
       "      <td>SÃO PAULO</td>\n",
       "    </tr>\n",
       "    <tr>\n",
       "      <th>1</th>\n",
       "      <td>673745</td>\n",
       "      <td>RCBP CAMPINAS-UNICAMP</td>\n",
       "      <td>MASCULINO</td>\n",
       "      <td>71.0</td>\n",
       "      <td>BRANCO</td>\n",
       "      <td>BRASIL</td>\n",
       "      <td>SÃO PAULO</td>\n",
       "      <td>SÃO PAULO</td>\n",
       "      <td>21/10/2005</td>\n",
       "      <td>21/10/2005</td>\n",
       "      <td>SÃO PAULO</td>\n",
       "    </tr>\n",
       "    <tr>\n",
       "      <th>2</th>\n",
       "      <td>676350</td>\n",
       "      <td>RCBP CAMPINAS-UNICAMP</td>\n",
       "      <td>MASCULINO</td>\n",
       "      <td>71.0</td>\n",
       "      <td>BRANCO</td>\n",
       "      <td>BRASIL</td>\n",
       "      <td>SÃO PAULO</td>\n",
       "      <td>SÃO PAULO</td>\n",
       "      <td>06/11/2005</td>\n",
       "      <td>06/11/2005</td>\n",
       "      <td>SÃO PAULO</td>\n",
       "    </tr>\n",
       "    <tr>\n",
       "      <th>3</th>\n",
       "      <td>679877</td>\n",
       "      <td>RCBP CAMPINAS-UNICAMP</td>\n",
       "      <td>FEMININO</td>\n",
       "      <td>57.0</td>\n",
       "      <td>PARDA</td>\n",
       "      <td>BRASIL</td>\n",
       "      <td>ALAGOAS</td>\n",
       "      <td>SÃO PAULO</td>\n",
       "      <td>15/05/2005</td>\n",
       "      <td>15/05/2005</td>\n",
       "      <td>SÃO PAULO</td>\n",
       "    </tr>\n",
       "    <tr>\n",
       "      <th>4</th>\n",
       "      <td>676553</td>\n",
       "      <td>RCBP CAMPINAS-UNICAMP</td>\n",
       "      <td>MASCULINO</td>\n",
       "      <td>52.0</td>\n",
       "      <td>BRANCO</td>\n",
       "      <td>BRASIL</td>\n",
       "      <td>SÃO PAULO</td>\n",
       "      <td>SÃO PAULO</td>\n",
       "      <td>24/02/2005</td>\n",
       "      <td>24/02/2005</td>\n",
       "      <td>SÃO PAULO</td>\n",
       "    </tr>\n",
       "  </tbody>\n",
       "</table>\n",
       "</div>"
      ],
      "text/plain": [
       "   codigo_paciente      local_atendimento       sexo  idade     cor  \\\n",
       "0           672054  RCBP CAMPINAS-UNICAMP  MASCULINO   30.0  BRANCO   \n",
       "1           673745  RCBP CAMPINAS-UNICAMP  MASCULINO   71.0  BRANCO   \n",
       "2           676350  RCBP CAMPINAS-UNICAMP  MASCULINO   71.0  BRANCO   \n",
       "3           679877  RCBP CAMPINAS-UNICAMP   FEMININO   57.0   PARDA   \n",
       "4           676553  RCBP CAMPINAS-UNICAMP  MASCULINO   52.0  BRANCO   \n",
       "\n",
       "  nacionalidade estado_nascimento     estado        data  data_obito  \\\n",
       "0        BRASIL         SÃO PAULO  SÃO PAULO  07/10/2005  07/10/2005   \n",
       "1        BRASIL         SÃO PAULO  SÃO PAULO  21/10/2005  21/10/2005   \n",
       "2        BRASIL         SÃO PAULO  SÃO PAULO  06/11/2005  06/11/2005   \n",
       "3        BRASIL           ALAGOAS  SÃO PAULO  15/05/2005  15/05/2005   \n",
       "4        BRASIL         SÃO PAULO  SÃO PAULO  24/02/2005  24/02/2005   \n",
       "\n",
       "  estado_atendimento  \n",
       "0          SÃO PAULO  \n",
       "1          SÃO PAULO  \n",
       "2          SÃO PAULO  \n",
       "3          SÃO PAULO  \n",
       "4          SÃO PAULO  "
      ]
     },
     "execution_count": 143,
     "metadata": {},
     "output_type": "execute_result"
    }
   ],
   "source": [
    "dados2.head()"
   ]
  },
  {
   "cell_type": "code",
   "execution_count": null,
   "metadata": {},
   "outputs": [],
   "source": []
  }
 ],
 "metadata": {
  "interpreter": {
   "hash": "8fac594bfae6525c0c41b4041d2d72effa188cc8ead05f81b1fab2bb098927fb"
  },
  "kernelspec": {
   "display_name": "Python 3.9.7 64-bit ('base': conda)",
   "language": "python",
   "name": "python3"
  },
  "language_info": {
   "codemirror_mode": {
    "name": "ipython",
    "version": 3
   },
   "file_extension": ".py",
   "mimetype": "text/x-python",
   "name": "python",
   "nbconvert_exporter": "python",
   "pygments_lexer": "ipython3",
   "version": "3.9.7"
  },
  "orig_nbformat": 4
 },
 "nbformat": 4,
 "nbformat_minor": 2
}
