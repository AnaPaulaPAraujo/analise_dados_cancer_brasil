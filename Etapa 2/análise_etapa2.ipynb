{
 "cells": [
  {
   "cell_type": "markdown",
   "metadata": {},
   "source": [
    "# ETAPA 02\n",
    "\n",
    "Na etapa 01 desse projeto, foram encontradas diversas dificuldades em virtude da ausência de alguns dados que são de suma importância para uma análise coesa e mais próxima da realidade. Por isso, nessa **ETAPA 02**, será utilizado um **banco de dados mais robusto** retirado diretamente do site do INCA (<https://irhc.inca.gov.br/RHCNet/visualizaTabNetExterno.action>).\n",
    "\n",
    ">**Obs.:** A conversão dos dados de .dbf para .csv, bem como a primeira filtragem dos dados da tabela para delimitar os dados que serão utilizados no projeto, estão na pasta **Data** dentro da pasta dessa etapa do projeto."
   ]
  },
  {
   "cell_type": "markdown",
   "metadata": {},
   "source": [
    "### Objetivo\n",
    "\n",
    "O objetivo dessa etapa é respoder as seguintes perguntas pela **ANÁLISE EXPLORATÓRIA**:\n",
    "\n",
    "> 01. Qual é a distribuição quantitativa de casos de câncer de 2000 a 2019 no Brasil?\n",
    "> 02. Qual é a idade mais afetada pelo câncer na população total?\n",
    "> 03. Qual é a o tipo de câncer mais comum na população total?"
   ]
  },
  {
   "cell_type": "markdown",
   "metadata": {},
   "source": [
    "## Importando bibliotecas necessárias para o projeto"
   ]
  },
  {
   "cell_type": "code",
   "execution_count": 1,
   "metadata": {},
   "outputs": [],
   "source": [
    "import pandas as pd \n",
    "import numpy as np \n",
    "import matplotlib.pyplot as plt\n",
    "import seaborn as sns "
   ]
  },
  {
   "cell_type": "markdown",
   "metadata": {},
   "source": [
    "## Importando a tabela com os dados filtrados no arquivo 'Data/filtro1_data_cancerINCA.csv'"
   ]
  },
  {
   "cell_type": "code",
   "execution_count": 2,
   "metadata": {},
   "outputs": [
    {
     "name": "stderr",
     "output_type": "stream",
     "text": [
      "C:\\Users\\User\\anaconda3\\lib\\site-packages\\numpy\\lib\\arraysetops.py:583: FutureWarning: elementwise comparison failed; returning scalar instead, but in the future will perform elementwise comparison\n",
      "  mask |= (ar1 == a)\n"
     ]
    }
   ],
   "source": [
    "dados = pd.read_csv('Data/filtro1_data_cancer_INCA.csv', sep = ',', encoding = 'utf-8', low_memory = False, index_col = 0)"
   ]
  },
  {
   "cell_type": "code",
   "execution_count": 3,
   "metadata": {},
   "outputs": [
    {
     "name": "stdout",
     "output_type": "stream",
     "text": [
      "<class 'pandas.core.frame.DataFrame'>\n",
      "Int64Index: 4083377 entries, 0 to 4083376\n",
      "Data columns (total 12 columns):\n",
      " #   Column                  Dtype \n",
      "---  ------                  ----- \n",
      " 0   sexo                    int64 \n",
      " 1   idade                   object\n",
      " 2   cor                     int64 \n",
      " 3   local_residencia        object\n",
      " 4   uso_alcool              int64 \n",
      " 5   uso_tabaco              int64 \n",
      " 6   ano_diagnostico         object\n",
      " 7   data_primeiro_diagnost  object\n",
      " 8   historico_familiar      int64 \n",
      " 9   diagnost_trat_anterior  int64 \n",
      " 10  local_hospital          object\n",
      " 11  codigo_doenca           object\n",
      "dtypes: int64(6), object(6)\n",
      "memory usage: 405.0+ MB\n"
     ]
    }
   ],
   "source": [
    "dados.info()"
   ]
  },
  {
   "cell_type": "code",
   "execution_count": 4,
   "metadata": {},
   "outputs": [
    {
     "data": {
      "text/plain": [
       "Index(['sexo', 'idade', 'cor', 'local_residencia', 'uso_alcool', 'uso_tabaco',\n",
       "       'ano_diagnostico', 'data_primeiro_diagnost', 'historico_familiar',\n",
       "       'diagnost_trat_anterior', 'local_hospital', 'codigo_doenca'],\n",
       "      dtype='object')"
      ]
     },
     "execution_count": 4,
     "metadata": {},
     "output_type": "execute_result"
    }
   ],
   "source": [
    "dados.columns"
   ]
  },
  {
   "cell_type": "code",
   "execution_count": 5,
   "metadata": {},
   "outputs": [
    {
     "data": {
      "text/html": [
       "<div>\n",
       "<style scoped>\n",
       "    .dataframe tbody tr th:only-of-type {\n",
       "        vertical-align: middle;\n",
       "    }\n",
       "\n",
       "    .dataframe tbody tr th {\n",
       "        vertical-align: top;\n",
       "    }\n",
       "\n",
       "    .dataframe thead th {\n",
       "        text-align: right;\n",
       "    }\n",
       "</style>\n",
       "<table border=\"1\" class=\"dataframe\">\n",
       "  <thead>\n",
       "    <tr style=\"text-align: right;\">\n",
       "      <th></th>\n",
       "      <th>sexo</th>\n",
       "      <th>idade</th>\n",
       "      <th>cor</th>\n",
       "      <th>local_residencia</th>\n",
       "      <th>uso_alcool</th>\n",
       "      <th>uso_tabaco</th>\n",
       "      <th>ano_diagnostico</th>\n",
       "      <th>data_primeiro_diagnost</th>\n",
       "      <th>historico_familiar</th>\n",
       "      <th>diagnost_trat_anterior</th>\n",
       "      <th>local_hospital</th>\n",
       "      <th>codigo_doenca</th>\n",
       "    </tr>\n",
       "  </thead>\n",
       "  <tbody>\n",
       "    <tr>\n",
       "      <th>0</th>\n",
       "      <td>2</td>\n",
       "      <td>071</td>\n",
       "      <td>1</td>\n",
       "      <td>RJ</td>\n",
       "      <td>1</td>\n",
       "      <td>1</td>\n",
       "      <td>2002</td>\n",
       "      <td>10/03/2002</td>\n",
       "      <td>2</td>\n",
       "      <td>1</td>\n",
       "      <td>RJ</td>\n",
       "      <td>C44</td>\n",
       "    </tr>\n",
       "    <tr>\n",
       "      <th>1</th>\n",
       "      <td>1</td>\n",
       "      <td>000</td>\n",
       "      <td>9</td>\n",
       "      <td>99</td>\n",
       "      <td>9</td>\n",
       "      <td>9</td>\n",
       "      <td>2002</td>\n",
       "      <td>02/01/2002</td>\n",
       "      <td>9</td>\n",
       "      <td>9</td>\n",
       "      <td>RJ</td>\n",
       "      <td>C13</td>\n",
       "    </tr>\n",
       "    <tr>\n",
       "      <th>2</th>\n",
       "      <td>2</td>\n",
       "      <td>049</td>\n",
       "      <td>1</td>\n",
       "      <td>RJ</td>\n",
       "      <td>1</td>\n",
       "      <td>1</td>\n",
       "      <td>2002</td>\n",
       "      <td>21/07/2002</td>\n",
       "      <td>2</td>\n",
       "      <td>1</td>\n",
       "      <td>RJ</td>\n",
       "      <td>C49</td>\n",
       "    </tr>\n",
       "    <tr>\n",
       "      <th>3</th>\n",
       "      <td>1</td>\n",
       "      <td>066</td>\n",
       "      <td>1</td>\n",
       "      <td>RJ</td>\n",
       "      <td>9</td>\n",
       "      <td>3</td>\n",
       "      <td>2002</td>\n",
       "      <td>27/05/2002</td>\n",
       "      <td>1</td>\n",
       "      <td>1</td>\n",
       "      <td>RJ</td>\n",
       "      <td>C61</td>\n",
       "    </tr>\n",
       "    <tr>\n",
       "      <th>4</th>\n",
       "      <td>2</td>\n",
       "      <td>060</td>\n",
       "      <td>1</td>\n",
       "      <td>RJ</td>\n",
       "      <td>1</td>\n",
       "      <td>3</td>\n",
       "      <td>2002</td>\n",
       "      <td>21/08/2002</td>\n",
       "      <td>1</td>\n",
       "      <td>1</td>\n",
       "      <td>RJ</td>\n",
       "      <td>C73</td>\n",
       "    </tr>\n",
       "  </tbody>\n",
       "</table>\n",
       "</div>"
      ],
      "text/plain": [
       "   sexo idade  cor local_residencia  uso_alcool  uso_tabaco ano_diagnostico  \\\n",
       "0     2   071    1               RJ           1           1            2002   \n",
       "1     1   000    9               99           9           9            2002   \n",
       "2     2   049    1               RJ           1           1            2002   \n",
       "3     1   066    1               RJ           9           3            2002   \n",
       "4     2   060    1               RJ           1           3            2002   \n",
       "\n",
       "  data_primeiro_diagnost  historico_familiar  diagnost_trat_anterior  \\\n",
       "0             10/03/2002                   2                       1   \n",
       "1             02/01/2002                   9                       9   \n",
       "2             21/07/2002                   2                       1   \n",
       "3             27/05/2002                   1                       1   \n",
       "4             21/08/2002                   1                       1   \n",
       "\n",
       "  local_hospital codigo_doenca  \n",
       "0             RJ           C44  \n",
       "1             RJ           C13  \n",
       "2             RJ           C49  \n",
       "3             RJ           C61  \n",
       "4             RJ           C73  "
      ]
     },
     "execution_count": 5,
     "metadata": {},
     "output_type": "execute_result"
    }
   ],
   "source": [
    "dados.head()"
   ]
  },
  {
   "cell_type": "markdown",
   "metadata": {},
   "source": [
    "## Avaliação dos dados nulo no DataFrame"
   ]
  },
  {
   "cell_type": "code",
   "execution_count": 6,
   "metadata": {},
   "outputs": [
    {
     "data": {
      "text/plain": [
       "sexo                       0\n",
       "idade                      0\n",
       "cor                        0\n",
       "local_residencia           0\n",
       "uso_alcool                 0\n",
       "uso_tabaco                 0\n",
       "ano_diagnostico           32\n",
       "data_primeiro_diagnost     0\n",
       "historico_familiar         0\n",
       "diagnost_trat_anterior     0\n",
       "local_hospital             0\n",
       "codigo_doenca              3\n",
       "dtype: int64"
      ]
     },
     "execution_count": 6,
     "metadata": {},
     "output_type": "execute_result"
    }
   ],
   "source": [
    "dados.isnull().sum()"
   ]
  },
  {
   "cell_type": "markdown",
   "metadata": {},
   "source": [
    "> **Aparentemente, a quantidade de dados nulos é insignificante**. No entanto, cabe analisar mais a fundo, a seguir,  cada coluna para certificarmos se os dados estão realmente preenchidos corretamente com os valores esperados em cada coluna."
   ]
  },
  {
   "cell_type": "code",
   "execution_count": 9,
   "metadata": {},
   "outputs": [
    {
     "data": {
      "text/plain": [
       "array([2, 1, 3, 0], dtype=int64)"
      ]
     },
     "execution_count": 9,
     "metadata": {},
     "output_type": "execute_result"
    }
   ],
   "source": [
    "''' \n",
    "\n",
    "DADOS ESPERADOS:\n",
    "\n",
    "    1 (MASCULINO)\n",
    "    2 (FEMININO)\n",
    "\n",
    "'''\n",
    "\n",
    "dados.sexo.unique()"
   ]
  },
  {
   "cell_type": "code",
   "execution_count": 10,
   "metadata": {},
   "outputs": [
    {
     "data": {
      "text/plain": [
       "array(['071', '000', '049', '066', '060', '046', '080', '047', '058',\n",
       "       '055', '075', '076', '065', '068', '067', '038', '009', '048',\n",
       "       '031', '069', '013', '019', '018', '010', '016', '002', '050',\n",
       "       '090', '011', '033', '003', '083', '034', '039', '005', '054',\n",
       "       '004', '079', '036', '024', '014', '059', '074', '015', '041',\n",
       "       '025', '030', '026', '064', '035', '029', '057', '006', '078',\n",
       "       '072', '032', '081', '008', '040', '037', '027', '053', '042',\n",
       "       '028', '012', '045', '052', '044', '061', '023', '082', '017',\n",
       "       '073', '062', '063', '056', '051', '021', '043', '020', '077',\n",
       "       '070', '022', '001', '089', '087', '093', '094', '084', '085',\n",
       "       '086', '007', '088', '096', '091', '092', '097', '999', '095',\n",
       "       '100', '098', '099', '101', '-57', '-67', '102', '-55', '103',\n",
       "       '104', '110', '119', '105', '-52', '125', '108', '106', '107',\n",
       "       '-51', '122', '-59', '116', '109', '117', '128', '133', '135',\n",
       "       '115', '118', '120', '127', '134', '888', '0-1', '131', '113',\n",
       "       '114', '111', '136', '139', '138', '112', '140', '142', '159'],\n",
       "      dtype=object)"
      ]
     },
     "execution_count": 10,
     "metadata": {},
     "output_type": "execute_result"
    }
   ],
   "source": [
    "''' \n",
    "\n",
    "DADOS ESPERADOS:\n",
    "\n",
    "    VALORES ENTRE 0 E 100\n",
    "\n",
    "'''\n",
    "\n",
    "dados.idade.unique()"
   ]
  },
  {
   "cell_type": "code",
   "execution_count": 11,
   "metadata": {},
   "outputs": [
    {
     "data": {
      "text/plain": [
       "array([ 1,  9,  2,  4,  3,  5, 99], dtype=int64)"
      ]
     },
     "execution_count": 11,
     "metadata": {},
     "output_type": "execute_result"
    }
   ],
   "source": [
    "''' \n",
    "\n",
    "DADOS ESPERADOS:\n",
    "\n",
    "    1 (BRANCA)\n",
    "    2 (PRETA)\n",
    "    3 (AMARELA)\n",
    "    4 (PARDA)\n",
    "    5 (INDÍGENA)\n",
    "    9 (SEM INFORMAÇÃO)\n",
    "\n",
    "'''\n",
    "\n",
    "dados.cor.unique()"
   ]
  },
  {
   "cell_type": "code",
   "execution_count": 12,
   "metadata": {},
   "outputs": [
    {
     "data": {
      "text/plain": [
       "array(['RJ', '99', 'BA', 'SC', 'AL', 'PE', 'MG', 'SE', 'CE', 'GO', 'SP',\n",
       "       'PR', 'AM', 'MA', 'ES', 'MS', 'RS', 'PB', 'DF', 'PA', 'RO', 'RR',\n",
       "       'AC', 'MT', 'PI', 'RN', 'TO', 'AP', '77'], dtype=object)"
      ]
     },
     "execution_count": 12,
     "metadata": {},
     "output_type": "execute_result"
    }
   ],
   "source": [
    "''' \n",
    "\n",
    "DADOS ESPERADOS:\n",
    "\n",
    "    SIGLAS DOS ESTADOS BRASILEIROS\n",
    "\n",
    "'''\n",
    "\n",
    "dados.local_residencia.unique()"
   ]
  },
  {
   "cell_type": "code",
   "execution_count": 13,
   "metadata": {},
   "outputs": [
    {
     "data": {
      "text/plain": [
       "array([1, 9, 3, 8, 0, 2, 4], dtype=int64)"
      ]
     },
     "execution_count": 13,
     "metadata": {},
     "output_type": "execute_result"
    }
   ],
   "source": [
    "''' \n",
    "\n",
    "DADOS ESPERADOS:\n",
    "\n",
    "    1 (NUNCA)\n",
    "    2 (EX-CONSUMIDOR)\n",
    "    3 (SIM)\n",
    "    4 (NÃO AVALIADO)\n",
    "    8 (NÃO SE APLICA)\n",
    "    9 (SEM INFORMAÇÃO)\n",
    "\n",
    "'''\n",
    "\n",
    "dados.uso_alcool.unique()"
   ]
  },
  {
   "cell_type": "code",
   "execution_count": 14,
   "metadata": {},
   "outputs": [
    {
     "data": {
      "text/plain": [
       "0    1214354\n",
       "9    1072832\n",
       "1     905874\n",
       "3     485740\n",
       "2     277410\n",
       "4      79472\n",
       "8      47695\n",
       "Name: uso_tabaco, dtype: int64"
      ]
     },
     "execution_count": 14,
     "metadata": {},
     "output_type": "execute_result"
    }
   ],
   "source": [
    "''' \n",
    "\n",
    "DADOS ESPERADOS:\n",
    "\n",
    "    1 (NUNCA)\n",
    "    2 (EX-CONSUMIDOR)\n",
    "    3 (SIM)\n",
    "    4 (NÃO AVALIADO)\n",
    "    8 (NÃO SE APLICA)\n",
    "    9 (SEM INFORMAÇÃO)\n",
    "\n",
    "'''\n",
    "\n",
    "dados.uso_tabaco.unique()\n",
    "dados.uso_tabaco.value_counts()"
   ]
  },
  {
   "cell_type": "code",
   "execution_count": 20,
   "metadata": {},
   "outputs": [
    {
     "data": {
      "text/plain": [
       "2016    287242\n",
       "2015    285898\n",
       "2014    284851\n",
       "2017    284233\n",
       "2013    272712\n",
       "         ...  \n",
       "1969         1\n",
       "2/01         1\n",
       "1919         1\n",
       "1930         1\n",
       "1961         1\n",
       "Name: ano_diagnostico, Length: 113, dtype: int64"
      ]
     },
     "execution_count": 20,
     "metadata": {},
     "output_type": "execute_result"
    }
   ],
   "source": [
    "''' \n",
    "\n",
    "DADOS ESPERADOS:\n",
    "\n",
    "    ANOS\n",
    "\n",
    "'''\n",
    "\n",
    "dados.ano_diagnostico.unique()\n",
    "dados.ano_diagnostico.value_counts()"
   ]
  },
  {
   "cell_type": "code",
   "execution_count": 16,
   "metadata": {},
   "outputs": [],
   "source": [
    "# Ordenando os valores dos anos\n",
    "\n",
    "anos_df = ['2002', '2003', '2000', '1999', '1997', '1995', '1996', '1998',\n",
    "       '1992', '1993', '1994', '9999', '2001', '1991', '2005', '1990',\n",
    "       '1985', '1989', '1981', '1979', '2004', '2006', '1952',\n",
    "       '1984', '1986', '2007', '1987', '1971', '1980', '1988', '1982',\n",
    "       '1930', '8888', '1955', '1977', '1983', '1962', '1924', '2008',\n",
    "       '2009', '2010', '2011', '2012', '2013', '2014', '2017', '2015',\n",
    "       '2016', '2018', '2019', '1978', '1922', '1934', '1966', '1970',\n",
    "       '1959', '1976', '1975', '1932', '1919', '1973', '1926', '1939',\n",
    "       '1957', '1949', '1974', '1925', '1969', '1933',\n",
    "       '1967', '1963', '1950', '1940',\n",
    "       '1935', '1961', '1943', '1958', '1946', '1945',\n",
    "       '1964', '1927', '1953', '1944', '1936',\n",
    "        '1956', '1972', '1921', '1899', '1928',\n",
    "       '1931', '1948', '2020', '1929', '1951', '1968', '1954',\n",
    "       '1965', '2021']"
   ]
  },
  {
   "cell_type": "code",
   "execution_count": 17,
   "metadata": {},
   "outputs": [],
   "source": [
    "anos_float = [float(item) for item in anos_df]"
   ]
  },
  {
   "cell_type": "code",
   "execution_count": 18,
   "metadata": {},
   "outputs": [
    {
     "name": "stdout",
     "output_type": "stream",
     "text": [
      "[1899.0, 1919.0, 1921.0, 1922.0, 1924.0, 1925.0, 1926.0, 1927.0, 1928.0, 1929.0, 1930.0, 1931.0, 1932.0, 1933.0, 1934.0, 1935.0, 1936.0, 1939.0, 1940.0, 1943.0, 1944.0, 1945.0, 1946.0, 1948.0, 1949.0, 1950.0, 1951.0, 1952.0, 1953.0, 1954.0, 1955.0, 1956.0, 1957.0, 1958.0, 1959.0, 1961.0, 1962.0, 1963.0, 1964.0, 1965.0, 1966.0, 1967.0, 1968.0, 1969.0, 1970.0, 1971.0, 1972.0, 1973.0, 1974.0, 1975.0, 1976.0, 1977.0, 1978.0, 1979.0, 1980.0, 1981.0, 1982.0, 1983.0, 1984.0, 1985.0, 1986.0, 1987.0, 1988.0, 1989.0, 1990.0, 1991.0, 1992.0, 1993.0, 1994.0, 1995.0, 1996.0, 1997.0, 1998.0, 1999.0, 2000.0, 2001.0, 2002.0, 2003.0, 2004.0, 2005.0, 2006.0, 2007.0, 2008.0, 2009.0, 2010.0, 2011.0, 2012.0, 2013.0, 2014.0, 2015.0, 2016.0, 2017.0, 2018.0, 2019.0, 2020.0, 2021.0, 8888.0, 9999.0]\n"
     ]
    }
   ],
   "source": [
    "# Visualização de quais anos aparecem no dataset\n",
    "\n",
    "anos_float_ordenados = sorted(anos_float)\n",
    "\n",
    "print(anos_float_ordenados)"
   ]
  },
  {
   "cell_type": "code",
   "execution_count": 19,
   "metadata": {},
   "outputs": [
    {
     "data": {
      "text/plain": [
       "array(['10/03/2002', '02/01/2002', '21/07/2002', ..., '01/02/2021',\n",
       "       '04/12/1949', '24/09/2020'], dtype=object)"
      ]
     },
     "execution_count": 19,
     "metadata": {},
     "output_type": "execute_result"
    }
   ],
   "source": [
    "\n",
    "''' \n",
    "\n",
    "DADOS ESPERADOS:\n",
    "\n",
    "    DATAS\n",
    "\n",
    "'''\n",
    "\n",
    "dados.data_primeiro_diagnost.unique()"
   ]
  },
  {
   "cell_type": "code",
   "execution_count": 21,
   "metadata": {},
   "outputs": [
    {
     "data": {
      "text/plain": [
       "array([2, 9, 1, 0], dtype=int64)"
      ]
     },
     "execution_count": 21,
     "metadata": {},
     "output_type": "execute_result"
    }
   ],
   "source": [
    "''' \n",
    "\n",
    "DADOS ESPERADOS:\n",
    "\n",
    "    1 (SIM)\n",
    "    2 (NÃO)\n",
    "    9 (SEM INFORMAÇÃO)\n",
    "\n",
    "'''\n",
    "\n",
    "dados.historico_familiar.unique()"
   ]
  },
  {
   "cell_type": "code",
   "execution_count": 22,
   "metadata": {},
   "outputs": [
    {
     "data": {
      "text/plain": [
       "array([1, 9, 2, 3, 4, 0], dtype=int64)"
      ]
     },
     "execution_count": 22,
     "metadata": {},
     "output_type": "execute_result"
    }
   ],
   "source": [
    "''' \n",
    "\n",
    "DADOS ESPERADOS:\n",
    "\n",
    "    1 (SEM DIAGNÓSTICO/SEM TRATAMENTO)\n",
    "    2 (COM DIAGNÓSTICO/SEM TRATAMENTO)\n",
    "    3 (COM DIAGNÓSTICO/COM TRATAMENTO)\n",
    "    4 (OUTROS)\n",
    "    9 (SEM INFORMAÇÃO)\n",
    "\n",
    "'''\n",
    "\n",
    "dados.diagnost_trat_anterior.unique()"
   ]
  },
  {
   "cell_type": "code",
   "execution_count": 23,
   "metadata": {},
   "outputs": [
    {
     "data": {
      "text/plain": [
       "array(['RJ', 'AL', 'MG', 'SC', 'ES', 'PR', 'PE', 'PA', 'AM', 'RS', 'PB',\n",
       "       'MS', 'DF', 'CE', 'BA', 'PI', 'TO', 'SE', 'SP', 'RN', 'MT', 'MA',\n",
       "       'RO', 'AC', 'RR', 'AP', 'GO'], dtype=object)"
      ]
     },
     "execution_count": 23,
     "metadata": {},
     "output_type": "execute_result"
    }
   ],
   "source": [
    "''' \n",
    "\n",
    "DADOS ESPERADOS:\n",
    "\n",
    "    SILGAS DOS ESTADOS BRASILEIROS\n",
    "\n",
    "'''\n",
    "\n",
    "dados.local_hospital.unique()"
   ]
  },
  {
   "cell_type": "code",
   "execution_count": 24,
   "metadata": {},
   "outputs": [
    {
     "data": {
      "text/plain": [
       "array(['C44', 'C13', 'C49', 'C61', 'C73', 'C22', 'C34', 'C53', 'C42',\n",
       "       'C77', 'C48', 'C16', 'C01', 'C50', 'C21', 'C18', 'C80', 'C67',\n",
       "       'C71', 'C15', 'C56', 'C64', 'C05', 'C60', 'C32', 'C54', 'C10',\n",
       "       'C11', 'C31', 'C02', 'C00', 'C09', 'C07', 'C04', 'C40', 'C20',\n",
       "       'C19', 'C41', 'C52', 'C08', 'C06', 'C76', 'C51', 'C12', 'C23',\n",
       "       'C38', 'C24', 'C74', 'C72', 'C30', 'C03', 'C14', 'C62', 'C55',\n",
       "       'C25', 'C47', 'C75', 'C69', 'C70', 'C17', 'C65', 'C26', 'C33',\n",
       "       'C63', 'C66', 'C68', 'C37', 'C58', 'C57', 'C39', 'C90', 'C81',\n",
       "       'C83', 'C43', 'C85', 'C92', 'C82', 'C91', 'C93', 'C8', 'C45',\n",
       "       'C78', 'C', 'C46', 'C99', 'C79', 'C84', 'C88', nan, 'C97', 'C96',\n",
       "       'N62', 'E05', 'D46'], dtype=object)"
      ]
     },
     "execution_count": 24,
     "metadata": {},
     "output_type": "execute_result"
    }
   ],
   "source": [
    "''' \n",
    "\n",
    "DADOS ESPERADOS:\n",
    "\n",
    "    CÓDIGO COM UMA LETRA E 2 NÚMEROS\n",
    "\n",
    "'''\n",
    "\n",
    "dados.codigo_doenca.unique()"
   ]
  },
  {
   "cell_type": "markdown",
   "metadata": {},
   "source": [
    "> **Percebe-se que tem dados da forma diferente do esperado em praticamente em todas colunas.** Esse problema pode vir de diversas fontes: \n",
    "> * Do tipo de coleta do dado - se era para marcar a opção ou para escrever por exemplo -;\n",
    "> * Do tipo de software utilizado;\n",
    "> * Do ano da coleta;\n",
    "> * De erros humanos de digitação. "
   ]
  },
  {
   "cell_type": "markdown",
   "metadata": {},
   "source": [
    "## 01. Qual é a distribuição quantitativa de casos de câncer no Brasil?"
   ]
  },
  {
   "cell_type": "code",
   "execution_count": 66,
   "metadata": {},
   "outputs": [
    {
     "data": {
      "text/plain": [
       "Index(['sexo', 'idade', 'cor', 'local_residencia', 'uso_alcool', 'uso_tabaco',\n",
       "       'ano_diagnostico', 'data_primeiro_diagnost', 'historico_familiar',\n",
       "       'diagnost_trat_anterior', 'local_hospital', 'codigo_doenca'],\n",
       "      dtype='object')"
      ]
     },
     "execution_count": 66,
     "metadata": {},
     "output_type": "execute_result"
    }
   ],
   "source": [
    "dados.columns"
   ]
  },
  {
   "cell_type": "code",
   "execution_count": 68,
   "metadata": {},
   "outputs": [
    {
     "data": {
      "text/html": [
       "<div>\n",
       "<style scoped>\n",
       "    .dataframe tbody tr th:only-of-type {\n",
       "        vertical-align: middle;\n",
       "    }\n",
       "\n",
       "    .dataframe tbody tr th {\n",
       "        vertical-align: top;\n",
       "    }\n",
       "\n",
       "    .dataframe thead th {\n",
       "        text-align: right;\n",
       "    }\n",
       "</style>\n",
       "<table border=\"1\" class=\"dataframe\">\n",
       "  <thead>\n",
       "    <tr style=\"text-align: right;\">\n",
       "      <th></th>\n",
       "      <th>ano_diagnostico</th>\n",
       "      <th>data_primeiro_diagnost</th>\n",
       "    </tr>\n",
       "  </thead>\n",
       "  <tbody>\n",
       "    <tr>\n",
       "      <th>0</th>\n",
       "      <td>2002</td>\n",
       "      <td>10/03/2002</td>\n",
       "    </tr>\n",
       "    <tr>\n",
       "      <th>1</th>\n",
       "      <td>2002</td>\n",
       "      <td>02/01/2002</td>\n",
       "    </tr>\n",
       "    <tr>\n",
       "      <th>2</th>\n",
       "      <td>2002</td>\n",
       "      <td>21/07/2002</td>\n",
       "    </tr>\n",
       "    <tr>\n",
       "      <th>3</th>\n",
       "      <td>2002</td>\n",
       "      <td>27/05/2002</td>\n",
       "    </tr>\n",
       "    <tr>\n",
       "      <th>4</th>\n",
       "      <td>2002</td>\n",
       "      <td>21/08/2002</td>\n",
       "    </tr>\n",
       "    <tr>\n",
       "      <th>5</th>\n",
       "      <td>2002</td>\n",
       "      <td>08/05/2002</td>\n",
       "    </tr>\n",
       "    <tr>\n",
       "      <th>6</th>\n",
       "      <td>2002</td>\n",
       "      <td>11/03/2002</td>\n",
       "    </tr>\n",
       "    <tr>\n",
       "      <th>7</th>\n",
       "      <td>2002</td>\n",
       "      <td>16/10/2002</td>\n",
       "    </tr>\n",
       "    <tr>\n",
       "      <th>8</th>\n",
       "      <td>2003</td>\n",
       "      <td>14/10/2003</td>\n",
       "    </tr>\n",
       "    <tr>\n",
       "      <th>9</th>\n",
       "      <td>2003</td>\n",
       "      <td>20/05/2003</td>\n",
       "    </tr>\n",
       "    <tr>\n",
       "      <th>10</th>\n",
       "      <td>2003</td>\n",
       "      <td>17/11/2003</td>\n",
       "    </tr>\n",
       "    <tr>\n",
       "      <th>11</th>\n",
       "      <td>2000</td>\n",
       "      <td>10/01/2000</td>\n",
       "    </tr>\n",
       "    <tr>\n",
       "      <th>12</th>\n",
       "      <td>2000</td>\n",
       "      <td>11/01/2000</td>\n",
       "    </tr>\n",
       "    <tr>\n",
       "      <th>13</th>\n",
       "      <td>2000</td>\n",
       "      <td>11/01/2000</td>\n",
       "    </tr>\n",
       "    <tr>\n",
       "      <th>14</th>\n",
       "      <td>2000</td>\n",
       "      <td>11/01/2000</td>\n",
       "    </tr>\n",
       "  </tbody>\n",
       "</table>\n",
       "</div>"
      ],
      "text/plain": [
       "   ano_diagnostico data_primeiro_diagnost\n",
       "0             2002             10/03/2002\n",
       "1             2002             02/01/2002\n",
       "2             2002             21/07/2002\n",
       "3             2002             27/05/2002\n",
       "4             2002             21/08/2002\n",
       "5             2002             08/05/2002\n",
       "6             2002             11/03/2002\n",
       "7             2002             16/10/2002\n",
       "8             2003             14/10/2003\n",
       "9             2003             20/05/2003\n",
       "10            2003             17/11/2003\n",
       "11            2000             10/01/2000\n",
       "12            2000             11/01/2000\n",
       "13            2000             11/01/2000\n",
       "14            2000             11/01/2000"
      ]
     },
     "execution_count": 68,
     "metadata": {},
     "output_type": "execute_result"
    }
   ],
   "source": [
    "# Conferindo se a data do diagnóstico coicinde com o ano do diagnóstico\n",
    "\n",
    "data_ano_diagnostico = dados[['ano_diagnostico', 'data_primeiro_diagnost']]\n",
    "data_ano_diagnostico.head(15)"
   ]
  },
  {
   "cell_type": "code",
   "execution_count": 69,
   "metadata": {},
   "outputs": [
    {
     "data": {
      "text/html": [
       "<div>\n",
       "<style scoped>\n",
       "    .dataframe tbody tr th:only-of-type {\n",
       "        vertical-align: middle;\n",
       "    }\n",
       "\n",
       "    .dataframe tbody tr th {\n",
       "        vertical-align: top;\n",
       "    }\n",
       "\n",
       "    .dataframe thead th {\n",
       "        text-align: right;\n",
       "    }\n",
       "</style>\n",
       "<table border=\"1\" class=\"dataframe\">\n",
       "  <thead>\n",
       "    <tr style=\"text-align: right;\">\n",
       "      <th></th>\n",
       "      <th>ano_diagnostico</th>\n",
       "      <th>data_primeiro_diagnost</th>\n",
       "    </tr>\n",
       "  </thead>\n",
       "  <tbody>\n",
       "    <tr>\n",
       "      <th>3395</th>\n",
       "      <td>1989</td>\n",
       "      <td>04/08/1989</td>\n",
       "    </tr>\n",
       "    <tr>\n",
       "      <th>3460</th>\n",
       "      <td>1989</td>\n",
       "      <td>15/08/1989</td>\n",
       "    </tr>\n",
       "    <tr>\n",
       "      <th>4146</th>\n",
       "      <td>1989</td>\n",
       "      <td>12/12/1989</td>\n",
       "    </tr>\n",
       "    <tr>\n",
       "      <th>4980</th>\n",
       "      <td>1989</td>\n",
       "      <td>14/02/1989</td>\n",
       "    </tr>\n",
       "    <tr>\n",
       "      <th>7076</th>\n",
       "      <td>1989</td>\n",
       "      <td>05/05/1989</td>\n",
       "    </tr>\n",
       "    <tr>\n",
       "      <th>...</th>\n",
       "      <td>...</td>\n",
       "      <td>...</td>\n",
       "    </tr>\n",
       "    <tr>\n",
       "      <th>3219006</th>\n",
       "      <td>1989</td>\n",
       "      <td>30/06/1989</td>\n",
       "    </tr>\n",
       "    <tr>\n",
       "      <th>3402788</th>\n",
       "      <td>1989</td>\n",
       "      <td>30/06/1989</td>\n",
       "    </tr>\n",
       "    <tr>\n",
       "      <th>3443016</th>\n",
       "      <td>1989</td>\n",
       "      <td>01/07/1989</td>\n",
       "    </tr>\n",
       "    <tr>\n",
       "      <th>3482695</th>\n",
       "      <td>1989</td>\n",
       "      <td>30/06/1989</td>\n",
       "    </tr>\n",
       "    <tr>\n",
       "      <th>3772197</th>\n",
       "      <td>1989</td>\n",
       "      <td>30/06/1989</td>\n",
       "    </tr>\n",
       "  </tbody>\n",
       "</table>\n",
       "<p>173 rows × 2 columns</p>\n",
       "</div>"
      ],
      "text/plain": [
       "        ano_diagnostico data_primeiro_diagnost\n",
       "3395               1989             04/08/1989\n",
       "3460               1989             15/08/1989\n",
       "4146               1989             12/12/1989\n",
       "4980               1989             14/02/1989\n",
       "7076               1989             05/05/1989\n",
       "...                 ...                    ...\n",
       "3219006            1989             30/06/1989\n",
       "3402788            1989             30/06/1989\n",
       "3443016            1989             01/07/1989\n",
       "3482695            1989             30/06/1989\n",
       "3772197            1989             30/06/1989\n",
       "\n",
       "[173 rows x 2 columns]"
      ]
     },
     "execution_count": 69,
     "metadata": {},
     "output_type": "execute_result"
    }
   ],
   "source": [
    "data_ano_diagnostico.query('ano_diagnostico == \"1989\"')"
   ]
  },
  {
   "cell_type": "code",
   "execution_count": 70,
   "metadata": {},
   "outputs": [
    {
     "data": {
      "text/html": [
       "<div>\n",
       "<style scoped>\n",
       "    .dataframe tbody tr th:only-of-type {\n",
       "        vertical-align: middle;\n",
       "    }\n",
       "\n",
       "    .dataframe tbody tr th {\n",
       "        vertical-align: top;\n",
       "    }\n",
       "\n",
       "    .dataframe thead th {\n",
       "        text-align: right;\n",
       "    }\n",
       "</style>\n",
       "<table border=\"1\" class=\"dataframe\">\n",
       "  <thead>\n",
       "    <tr style=\"text-align: right;\">\n",
       "      <th></th>\n",
       "      <th>ano_diagnostico</th>\n",
       "    </tr>\n",
       "  </thead>\n",
       "  <tbody>\n",
       "    <tr>\n",
       "      <th>0</th>\n",
       "      <td>2002</td>\n",
       "    </tr>\n",
       "    <tr>\n",
       "      <th>1</th>\n",
       "      <td>2002</td>\n",
       "    </tr>\n",
       "    <tr>\n",
       "      <th>2</th>\n",
       "      <td>2002</td>\n",
       "    </tr>\n",
       "    <tr>\n",
       "      <th>3</th>\n",
       "      <td>2002</td>\n",
       "    </tr>\n",
       "    <tr>\n",
       "      <th>4</th>\n",
       "      <td>2002</td>\n",
       "    </tr>\n",
       "  </tbody>\n",
       "</table>\n",
       "</div>"
      ],
      "text/plain": [
       "  ano_diagnostico\n",
       "0            2002\n",
       "1            2002\n",
       "2            2002\n",
       "3            2002\n",
       "4            2002"
      ]
     },
     "execution_count": 70,
     "metadata": {},
     "output_type": "execute_result"
    }
   ],
   "source": [
    "gf_ano = dados[['ano_diagnostico']]\n",
    "gf_ano.head()"
   ]
  },
  {
   "cell_type": "code",
   "execution_count": 71,
   "metadata": {},
   "outputs": [],
   "source": [
    "# Retirando valores fora do esperado\n",
    "\n",
    "gf_ano1 = gf_ano.drop(gf_ano.loc[\n",
    "                     (gf_ano['ano_diagnostico'] == '9999') |\n",
    "                     (gf_ano['ano_diagnostico'] == '8888') | \n",
    "                     (gf_ano['ano_diagnostico'] == '3/02') | \n",
    "                     (gf_ano['ano_diagnostico'] == '2/01') | \n",
    "                     (gf_ano['ano_diagnostico'] == '0/03') |  \n",
    "                     (gf_ano['ano_diagnostico'] == '5/03') | \n",
    "                     (gf_ano['ano_diagnostico'] == '2/02') |  \n",
    "                     (gf_ano['ano_diagnostico'] == '8/03') |  \n",
    "                     (gf_ano['ano_diagnostico'] == '2/03') |  \n",
    "                     (gf_ano['ano_diagnostico'] == '1/01') |   \n",
    "                     (gf_ano['ano_diagnostico'] == '4/00') | \n",
    "                     (gf_ano['ano_diagnostico'] == '1/06') | \n",
    "                     (gf_ano['ano_diagnostico'] == '3/06') | \n",
    "                     (gf_ano['ano_diagnostico'] == '0/07') | \n",
    "                     (gf_ano['ano_diagnostico'] == '2/07') | \n",
    "                     (gf_ano['ano_diagnostico'] == '4/08') | \n",
    "                     (gf_ano['ano_diagnostico'] == '5/09')].index\n",
    "                     )"
   ]
  },
  {
   "cell_type": "code",
   "execution_count": 72,
   "metadata": {},
   "outputs": [
    {
     "data": {
      "text/plain": [
       "array(['2002', '2003', '2000', '1999', '1997', '1995', '1996', '1998',\n",
       "       '1992', '1993', '1994', '2001', '1991', '2005', '1990', '1985',\n",
       "       '1989', '1981', '1979', '2004', '2006', '1952', '1984', '1986',\n",
       "       '2007', '1987', '1971', '1980', '1988', '1982', '1930', '1955',\n",
       "       '1977', '1983', '1962', '1924', '2008', '2009', '2010', '2011',\n",
       "       '2012', '2013', '2014', '2017', '2015', '2016', '2018', '2019',\n",
       "       '1978', '1922', '1934', '1966', '1970', '1959', '1976', '1975',\n",
       "       '1932', '1919', '1973', '1926', '1939', '1957', '1949', '1974',\n",
       "       '1925', '1969', '1933', '1967', '1963', '1950', '1940', '1935',\n",
       "       '1961', '1943', '1958', '1946', '1945', '1964', '1927', '1953',\n",
       "       '1944', '1936', '1956', '1972', '1921', '1899', '1928', '1931',\n",
       "       '1948', '2020', '1929', '1951', '1968', '1954', '1965', '2021'],\n",
       "      dtype=object)"
      ]
     },
     "execution_count": 72,
     "metadata": {},
     "output_type": "execute_result"
    }
   ],
   "source": [
    "# Reirando valores 'nan'\n",
    "\n",
    "gf_ano2 = gf_ano1.dropna()\n",
    "gf_ano2.ano_diagnostico.unique()"
   ]
  },
  {
   "cell_type": "code",
   "execution_count": 73,
   "metadata": {},
   "outputs": [
    {
     "data": {
      "text/plain": [
       "array(['1899', '1919', '1921', '1922', '1924', '1925', '1926', '1927',\n",
       "       '1928', '1929', '1930', '1931', '1932', '1933', '1934', '1935',\n",
       "       '1936', '1939', '1940', '1943', '1944', '1945', '1946', '1948',\n",
       "       '1949', '1950', '1951', '1952', '1953', '1954', '1955', '1956',\n",
       "       '1957', '1958', '1959', '1961', '1962', '1963', '1964', '1965',\n",
       "       '1966', '1967', '1968', '1969', '1970', '1971', '1972', '1973',\n",
       "       '1974', '1975', '1976', '1977', '1978', '1979', '1980', '1981',\n",
       "       '1982', '1983', '1984', '1985', '1986', '1987', '1988', '1989',\n",
       "       '1990', '1991', '1992', '1993', '1994', '1995', '1996', '1997',\n",
       "       '1998', '1999', '2000', '2001', '2002', '2003', '2004', '2005',\n",
       "       '2006', '2007', '2008', '2009', '2010', '2011', '2012', '2013',\n",
       "       '2014', '2015', '2016', '2017', '2018', '2019', '2020', '2021'],\n",
       "      dtype=object)"
      ]
     },
     "execution_count": 73,
     "metadata": {},
     "output_type": "execute_result"
    }
   ],
   "source": [
    "gf_ano3 = gf_ano2.sort_values(by= ['ano_diagnostico'])\n",
    "gf_ano3.ano_diagnostico.unique()"
   ]
  },
  {
   "cell_type": "code",
   "execution_count": 78,
   "metadata": {},
   "outputs": [
    {
     "data": {
      "text/html": [
       "<div>\n",
       "<style scoped>\n",
       "    .dataframe tbody tr th:only-of-type {\n",
       "        vertical-align: middle;\n",
       "    }\n",
       "\n",
       "    .dataframe tbody tr th {\n",
       "        vertical-align: top;\n",
       "    }\n",
       "\n",
       "    .dataframe thead th {\n",
       "        text-align: right;\n",
       "    }\n",
       "</style>\n",
       "<table border=\"1\" class=\"dataframe\">\n",
       "  <thead>\n",
       "    <tr style=\"text-align: right;\">\n",
       "      <th></th>\n",
       "      <th>ano_diagnostico</th>\n",
       "      <th>quantidade</th>\n",
       "    </tr>\n",
       "  </thead>\n",
       "  <tbody>\n",
       "    <tr>\n",
       "      <th>40</th>\n",
       "      <td>1899</td>\n",
       "      <td>36</td>\n",
       "    </tr>\n",
       "    <tr>\n",
       "      <th>87</th>\n",
       "      <td>1919</td>\n",
       "      <td>1</td>\n",
       "    </tr>\n",
       "    <tr>\n",
       "      <th>77</th>\n",
       "      <td>1921</td>\n",
       "      <td>2</td>\n",
       "    </tr>\n",
       "    <tr>\n",
       "      <th>75</th>\n",
       "      <td>1922</td>\n",
       "      <td>2</td>\n",
       "    </tr>\n",
       "    <tr>\n",
       "      <th>93</th>\n",
       "      <td>1924</td>\n",
       "      <td>1</td>\n",
       "    </tr>\n",
       "  </tbody>\n",
       "</table>\n",
       "</div>"
      ],
      "text/plain": [
       "   ano_diagnostico  quantidade\n",
       "40            1899          36\n",
       "87            1919           1\n",
       "77            1921           2\n",
       "75            1922           2\n",
       "93            1924           1"
      ]
     },
     "execution_count": 78,
     "metadata": {},
     "output_type": "execute_result"
    }
   ],
   "source": [
    "quantidade_ano = gf_ano3['ano_diagnostico'].value_counts().to_frame().reset_index()\n",
    "quantidade_ano.columns = ['ano_diagnostico', 'quantidade']\n",
    "quantidade_ano2 = quantidade_ano.sort_values(by = 'ano_diagnostico')\n",
    "quantidade_ano2.head()"
   ]
  },
  {
   "cell_type": "code",
   "execution_count": 81,
   "metadata": {},
   "outputs": [
    {
     "data": {
      "image/png": "[encoded data removed]",
      "text/plain": [
       "<Figure size 1440x360 with 1 Axes>"
      ]
     },
     "metadata": {
      "needs_background": "light"
     },
     "output_type": "display_data"
    }
   ],
   "source": [
    "plt.figure(figsize = (20, 5))\n",
    "\n",
    "sns.barplot (x = quantidade_ano2['ano_diagnostico'],\n",
    "             y = quantidade_ano['quantidade'],\n",
    "             palette = \"GnBu_d\")\n",
    "\n",
    "plt.xticks(rotation = 90)\n",
    "plt.show()"
   ]
  },
  {
   "cell_type": "code",
   "execution_count": null,
   "metadata": {},
   "outputs": [],
   "source": [
    "# PRÓXIMO PASSO: delimitar a análise nos anos de 2000 a 2020"
   ]
  }
 ],
 "metadata": {
  "interpreter": {
   "hash": "8fac594bfae6525c0c41b4041d2d72effa188cc8ead05f81b1fab2bb098927fb"
  },
  "kernelspec": {
   "display_name": "Python 3.9.7 64-bit ('base': conda)",
   "language": "python",
   "name": "python3"
  },
  "language_info": {
   "codemirror_mode": {
    "name": "ipython",
    "version": 3
   },
   "file_extension": ".py",
   "mimetype": "text/x-python",
   "name": "python",
   "nbconvert_exporter": "python",
   "pygments_lexer": "ipython3",
   "version": "3.9.7"
  },
  "orig_nbformat": 4
 },
 "nbformat": 4,
 "nbformat_minor": 2
}
