{
 "cells": [
  {
   "cell_type": "code",
   "execution_count": 1,
   "metadata": {},
   "outputs": [],
   "source": [
    "import pandas as pd"
   ]
  },
  {
   "cell_type": "code",
   "execution_count": 11,
   "metadata": {},
   "outputs": [
    {
     "name": "stdout",
     "output_type": "stream",
     "text": [
      "Collecting dbfread\n",
      "  Downloading dbfread-2.0.7-py2.py3-none-any.whl (20 kB)\n",
      "Installing collected packages: dbfread\n",
      "Successfully installed dbfread-2.0.7\n"
     ]
    }
   ],
   "source": [
    "!pip install dbfread"
   ]
  },
  {
   "cell_type": "code",
   "execution_count": 12,
   "metadata": {},
   "outputs": [],
   "source": [
    "from dbfread import DBF "
   ]
  },
  {
   "cell_type": "code",
   "execution_count": null,
   "metadata": {},
   "outputs": [],
   "source": [
    "data00 = DBF('rhc00.dbf', encoding = 'latin-1')\n",
    "dt00 = pd.DataFrame(iter(data00))\n",
    "dt00.head()"
   ]
  },
  {
   "cell_type": "code",
   "execution_count": 36,
   "metadata": {},
   "outputs": [],
   "source": [
    "data01 = DBF('rhc01.dbf', encoding = 'latin-1')\n",
    "dt01 = pd.DataFrame(iter(data01))\n",
    "dt01.head()"
   ]
  },
  {
   "cell_type": "code",
   "execution_count": null,
   "metadata": {},
   "outputs": [],
   "source": [
    "data02 = DBF('rhc02.dbf', encoding = 'latin-1')\n",
    "dt02 = pd.DataFrame(iter(data02))\n",
    "dt02.head()"
   ]
  },
  {
   "cell_type": "code",
   "execution_count": null,
   "metadata": {},
   "outputs": [],
   "source": [
    "data03 = DBF('rhc03.dbf', encoding = 'latin-1')\n",
    "dt03 = pd.DataFrame(iter(data03))\n",
    "dt03.head()"
   ]
  },
  {
   "cell_type": "code",
   "execution_count": null,
   "metadata": {},
   "outputs": [],
   "source": [
    "data04 = DBF('rhc04.dbf', encoding = 'latin-1')\n",
    "dt04 = pd.DataFrame(iter(data04))\n",
    "dt04.head()"
   ]
  },
  {
   "cell_type": "code",
   "execution_count": null,
   "metadata": {},
   "outputs": [],
   "source": [
    "data05 = DBF('rhc05.dbf', encoding = 'latin-1')\n",
    "dt05 = pd.DataFrame(iter(data05))\n",
    "dt05.head()"
   ]
  },
  {
   "cell_type": "code",
   "execution_count": null,
   "metadata": {},
   "outputs": [],
   "source": [
    "data06 = DBF('rhc06.dbf', encoding = 'latin-1')\n",
    "dt06 = pd.DataFrame(iter(data06))\n",
    "dt06.head()"
   ]
  },
  {
   "cell_type": "code",
   "execution_count": null,
   "metadata": {},
   "outputs": [],
   "source": [
    "data07 = DBF('rhc07.dbf', encoding = 'latin-1')\n",
    "dt07 = pd.DataFrame(iter(data07))\n",
    "dt07.head()"
   ]
  },
  {
   "cell_type": "code",
   "execution_count": null,
   "metadata": {},
   "outputs": [],
   "source": [
    "data08 = DBF('rhc08.dbf', encoding = 'latin-1')\n",
    "dt08 = pd.DataFrame(iter(data08))\n",
    "dt08.head()"
   ]
  },
  {
   "cell_type": "code",
   "execution_count": null,
   "metadata": {},
   "outputs": [],
   "source": [
    "data09 = DBF('rhc09.dbf', encoding = 'latin-1')\n",
    "dt09 = pd.DataFrame(iter(data09))\n",
    "dt09.head()"
   ]
  },
  {
   "cell_type": "code",
   "execution_count": null,
   "metadata": {},
   "outputs": [],
   "source": [
    "data10 = DBF('rhc10.dbf', encoding = 'latin-1')\n",
    "dt10 = pd.DataFrame(iter(data10))\n",
    "dt10.head()"
   ]
  },
  {
   "cell_type": "code",
   "execution_count": null,
   "metadata": {},
   "outputs": [],
   "source": [
    "data11 = DBF('rhc11.dbf', encoding = 'latin-1')\n",
    "dt11 = pd.DataFrame(iter(data11))\n",
    "dt11.head()"
   ]
  },
  {
   "cell_type": "code",
   "execution_count": null,
   "metadata": {},
   "outputs": [],
   "source": [
    "data12 = DBF('rhc12.dbf', encoding = 'latin-1')\n",
    "dt12 = pd.DataFrame(iter(data12))\n",
    "dt12.head()"
   ]
  },
  {
   "cell_type": "code",
   "execution_count": null,
   "metadata": {},
   "outputs": [],
   "source": [
    "data13 = DBF('rhc13.dbf', encoding = 'latin-1')\n",
    "dt13 = pd.DataFrame(iter(data13))\n",
    "dt13.head()"
   ]
  },
  {
   "cell_type": "code",
   "execution_count": null,
   "metadata": {},
   "outputs": [],
   "source": [
    "data14 = DBF('rhc14.dbf', encoding = 'latin-1')\n",
    "dt14 = pd.DataFrame(iter(data14))\n",
    "dt14.head()"
   ]
  },
  {
   "cell_type": "code",
   "execution_count": null,
   "metadata": {},
   "outputs": [],
   "source": [
    "data15 = DBF('rhc15.dbf', encoding = 'latin-1')\n",
    "dt15 = pd.DataFrame(iter(data15))\n",
    "dt15.head()"
   ]
  },
  {
   "cell_type": "code",
   "execution_count": null,
   "metadata": {},
   "outputs": [],
   "source": [
    "data16 = DBF('rhc16.dbf', encoding = 'latin-1')\n",
    "dt16 = pd.DataFrame(iter(data16))\n",
    "dt16.head()"
   ]
  },
  {
   "cell_type": "code",
   "execution_count": null,
   "metadata": {},
   "outputs": [],
   "source": [
    "data17 = DBF('rhc17.dbf', encoding = 'latin-1')\n",
    "dt17 = pd.DataFrame(iter(data17))\n",
    "dt17.head()"
   ]
  },
  {
   "cell_type": "code",
   "execution_count": null,
   "metadata": {},
   "outputs": [],
   "source": [
    "data18 = DBF('rhc18.dbf', encoding = 'latin-1')\n",
    "dt18 = pd.DataFrame(iter(data18))\n",
    "dt18.head()"
   ]
  },
  {
   "cell_type": "code",
   "execution_count": null,
   "metadata": {},
   "outputs": [],
   "source": [
    "data19 = DBF('rhc19.dbf', encoding = 'latin-1')\n",
    "dt19 = pd.DataFrame(iter(data19))\n",
    "dt19.head()"
   ]
  }
 ],
 "metadata": {
  "interpreter": {
   "hash": "8fac594bfae6525c0c41b4041d2d72effa188cc8ead05f81b1fab2bb098927fb"
  },
  "kernelspec": {
   "display_name": "Python 3.9.7 64-bit ('base': conda)",
   "language": "python",
   "name": "python3"
  },
  "language_info": {
   "codemirror_mode": {
    "name": "ipython",
    "version": 3
   },
   "file_extension": ".py",
   "mimetype": "text/x-python",
   "name": "python",
   "nbconvert_exporter": "python",
   "pygments_lexer": "ipython3",
   "version": "3.9.7"
  },
  "orig_nbformat": 4
 },
 "nbformat": 4,
 "nbformat_minor": 2
}
