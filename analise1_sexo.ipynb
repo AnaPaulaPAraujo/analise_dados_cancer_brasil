{
 "cells": [
  {
   "cell_type": "code",
   "execution_count": 1,
   "metadata": {},
   "outputs": [],
   "source": [
    "import pandas as pd\n",
    "import matplotlib.pyplot as plt\n",
    "import seaborn as sns"
   ]
  },
  {
   "cell_type": "code",
   "execution_count": 26,
   "metadata": {},
   "outputs": [],
   "source": [
    "dados1 = pd.read_csv('Data/data_cancer_2005_2019.csv', sep = ',', encoding = 'utf-8', low_memory = False)"
   ]
  },
  {
   "cell_type": "code",
   "execution_count": 27,
   "metadata": {},
   "outputs": [
    {
     "name": "stdout",
     "output_type": "stream",
     "text": [
      "<class 'pandas.core.frame.DataFrame'>\n",
      "RangeIndex: 957959 entries, 0 to 957958\n",
      "Data columns (total 11 columns):\n",
      " #   Column             Non-Null Count   Dtype  \n",
      "---  ------             --------------   -----  \n",
      " 0   Unnamed: 0         957959 non-null  int64  \n",
      " 1   codigo_paciente    957959 non-null  int64  \n",
      " 2   local_atendimento  957959 non-null  object \n",
      " 3   sexo               957959 non-null  object \n",
      " 4   idade              906892 non-null  float64\n",
      " 5   cor                957959 non-null  object \n",
      " 6   nacionalidade      570600 non-null  object \n",
      " 7   estado_nascimento  572603 non-null  object \n",
      " 8   estado             957923 non-null  object \n",
      " 9   data               957958 non-null  object \n",
      " 10  data_obito         328005 non-null  object \n",
      "dtypes: float64(1), int64(2), object(8)\n",
      "memory usage: 80.4+ MB\n"
     ]
    }
   ],
   "source": [
    "dados1.info()"
   ]
  },
  {
   "cell_type": "code",
   "execution_count": 28,
   "metadata": {},
   "outputs": [
    {
     "data": {
      "text/html": [
       "<div>\n",
       "<style scoped>\n",
       "    .dataframe tbody tr th:only-of-type {\n",
       "        vertical-align: middle;\n",
       "    }\n",
       "\n",
       "    .dataframe tbody tr th {\n",
       "        vertical-align: top;\n",
       "    }\n",
       "\n",
       "    .dataframe thead th {\n",
       "        text-align: right;\n",
       "    }\n",
       "</style>\n",
       "<table border=\"1\" class=\"dataframe\">\n",
       "  <thead>\n",
       "    <tr style=\"text-align: right;\">\n",
       "      <th></th>\n",
       "      <th>Unnamed: 0</th>\n",
       "      <th>codigo_paciente</th>\n",
       "      <th>local_atendimento</th>\n",
       "      <th>sexo</th>\n",
       "      <th>idade</th>\n",
       "      <th>cor</th>\n",
       "      <th>nacionalidade</th>\n",
       "      <th>estado_nascimento</th>\n",
       "      <th>estado</th>\n",
       "      <th>data</th>\n",
       "      <th>data_obito</th>\n",
       "    </tr>\n",
       "  </thead>\n",
       "  <tbody>\n",
       "    <tr>\n",
       "      <th>0</th>\n",
       "      <td>0</td>\n",
       "      <td>672054</td>\n",
       "      <td>RCBP CAMPINAS-UNICAMP</td>\n",
       "      <td>MASCULINO</td>\n",
       "      <td>30.0</td>\n",
       "      <td>BRANCO</td>\n",
       "      <td>BRASIL</td>\n",
       "      <td>SÃO PAULO</td>\n",
       "      <td>SÃO PAULO</td>\n",
       "      <td>07/10/2005</td>\n",
       "      <td>07/10/2005</td>\n",
       "    </tr>\n",
       "    <tr>\n",
       "      <th>1</th>\n",
       "      <td>1</td>\n",
       "      <td>673745</td>\n",
       "      <td>RCBP CAMPINAS-UNICAMP</td>\n",
       "      <td>MASCULINO</td>\n",
       "      <td>71.0</td>\n",
       "      <td>BRANCO</td>\n",
       "      <td>BRASIL</td>\n",
       "      <td>SÃO PAULO</td>\n",
       "      <td>SÃO PAULO</td>\n",
       "      <td>21/10/2005</td>\n",
       "      <td>21/10/2005</td>\n",
       "    </tr>\n",
       "    <tr>\n",
       "      <th>2</th>\n",
       "      <td>2</td>\n",
       "      <td>676350</td>\n",
       "      <td>RCBP CAMPINAS-UNICAMP</td>\n",
       "      <td>MASCULINO</td>\n",
       "      <td>71.0</td>\n",
       "      <td>BRANCO</td>\n",
       "      <td>BRASIL</td>\n",
       "      <td>SÃO PAULO</td>\n",
       "      <td>SÃO PAULO</td>\n",
       "      <td>06/11/2005</td>\n",
       "      <td>06/11/2005</td>\n",
       "    </tr>\n",
       "    <tr>\n",
       "      <th>3</th>\n",
       "      <td>3</td>\n",
       "      <td>679877</td>\n",
       "      <td>RCBP CAMPINAS-UNICAMP</td>\n",
       "      <td>FEMININO</td>\n",
       "      <td>57.0</td>\n",
       "      <td>PARDA</td>\n",
       "      <td>BRASIL</td>\n",
       "      <td>ALAGOAS</td>\n",
       "      <td>SÃO PAULO</td>\n",
       "      <td>15/05/2005</td>\n",
       "      <td>15/05/2005</td>\n",
       "    </tr>\n",
       "    <tr>\n",
       "      <th>4</th>\n",
       "      <td>4</td>\n",
       "      <td>676553</td>\n",
       "      <td>RCBP CAMPINAS-UNICAMP</td>\n",
       "      <td>MASCULINO</td>\n",
       "      <td>52.0</td>\n",
       "      <td>BRANCO</td>\n",
       "      <td>BRASIL</td>\n",
       "      <td>SÃO PAULO</td>\n",
       "      <td>SÃO PAULO</td>\n",
       "      <td>24/02/2005</td>\n",
       "      <td>24/02/2005</td>\n",
       "    </tr>\n",
       "  </tbody>\n",
       "</table>\n",
       "</div>"
      ],
      "text/plain": [
       "   Unnamed: 0  codigo_paciente      local_atendimento       sexo  idade  \\\n",
       "0           0           672054  RCBP CAMPINAS-UNICAMP  MASCULINO   30.0   \n",
       "1           1           673745  RCBP CAMPINAS-UNICAMP  MASCULINO   71.0   \n",
       "2           2           676350  RCBP CAMPINAS-UNICAMP  MASCULINO   71.0   \n",
       "3           3           679877  RCBP CAMPINAS-UNICAMP   FEMININO   57.0   \n",
       "4           4           676553  RCBP CAMPINAS-UNICAMP  MASCULINO   52.0   \n",
       "\n",
       "      cor nacionalidade estado_nascimento     estado        data  data_obito  \n",
       "0  BRANCO        BRASIL         SÃO PAULO  SÃO PAULO  07/10/2005  07/10/2005  \n",
       "1  BRANCO        BRASIL         SÃO PAULO  SÃO PAULO  21/10/2005  21/10/2005  \n",
       "2  BRANCO        BRASIL         SÃO PAULO  SÃO PAULO  06/11/2005  06/11/2005  \n",
       "3   PARDA        BRASIL           ALAGOAS  SÃO PAULO  15/05/2005  15/05/2005  \n",
       "4  BRANCO        BRASIL         SÃO PAULO  SÃO PAULO  24/02/2005  24/02/2005  "
      ]
     },
     "execution_count": 28,
     "metadata": {},
     "output_type": "execute_result"
    }
   ],
   "source": [
    "dados1.head()"
   ]
  },
  {
   "cell_type": "code",
   "execution_count": 4,
   "metadata": {},
   "outputs": [
    {
     "data": {
      "text/plain": [
       "Index(['Unnamed: 0', 'codigo_paciente', 'local_atendimento', 'sexo', 'idade',\n",
       "       'cor', 'nacionalidade', 'estado_nascimento', 'estado', 'data',\n",
       "       'data_obito'],\n",
       "      dtype='object')"
      ]
     },
     "execution_count": 4,
     "metadata": {},
     "output_type": "execute_result"
    }
   ],
   "source": [
    "dados1.columns"
   ]
  },
  {
   "cell_type": "code",
   "execution_count": 29,
   "metadata": {},
   "outputs": [],
   "source": [
    "dados2 = dados1[[\n",
    "    'codigo_paciente', 'local_atendimento', 'sexo', 'idade',\n",
    "    'cor', 'nacionalidade', 'estado_nascimento', 'estado', 'data',\n",
    "    'data_obito'\n",
    "]]"
   ]
  },
  {
   "cell_type": "code",
   "execution_count": 17,
   "metadata": {},
   "outputs": [
    {
     "data": {
      "text/html": [
       "<div>\n",
       "<style scoped>\n",
       "    .dataframe tbody tr th:only-of-type {\n",
       "        vertical-align: middle;\n",
       "    }\n",
       "\n",
       "    .dataframe tbody tr th {\n",
       "        vertical-align: top;\n",
       "    }\n",
       "\n",
       "    .dataframe thead th {\n",
       "        text-align: right;\n",
       "    }\n",
       "</style>\n",
       "<table border=\"1\" class=\"dataframe\">\n",
       "  <thead>\n",
       "    <tr style=\"text-align: right;\">\n",
       "      <th></th>\n",
       "      <th>codigo_paciente</th>\n",
       "      <th>local_atendimento</th>\n",
       "      <th>sexo</th>\n",
       "      <th>idade</th>\n",
       "      <th>cor</th>\n",
       "      <th>nacionalidade</th>\n",
       "      <th>estado_nascimento</th>\n",
       "      <th>estado</th>\n",
       "      <th>data</th>\n",
       "      <th>data_obito</th>\n",
       "    </tr>\n",
       "  </thead>\n",
       "  <tbody>\n",
       "    <tr>\n",
       "      <th>0</th>\n",
       "      <td>672054</td>\n",
       "      <td>RCBP CAMPINAS-UNICAMP</td>\n",
       "      <td>MASCULINO</td>\n",
       "      <td>30.0</td>\n",
       "      <td>BRANCO</td>\n",
       "      <td>BRASIL</td>\n",
       "      <td>SÃO PAULO</td>\n",
       "      <td>SÃO PAULO</td>\n",
       "      <td>07/10/2005</td>\n",
       "      <td>07/10/2005</td>\n",
       "    </tr>\n",
       "    <tr>\n",
       "      <th>1</th>\n",
       "      <td>673745</td>\n",
       "      <td>RCBP CAMPINAS-UNICAMP</td>\n",
       "      <td>MASCULINO</td>\n",
       "      <td>71.0</td>\n",
       "      <td>BRANCO</td>\n",
       "      <td>BRASIL</td>\n",
       "      <td>SÃO PAULO</td>\n",
       "      <td>SÃO PAULO</td>\n",
       "      <td>21/10/2005</td>\n",
       "      <td>21/10/2005</td>\n",
       "    </tr>\n",
       "    <tr>\n",
       "      <th>2</th>\n",
       "      <td>676350</td>\n",
       "      <td>RCBP CAMPINAS-UNICAMP</td>\n",
       "      <td>MASCULINO</td>\n",
       "      <td>71.0</td>\n",
       "      <td>BRANCO</td>\n",
       "      <td>BRASIL</td>\n",
       "      <td>SÃO PAULO</td>\n",
       "      <td>SÃO PAULO</td>\n",
       "      <td>06/11/2005</td>\n",
       "      <td>06/11/2005</td>\n",
       "    </tr>\n",
       "    <tr>\n",
       "      <th>3</th>\n",
       "      <td>679877</td>\n",
       "      <td>RCBP CAMPINAS-UNICAMP</td>\n",
       "      <td>FEMININO</td>\n",
       "      <td>57.0</td>\n",
       "      <td>PARDA</td>\n",
       "      <td>BRASIL</td>\n",
       "      <td>ALAGOAS</td>\n",
       "      <td>SÃO PAULO</td>\n",
       "      <td>15/05/2005</td>\n",
       "      <td>15/05/2005</td>\n",
       "    </tr>\n",
       "    <tr>\n",
       "      <th>4</th>\n",
       "      <td>676553</td>\n",
       "      <td>RCBP CAMPINAS-UNICAMP</td>\n",
       "      <td>MASCULINO</td>\n",
       "      <td>52.0</td>\n",
       "      <td>BRANCO</td>\n",
       "      <td>BRASIL</td>\n",
       "      <td>SÃO PAULO</td>\n",
       "      <td>SÃO PAULO</td>\n",
       "      <td>24/02/2005</td>\n",
       "      <td>24/02/2005</td>\n",
       "    </tr>\n",
       "  </tbody>\n",
       "</table>\n",
       "</div>"
      ],
      "text/plain": [
       "   codigo_paciente      local_atendimento       sexo  idade     cor  \\\n",
       "0           672054  RCBP CAMPINAS-UNICAMP  MASCULINO   30.0  BRANCO   \n",
       "1           673745  RCBP CAMPINAS-UNICAMP  MASCULINO   71.0  BRANCO   \n",
       "2           676350  RCBP CAMPINAS-UNICAMP  MASCULINO   71.0  BRANCO   \n",
       "3           679877  RCBP CAMPINAS-UNICAMP   FEMININO   57.0   PARDA   \n",
       "4           676553  RCBP CAMPINAS-UNICAMP  MASCULINO   52.0  BRANCO   \n",
       "\n",
       "  nacionalidade estado_nascimento     estado        data  data_obito  \n",
       "0        BRASIL         SÃO PAULO  SÃO PAULO  07/10/2005  07/10/2005  \n",
       "1        BRASIL         SÃO PAULO  SÃO PAULO  21/10/2005  21/10/2005  \n",
       "2        BRASIL         SÃO PAULO  SÃO PAULO  06/11/2005  06/11/2005  \n",
       "3        BRASIL           ALAGOAS  SÃO PAULO  15/05/2005  15/05/2005  \n",
       "4        BRASIL         SÃO PAULO  SÃO PAULO  24/02/2005  24/02/2005  "
      ]
     },
     "execution_count": 17,
     "metadata": {},
     "output_type": "execute_result"
    }
   ],
   "source": [
    "dados2.head()"
   ]
  },
  {
   "cell_type": "code",
   "execution_count": 31,
   "metadata": {},
   "outputs": [
    {
     "name": "stdout",
     "output_type": "stream",
     "text": [
      "<class 'pandas.core.frame.DataFrame'>\n",
      "RangeIndex: 957959 entries, 0 to 957958\n",
      "Data columns (total 10 columns):\n",
      " #   Column             Non-Null Count   Dtype  \n",
      "---  ------             --------------   -----  \n",
      " 0   codigo_paciente    957959 non-null  int64  \n",
      " 1   local_atendimento  957959 non-null  object \n",
      " 2   sexo               957959 non-null  object \n",
      " 3   idade              906892 non-null  float64\n",
      " 4   cor                957959 non-null  object \n",
      " 5   nacionalidade      570600 non-null  object \n",
      " 6   estado_nascimento  572603 non-null  object \n",
      " 7   estado             957923 non-null  object \n",
      " 8   data               957958 non-null  object \n",
      " 9   data_obito         328005 non-null  object \n",
      "dtypes: float64(1), int64(1), object(8)\n",
      "memory usage: 73.1+ MB\n"
     ]
    }
   ],
   "source": [
    "dados2.info()"
   ]
  },
  {
   "cell_type": "code",
   "execution_count": 13,
   "metadata": {},
   "outputs": [
    {
     "data": {
      "text/plain": [
       "array(['MASCULINO', 'FEMININO', 'IGNORADO'], dtype=object)"
      ]
     },
     "execution_count": 13,
     "metadata": {},
     "output_type": "execute_result"
    }
   ],
   "source": [
    "dados2.sexo.unique()"
   ]
  },
  {
   "cell_type": "code",
   "execution_count": 15,
   "metadata": {},
   "outputs": [
    {
     "data": {
      "text/plain": [
       "codigo_paciente           0\n",
       "local_atendimento         0\n",
       "sexo                      0\n",
       "idade                 51067\n",
       "cor                       0\n",
       "nacionalidade        387359\n",
       "estado_nascimento    385356\n",
       "estado                   36\n",
       "data                      1\n",
       "data_obito           629954\n",
       "dtype: int64"
      ]
     },
     "execution_count": 15,
     "metadata": {},
     "output_type": "execute_result"
    }
   ],
   "source": [
    "dados2.isnull().sum()"
   ]
  },
  {
   "cell_type": "code",
   "execution_count": 43,
   "metadata": {},
   "outputs": [
    {
     "data": {
      "text/plain": [
       "FEMININO     527913\n",
       "MASCULINO    429937\n",
       "IGNORADO        109\n",
       "Name: sexo, dtype: int64"
      ]
     },
     "execution_count": 43,
     "metadata": {},
     "output_type": "execute_result"
    }
   ],
   "source": [
    "dados2['sexo'].value_counts()"
   ]
  },
  {
   "cell_type": "code",
   "execution_count": 54,
   "metadata": {},
   "outputs": [
    {
     "data": {
      "text/plain": [
       "Int64Index([327812, 327930, 328163, 359642, 359734, 359770, 359782, 359787,\n",
       "            360186, 360641,\n",
       "            ...\n",
       "            926012, 926045, 926053, 926091, 926156, 926532, 926808, 941094,\n",
       "            943153, 951730],\n",
       "           dtype='int64', length=109)"
      ]
     },
     "execution_count": 54,
     "metadata": {},
     "output_type": "execute_result"
    }
   ],
   "source": [
    "sexos = dados2[dados2['sexo'] == 'IGNORADO'].index\n",
    "sexos"
   ]
  },
  {
   "cell_type": "code",
   "execution_count": 55,
   "metadata": {},
   "outputs": [],
   "source": [
    "sexos_masc_fem = dados2.drop(sexos)"
   ]
  },
  {
   "cell_type": "code",
   "execution_count": 71,
   "metadata": {},
   "outputs": [
    {
     "data": {
      "text/plain": [
       "<AxesSubplot:xlabel='sexo', ylabel='Count'>"
      ]
     },
     "execution_count": 71,
     "metadata": {},
     "output_type": "execute_result"
    },
    {
     "data": {
      "image/png": "[encoded data removed]",
      "text/plain": [
       "<Figure size 504x504 with 1 Axes>"
      ]
     },
     "metadata": {
      "needs_background": "light"
     },
     "output_type": "display_data"
    }
   ],
   "source": [
    "plt.figure(figsize=(7,7))\n",
    "sns.histplot(data=sexos_masc_fem, x='sexo', palette=['r','b'])"
   ]
  },
  {
   "cell_type": "code",
   "execution_count": null,
   "metadata": {},
   "outputs": [],
   "source": []
  }
 ],
 "metadata": {
  "interpreter": {
   "hash": "8fac594bfae6525c0c41b4041d2d72effa188cc8ead05f81b1fab2bb098927fb"
  },
  "kernelspec": {
   "display_name": "Python 3.9.7 64-bit ('base': conda)",
   "language": "python",
   "name": "python3"
  },
  "language_info": {
   "codemirror_mode": {
    "name": "ipython",
    "version": 3
   },
   "file_extension": ".py",
   "mimetype": "text/x-python",
   "name": "python",
   "nbconvert_exporter": "python",
   "pygments_lexer": "ipython3",
   "version": "3.9.7"
  },
  "orig_nbformat": 4
 },
 "nbformat": 4,
 "nbformat_minor": 2
}
