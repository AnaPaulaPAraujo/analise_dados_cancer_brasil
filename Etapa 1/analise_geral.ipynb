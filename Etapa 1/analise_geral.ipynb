{
 "cells": [
  {
   "cell_type": "markdown",
   "metadata": {},
   "source": [
    "# Importando bibliotecas que serão utilizadas no projeto"
   ]
  },
  {
   "cell_type": "code",
   "execution_count": 2,
   "metadata": {},
   "outputs": [],
   "source": [
    "import pandas as pd\n",
    "import matplotlib.pyplot as plt\n",
    "import seaborn as sns\n",
    "import numpy as np\n",
    "import datetime"
   ]
  },
  {
   "cell_type": "markdown",
   "metadata": {},
   "source": [
    "# Importando a tabela com os dados filtrados no arquivo 'Data/primeira_selecao_dados.ipynb'\n"
   ]
  },
  {
   "cell_type": "code",
   "execution_count": 3,
   "metadata": {},
   "outputs": [],
   "source": [
    "dados1 = pd.read_csv('Data/data_cancer_2005_2019.csv', sep = ',', encoding = 'utf-8', low_memory = False)"
   ]
  },
  {
   "cell_type": "code",
   "execution_count": 6,
   "metadata": {},
   "outputs": [
    {
     "name": "stdout",
     "output_type": "stream",
     "text": [
      "<class 'pandas.core.frame.DataFrame'>\n",
      "RangeIndex: 957959 entries, 0 to 957958\n",
      "Data columns (total 11 columns):\n",
      " #   Column             Non-Null Count   Dtype  \n",
      "---  ------             --------------   -----  \n",
      " 0   Unnamed: 0         957959 non-null  int64  \n",
      " 1   codigo_paciente    957959 non-null  int64  \n",
      " 2   local_atendimento  957959 non-null  object \n",
      " 3   sexo               957959 non-null  object \n",
      " 4   idade              906892 non-null  float64\n",
      " 5   cor                957959 non-null  object \n",
      " 6   nacionalidade      570600 non-null  object \n",
      " 7   estado_nascimento  572603 non-null  object \n",
      " 8   estado             957923 non-null  object \n",
      " 9   data               957958 non-null  object \n",
      " 10  data_obito         328005 non-null  object \n",
      "dtypes: float64(1), int64(2), object(8)\n",
      "memory usage: 80.4+ MB\n"
     ]
    }
   ],
   "source": [
    "dados1.info()"
   ]
  },
  {
   "cell_type": "code",
   "execution_count": 4,
   "metadata": {},
   "outputs": [
    {
     "data": {
      "text/html": [
       "<div>\n",
       "<style scoped>\n",
       "    .dataframe tbody tr th:only-of-type {\n",
       "        vertical-align: middle;\n",
       "    }\n",
       "\n",
       "    .dataframe tbody tr th {\n",
       "        vertical-align: top;\n",
       "    }\n",
       "\n",
       "    .dataframe thead th {\n",
       "        text-align: right;\n",
       "    }\n",
       "</style>\n",
       "<table border=\"1\" class=\"dataframe\">\n",
       "  <thead>\n",
       "    <tr style=\"text-align: right;\">\n",
       "      <th></th>\n",
       "      <th>Unnamed: 0</th>\n",
       "      <th>codigo_paciente</th>\n",
       "      <th>local_atendimento</th>\n",
       "      <th>sexo</th>\n",
       "      <th>idade</th>\n",
       "      <th>cor</th>\n",
       "      <th>nacionalidade</th>\n",
       "      <th>estado_nascimento</th>\n",
       "      <th>estado</th>\n",
       "      <th>data</th>\n",
       "      <th>data_obito</th>\n",
       "    </tr>\n",
       "  </thead>\n",
       "  <tbody>\n",
       "    <tr>\n",
       "      <th>0</th>\n",
       "      <td>0</td>\n",
       "      <td>672054</td>\n",
       "      <td>RCBP CAMPINAS-UNICAMP</td>\n",
       "      <td>MASCULINO</td>\n",
       "      <td>30.0</td>\n",
       "      <td>BRANCO</td>\n",
       "      <td>BRASIL</td>\n",
       "      <td>SÃO PAULO</td>\n",
       "      <td>SÃO PAULO</td>\n",
       "      <td>07/10/2005</td>\n",
       "      <td>07/10/2005</td>\n",
       "    </tr>\n",
       "    <tr>\n",
       "      <th>1</th>\n",
       "      <td>1</td>\n",
       "      <td>673745</td>\n",
       "      <td>RCBP CAMPINAS-UNICAMP</td>\n",
       "      <td>MASCULINO</td>\n",
       "      <td>71.0</td>\n",
       "      <td>BRANCO</td>\n",
       "      <td>BRASIL</td>\n",
       "      <td>SÃO PAULO</td>\n",
       "      <td>SÃO PAULO</td>\n",
       "      <td>21/10/2005</td>\n",
       "      <td>21/10/2005</td>\n",
       "    </tr>\n",
       "    <tr>\n",
       "      <th>2</th>\n",
       "      <td>2</td>\n",
       "      <td>676350</td>\n",
       "      <td>RCBP CAMPINAS-UNICAMP</td>\n",
       "      <td>MASCULINO</td>\n",
       "      <td>71.0</td>\n",
       "      <td>BRANCO</td>\n",
       "      <td>BRASIL</td>\n",
       "      <td>SÃO PAULO</td>\n",
       "      <td>SÃO PAULO</td>\n",
       "      <td>06/11/2005</td>\n",
       "      <td>06/11/2005</td>\n",
       "    </tr>\n",
       "    <tr>\n",
       "      <th>3</th>\n",
       "      <td>3</td>\n",
       "      <td>679877</td>\n",
       "      <td>RCBP CAMPINAS-UNICAMP</td>\n",
       "      <td>FEMININO</td>\n",
       "      <td>57.0</td>\n",
       "      <td>PARDA</td>\n",
       "      <td>BRASIL</td>\n",
       "      <td>ALAGOAS</td>\n",
       "      <td>SÃO PAULO</td>\n",
       "      <td>15/05/2005</td>\n",
       "      <td>15/05/2005</td>\n",
       "    </tr>\n",
       "    <tr>\n",
       "      <th>4</th>\n",
       "      <td>4</td>\n",
       "      <td>676553</td>\n",
       "      <td>RCBP CAMPINAS-UNICAMP</td>\n",
       "      <td>MASCULINO</td>\n",
       "      <td>52.0</td>\n",
       "      <td>BRANCO</td>\n",
       "      <td>BRASIL</td>\n",
       "      <td>SÃO PAULO</td>\n",
       "      <td>SÃO PAULO</td>\n",
       "      <td>24/02/2005</td>\n",
       "      <td>24/02/2005</td>\n",
       "    </tr>\n",
       "  </tbody>\n",
       "</table>\n",
       "</div>"
      ],
      "text/plain": [
       "   Unnamed: 0  codigo_paciente      local_atendimento       sexo  idade  \\\n",
       "0           0           672054  RCBP CAMPINAS-UNICAMP  MASCULINO   30.0   \n",
       "1           1           673745  RCBP CAMPINAS-UNICAMP  MASCULINO   71.0   \n",
       "2           2           676350  RCBP CAMPINAS-UNICAMP  MASCULINO   71.0   \n",
       "3           3           679877  RCBP CAMPINAS-UNICAMP   FEMININO   57.0   \n",
       "4           4           676553  RCBP CAMPINAS-UNICAMP  MASCULINO   52.0   \n",
       "\n",
       "      cor nacionalidade estado_nascimento     estado        data  data_obito  \n",
       "0  BRANCO        BRASIL         SÃO PAULO  SÃO PAULO  07/10/2005  07/10/2005  \n",
       "1  BRANCO        BRASIL         SÃO PAULO  SÃO PAULO  21/10/2005  21/10/2005  \n",
       "2  BRANCO        BRASIL         SÃO PAULO  SÃO PAULO  06/11/2005  06/11/2005  \n",
       "3   PARDA        BRASIL           ALAGOAS  SÃO PAULO  15/05/2005  15/05/2005  \n",
       "4  BRANCO        BRASIL         SÃO PAULO  SÃO PAULO  24/02/2005  24/02/2005  "
      ]
     },
     "execution_count": 4,
     "metadata": {},
     "output_type": "execute_result"
    }
   ],
   "source": [
    "dados1.head()"
   ]
  },
  {
   "cell_type": "code",
   "execution_count": 5,
   "metadata": {},
   "outputs": [
    {
     "data": {
      "text/plain": [
       "Index(['Unnamed: 0', 'codigo_paciente', 'local_atendimento', 'sexo', 'idade',\n",
       "       'cor', 'nacionalidade', 'estado_nascimento', 'estado', 'data',\n",
       "       'data_obito'],\n",
       "      dtype='object')"
      ]
     },
     "execution_count": 5,
     "metadata": {},
     "output_type": "execute_result"
    }
   ],
   "source": [
    "dados1.columns"
   ]
  },
  {
   "cell_type": "markdown",
   "metadata": {},
   "source": [
    "#### Retirando a coluna 'Unnamed: 0'\n",
    "\n",
    "A coluna 'Unnamed: 0' não tem aplicação nas análises."
   ]
  },
  {
   "cell_type": "code",
   "execution_count": 4,
   "metadata": {},
   "outputs": [],
   "source": [
    "dados2 = dados1[[\n",
    "    'codigo_paciente', 'local_atendimento', 'sexo', 'idade',\n",
    "    'cor', 'nacionalidade', 'estado_nascimento', 'estado', 'data',\n",
    "    'data_obito'\n",
    "]]"
   ]
  },
  {
   "cell_type": "code",
   "execution_count": 8,
   "metadata": {},
   "outputs": [
    {
     "data": {
      "text/html": [
       "<div>\n",
       "<style scoped>\n",
       "    .dataframe tbody tr th:only-of-type {\n",
       "        vertical-align: middle;\n",
       "    }\n",
       "\n",
       "    .dataframe tbody tr th {\n",
       "        vertical-align: top;\n",
       "    }\n",
       "\n",
       "    .dataframe thead th {\n",
       "        text-align: right;\n",
       "    }\n",
       "</style>\n",
       "<table border=\"1\" class=\"dataframe\">\n",
       "  <thead>\n",
       "    <tr style=\"text-align: right;\">\n",
       "      <th></th>\n",
       "      <th>codigo_paciente</th>\n",
       "      <th>local_atendimento</th>\n",
       "      <th>sexo</th>\n",
       "      <th>idade</th>\n",
       "      <th>cor</th>\n",
       "      <th>nacionalidade</th>\n",
       "      <th>estado_nascimento</th>\n",
       "      <th>estado</th>\n",
       "      <th>data</th>\n",
       "      <th>data_obito</th>\n",
       "    </tr>\n",
       "  </thead>\n",
       "  <tbody>\n",
       "    <tr>\n",
       "      <th>0</th>\n",
       "      <td>672054</td>\n",
       "      <td>RCBP CAMPINAS-UNICAMP</td>\n",
       "      <td>MASCULINO</td>\n",
       "      <td>30.0</td>\n",
       "      <td>BRANCO</td>\n",
       "      <td>BRASIL</td>\n",
       "      <td>SÃO PAULO</td>\n",
       "      <td>SÃO PAULO</td>\n",
       "      <td>07/10/2005</td>\n",
       "      <td>07/10/2005</td>\n",
       "    </tr>\n",
       "    <tr>\n",
       "      <th>1</th>\n",
       "      <td>673745</td>\n",
       "      <td>RCBP CAMPINAS-UNICAMP</td>\n",
       "      <td>MASCULINO</td>\n",
       "      <td>71.0</td>\n",
       "      <td>BRANCO</td>\n",
       "      <td>BRASIL</td>\n",
       "      <td>SÃO PAULO</td>\n",
       "      <td>SÃO PAULO</td>\n",
       "      <td>21/10/2005</td>\n",
       "      <td>21/10/2005</td>\n",
       "    </tr>\n",
       "    <tr>\n",
       "      <th>2</th>\n",
       "      <td>676350</td>\n",
       "      <td>RCBP CAMPINAS-UNICAMP</td>\n",
       "      <td>MASCULINO</td>\n",
       "      <td>71.0</td>\n",
       "      <td>BRANCO</td>\n",
       "      <td>BRASIL</td>\n",
       "      <td>SÃO PAULO</td>\n",
       "      <td>SÃO PAULO</td>\n",
       "      <td>06/11/2005</td>\n",
       "      <td>06/11/2005</td>\n",
       "    </tr>\n",
       "    <tr>\n",
       "      <th>3</th>\n",
       "      <td>679877</td>\n",
       "      <td>RCBP CAMPINAS-UNICAMP</td>\n",
       "      <td>FEMININO</td>\n",
       "      <td>57.0</td>\n",
       "      <td>PARDA</td>\n",
       "      <td>BRASIL</td>\n",
       "      <td>ALAGOAS</td>\n",
       "      <td>SÃO PAULO</td>\n",
       "      <td>15/05/2005</td>\n",
       "      <td>15/05/2005</td>\n",
       "    </tr>\n",
       "    <tr>\n",
       "      <th>4</th>\n",
       "      <td>676553</td>\n",
       "      <td>RCBP CAMPINAS-UNICAMP</td>\n",
       "      <td>MASCULINO</td>\n",
       "      <td>52.0</td>\n",
       "      <td>BRANCO</td>\n",
       "      <td>BRASIL</td>\n",
       "      <td>SÃO PAULO</td>\n",
       "      <td>SÃO PAULO</td>\n",
       "      <td>24/02/2005</td>\n",
       "      <td>24/02/2005</td>\n",
       "    </tr>\n",
       "  </tbody>\n",
       "</table>\n",
       "</div>"
      ],
      "text/plain": [
       "   codigo_paciente      local_atendimento       sexo  idade     cor  \\\n",
       "0           672054  RCBP CAMPINAS-UNICAMP  MASCULINO   30.0  BRANCO   \n",
       "1           673745  RCBP CAMPINAS-UNICAMP  MASCULINO   71.0  BRANCO   \n",
       "2           676350  RCBP CAMPINAS-UNICAMP  MASCULINO   71.0  BRANCO   \n",
       "3           679877  RCBP CAMPINAS-UNICAMP   FEMININO   57.0   PARDA   \n",
       "4           676553  RCBP CAMPINAS-UNICAMP  MASCULINO   52.0  BRANCO   \n",
       "\n",
       "  nacionalidade estado_nascimento     estado        data  data_obito  \n",
       "0        BRASIL         SÃO PAULO  SÃO PAULO  07/10/2005  07/10/2005  \n",
       "1        BRASIL         SÃO PAULO  SÃO PAULO  21/10/2005  21/10/2005  \n",
       "2        BRASIL         SÃO PAULO  SÃO PAULO  06/11/2005  06/11/2005  \n",
       "3        BRASIL           ALAGOAS  SÃO PAULO  15/05/2005  15/05/2005  \n",
       "4        BRASIL         SÃO PAULO  SÃO PAULO  24/02/2005  24/02/2005  "
      ]
     },
     "execution_count": 8,
     "metadata": {},
     "output_type": "execute_result"
    }
   ],
   "source": [
    "dados2.head()"
   ]
  },
  {
   "cell_type": "markdown",
   "metadata": {},
   "source": [
    "## Avaliação dos dados nulo no DataFrame"
   ]
  },
  {
   "cell_type": "code",
   "execution_count": 10,
   "metadata": {},
   "outputs": [
    {
     "data": {
      "text/plain": [
       "(957959, 10)"
      ]
     },
     "execution_count": 10,
     "metadata": {},
     "output_type": "execute_result"
    }
   ],
   "source": [
    "dados2.shape"
   ]
  },
  {
   "cell_type": "code",
   "execution_count": 11,
   "metadata": {},
   "outputs": [
    {
     "data": {
      "text/plain": [
       "codigo_paciente           0\n",
       "local_atendimento         0\n",
       "sexo                      0\n",
       "idade                 51067\n",
       "cor                       0\n",
       "nacionalidade        387359\n",
       "estado_nascimento    385356\n",
       "estado                   36\n",
       "data                      1\n",
       "data_obito           629954\n",
       "dtype: int64"
      ]
     },
     "execution_count": 11,
     "metadata": {},
     "output_type": "execute_result"
    }
   ],
   "source": [
    "dados2.isnull().sum()"
   ]
  },
  {
   "cell_type": "code",
   "execution_count": 14,
   "metadata": {},
   "outputs": [
    {
     "data": {
      "text/plain": [
       "codigo_paciente      0.000000\n",
       "local_atendimento    0.000000\n",
       "sexo                 0.000000\n",
       "idade                0.053308\n",
       "cor                  0.000000\n",
       "nacionalidade        0.404359\n",
       "estado_nascimento    0.402268\n",
       "estado               0.000038\n",
       "data                 0.000001\n",
       "data_obito           0.657600\n",
       "dtype: float64"
      ]
     },
     "execution_count": 14,
     "metadata": {},
     "output_type": "execute_result"
    }
   ],
   "source": [
    "dados2.isna().mean()"
   ]
  },
  {
   "cell_type": "markdown",
   "metadata": {},
   "source": [
    "A quantidade de dados nulos na tabela é muito alto nos campos que se referem à **nacionalidade** ['nacionalidade'], ao **estado de nascimento do paciente** ['estado_nascimento'] e à **data de óbito do paceinte** ['data_obito']. Portanto, **esses dados não serão analisados nessa primeira fase do projeto**.\n",
    "\n",
    "Porém, as colunas contendo **idade** ['idade'], **estado de moradia do paciente** ['estado'] possuem pocous dados faltantes se considerar o banco de dados total. Logo, esses dados nulos serão analisados e tratados caso a caso."
   ]
  },
  {
   "cell_type": "markdown",
   "metadata": {},
   "source": [
    "# ANÁLISE 01 - Variação quantitativa anual de casos"
   ]
  },
  {
   "cell_type": "code",
   "execution_count": 5,
   "metadata": {},
   "outputs": [
    {
     "data": {
      "text/plain": [
       "Index(['codigo_paciente', 'local_atendimento', 'sexo', 'idade', 'cor',\n",
       "       'nacionalidade', 'estado_nascimento', 'estado', 'data', 'data_obito'],\n",
       "      dtype='object')"
      ]
     },
     "execution_count": 5,
     "metadata": {},
     "output_type": "execute_result"
    }
   ],
   "source": [
    "dados2.columns"
   ]
  },
  {
   "cell_type": "code",
   "execution_count": null,
   "metadata": {},
   "outputs": [],
   "source": [
    "# Convertendo o campo data do tipo \"object\" para o tipo \"datetime\".\n",
    "\n",
    "dados2['data'] = pd.to_datetime(dados2['data'])"
   ]
  },
  {
   "cell_type": "code",
   "execution_count": 8,
   "metadata": {},
   "outputs": [
    {
     "name": "stdout",
     "output_type": "stream",
     "text": [
      "<class 'pandas.core.frame.DataFrame'>\n",
      "RangeIndex: 957959 entries, 0 to 957958\n",
      "Data columns (total 10 columns):\n",
      " #   Column             Non-Null Count   Dtype         \n",
      "---  ------             --------------   -----         \n",
      " 0   codigo_paciente    957959 non-null  int64         \n",
      " 1   local_atendimento  957959 non-null  object        \n",
      " 2   sexo               957959 non-null  object        \n",
      " 3   idade              906892 non-null  float64       \n",
      " 4   cor                957959 non-null  object        \n",
      " 5   nacionalidade      570600 non-null  object        \n",
      " 6   estado_nascimento  572603 non-null  object        \n",
      " 7   estado             957923 non-null  object        \n",
      " 8   data               957958 non-null  datetime64[ns]\n",
      " 9   data_obito         328005 non-null  object        \n",
      "dtypes: datetime64[ns](1), float64(1), int64(1), object(7)\n",
      "memory usage: 73.1+ MB\n"
     ]
    }
   ],
   "source": [
    "dados2.info()"
   ]
  },
  {
   "cell_type": "code",
   "execution_count": 6,
   "metadata": {},
   "outputs": [],
   "source": [
    "# Criando uma coluna contendo só o ano (\"ano_atendimento\") de cada data contida na coluna 'data'.\n",
    "\n",
    "dados2['ano_atendimento'] = dados2['data'].dt.year"
   ]
  },
  {
   "cell_type": "code",
   "execution_count": 19,
   "metadata": {},
   "outputs": [
    {
     "data": {
      "text/plain": [
       "array([2005., 2006., 2007., 2008., 2009., 2010., 2011., 2012.,   nan,\n",
       "       2013., 2014., 2015., 2016., 2017., 2018., 2019.])"
      ]
     },
     "execution_count": 19,
     "metadata": {},
     "output_type": "execute_result"
    }
   ],
   "source": [
    "# Conferindo todos os dados que foram criados na nova coluna \"ano_atendimento\"\n",
    "\n",
    "dados2.ano_atendimento.unique()"
   ]
  },
  {
   "cell_type": "code",
   "execution_count": 10,
   "metadata": {},
   "outputs": [
    {
     "data": {
      "text/html": [
       "<div>\n",
       "<style scoped>\n",
       "    .dataframe tbody tr th:only-of-type {\n",
       "        vertical-align: middle;\n",
       "    }\n",
       "\n",
       "    .dataframe tbody tr th {\n",
       "        vertical-align: top;\n",
       "    }\n",
       "\n",
       "    .dataframe thead th {\n",
       "        text-align: right;\n",
       "    }\n",
       "</style>\n",
       "<table border=\"1\" class=\"dataframe\">\n",
       "  <thead>\n",
       "    <tr style=\"text-align: right;\">\n",
       "      <th></th>\n",
       "      <th>codigo_paciente</th>\n",
       "      <th>local_atendimento</th>\n",
       "      <th>sexo</th>\n",
       "      <th>idade</th>\n",
       "      <th>cor</th>\n",
       "      <th>nacionalidade</th>\n",
       "      <th>estado_nascimento</th>\n",
       "      <th>estado</th>\n",
       "      <th>data</th>\n",
       "      <th>data_obito</th>\n",
       "      <th>ano_atendimento</th>\n",
       "    </tr>\n",
       "  </thead>\n",
       "  <tbody>\n",
       "    <tr>\n",
       "      <th>0</th>\n",
       "      <td>672054</td>\n",
       "      <td>RCBP CAMPINAS-UNICAMP</td>\n",
       "      <td>MASCULINO</td>\n",
       "      <td>30.0</td>\n",
       "      <td>BRANCO</td>\n",
       "      <td>BRASIL</td>\n",
       "      <td>SÃO PAULO</td>\n",
       "      <td>SÃO PAULO</td>\n",
       "      <td>2005-07-10</td>\n",
       "      <td>07/10/2005</td>\n",
       "      <td>2005.0</td>\n",
       "    </tr>\n",
       "    <tr>\n",
       "      <th>1</th>\n",
       "      <td>673745</td>\n",
       "      <td>RCBP CAMPINAS-UNICAMP</td>\n",
       "      <td>MASCULINO</td>\n",
       "      <td>71.0</td>\n",
       "      <td>BRANCO</td>\n",
       "      <td>BRASIL</td>\n",
       "      <td>SÃO PAULO</td>\n",
       "      <td>SÃO PAULO</td>\n",
       "      <td>2005-10-21</td>\n",
       "      <td>21/10/2005</td>\n",
       "      <td>2005.0</td>\n",
       "    </tr>\n",
       "    <tr>\n",
       "      <th>2</th>\n",
       "      <td>676350</td>\n",
       "      <td>RCBP CAMPINAS-UNICAMP</td>\n",
       "      <td>MASCULINO</td>\n",
       "      <td>71.0</td>\n",
       "      <td>BRANCO</td>\n",
       "      <td>BRASIL</td>\n",
       "      <td>SÃO PAULO</td>\n",
       "      <td>SÃO PAULO</td>\n",
       "      <td>2005-06-11</td>\n",
       "      <td>06/11/2005</td>\n",
       "      <td>2005.0</td>\n",
       "    </tr>\n",
       "    <tr>\n",
       "      <th>3</th>\n",
       "      <td>679877</td>\n",
       "      <td>RCBP CAMPINAS-UNICAMP</td>\n",
       "      <td>FEMININO</td>\n",
       "      <td>57.0</td>\n",
       "      <td>PARDA</td>\n",
       "      <td>BRASIL</td>\n",
       "      <td>ALAGOAS</td>\n",
       "      <td>SÃO PAULO</td>\n",
       "      <td>2005-05-15</td>\n",
       "      <td>15/05/2005</td>\n",
       "      <td>2005.0</td>\n",
       "    </tr>\n",
       "    <tr>\n",
       "      <th>4</th>\n",
       "      <td>676553</td>\n",
       "      <td>RCBP CAMPINAS-UNICAMP</td>\n",
       "      <td>MASCULINO</td>\n",
       "      <td>52.0</td>\n",
       "      <td>BRANCO</td>\n",
       "      <td>BRASIL</td>\n",
       "      <td>SÃO PAULO</td>\n",
       "      <td>SÃO PAULO</td>\n",
       "      <td>2005-02-24</td>\n",
       "      <td>24/02/2005</td>\n",
       "      <td>2005.0</td>\n",
       "    </tr>\n",
       "  </tbody>\n",
       "</table>\n",
       "</div>"
      ],
      "text/plain": [
       "   codigo_paciente      local_atendimento       sexo  idade     cor  \\\n",
       "0           672054  RCBP CAMPINAS-UNICAMP  MASCULINO   30.0  BRANCO   \n",
       "1           673745  RCBP CAMPINAS-UNICAMP  MASCULINO   71.0  BRANCO   \n",
       "2           676350  RCBP CAMPINAS-UNICAMP  MASCULINO   71.0  BRANCO   \n",
       "3           679877  RCBP CAMPINAS-UNICAMP   FEMININO   57.0   PARDA   \n",
       "4           676553  RCBP CAMPINAS-UNICAMP  MASCULINO   52.0  BRANCO   \n",
       "\n",
       "  nacionalidade estado_nascimento     estado       data  data_obito  \\\n",
       "0        BRASIL         SÃO PAULO  SÃO PAULO 2005-07-10  07/10/2005   \n",
       "1        BRASIL         SÃO PAULO  SÃO PAULO 2005-10-21  21/10/2005   \n",
       "2        BRASIL         SÃO PAULO  SÃO PAULO 2005-06-11  06/11/2005   \n",
       "3        BRASIL           ALAGOAS  SÃO PAULO 2005-05-15  15/05/2005   \n",
       "4        BRASIL         SÃO PAULO  SÃO PAULO 2005-02-24  24/02/2005   \n",
       "\n",
       "   ano_atendimento  \n",
       "0           2005.0  \n",
       "1           2005.0  \n",
       "2           2005.0  \n",
       "3           2005.0  \n",
       "4           2005.0  "
      ]
     },
     "execution_count": 10,
     "metadata": {},
     "output_type": "execute_result"
    }
   ],
   "source": [
    "dados2.head()"
   ]
  },
  {
   "cell_type": "code",
   "execution_count": 20,
   "metadata": {},
   "outputs": [
    {
     "data": {
      "text/html": [
       "<div>\n",
       "<style scoped>\n",
       "    .dataframe tbody tr th:only-of-type {\n",
       "        vertical-align: middle;\n",
       "    }\n",
       "\n",
       "    .dataframe tbody tr th {\n",
       "        vertical-align: top;\n",
       "    }\n",
       "\n",
       "    .dataframe thead th {\n",
       "        text-align: right;\n",
       "    }\n",
       "</style>\n",
       "<table border=\"1\" class=\"dataframe\">\n",
       "  <thead>\n",
       "    <tr style=\"text-align: right;\">\n",
       "      <th></th>\n",
       "      <th>codigo_paciente</th>\n",
       "      <th>local_atendimento</th>\n",
       "      <th>sexo</th>\n",
       "      <th>idade</th>\n",
       "      <th>cor</th>\n",
       "      <th>nacionalidade</th>\n",
       "      <th>estado_nascimento</th>\n",
       "      <th>estado</th>\n",
       "      <th>data</th>\n",
       "      <th>data_obito</th>\n",
       "      <th>ano_atendimento</th>\n",
       "    </tr>\n",
       "  </thead>\n",
       "  <tbody>\n",
       "    <tr>\n",
       "      <th>0</th>\n",
       "      <td>672054</td>\n",
       "      <td>RCBP CAMPINAS-UNICAMP</td>\n",
       "      <td>MASCULINO</td>\n",
       "      <td>30.0</td>\n",
       "      <td>BRANCO</td>\n",
       "      <td>BRASIL</td>\n",
       "      <td>SÃO PAULO</td>\n",
       "      <td>SÃO PAULO</td>\n",
       "      <td>2005-07-10</td>\n",
       "      <td>07/10/2005</td>\n",
       "      <td>2005.0</td>\n",
       "    </tr>\n",
       "    <tr>\n",
       "      <th>1</th>\n",
       "      <td>673745</td>\n",
       "      <td>RCBP CAMPINAS-UNICAMP</td>\n",
       "      <td>MASCULINO</td>\n",
       "      <td>71.0</td>\n",
       "      <td>BRANCO</td>\n",
       "      <td>BRASIL</td>\n",
       "      <td>SÃO PAULO</td>\n",
       "      <td>SÃO PAULO</td>\n",
       "      <td>2005-10-21</td>\n",
       "      <td>21/10/2005</td>\n",
       "      <td>2005.0</td>\n",
       "    </tr>\n",
       "    <tr>\n",
       "      <th>2</th>\n",
       "      <td>676350</td>\n",
       "      <td>RCBP CAMPINAS-UNICAMP</td>\n",
       "      <td>MASCULINO</td>\n",
       "      <td>71.0</td>\n",
       "      <td>BRANCO</td>\n",
       "      <td>BRASIL</td>\n",
       "      <td>SÃO PAULO</td>\n",
       "      <td>SÃO PAULO</td>\n",
       "      <td>2005-06-11</td>\n",
       "      <td>06/11/2005</td>\n",
       "      <td>2005.0</td>\n",
       "    </tr>\n",
       "    <tr>\n",
       "      <th>3</th>\n",
       "      <td>679877</td>\n",
       "      <td>RCBP CAMPINAS-UNICAMP</td>\n",
       "      <td>FEMININO</td>\n",
       "      <td>57.0</td>\n",
       "      <td>PARDA</td>\n",
       "      <td>BRASIL</td>\n",
       "      <td>ALAGOAS</td>\n",
       "      <td>SÃO PAULO</td>\n",
       "      <td>2005-05-15</td>\n",
       "      <td>15/05/2005</td>\n",
       "      <td>2005.0</td>\n",
       "    </tr>\n",
       "    <tr>\n",
       "      <th>4</th>\n",
       "      <td>676553</td>\n",
       "      <td>RCBP CAMPINAS-UNICAMP</td>\n",
       "      <td>MASCULINO</td>\n",
       "      <td>52.0</td>\n",
       "      <td>BRANCO</td>\n",
       "      <td>BRASIL</td>\n",
       "      <td>SÃO PAULO</td>\n",
       "      <td>SÃO PAULO</td>\n",
       "      <td>2005-02-24</td>\n",
       "      <td>24/02/2005</td>\n",
       "      <td>2005.0</td>\n",
       "    </tr>\n",
       "  </tbody>\n",
       "</table>\n",
       "</div>"
      ],
      "text/plain": [
       "   codigo_paciente      local_atendimento       sexo  idade     cor  \\\n",
       "0           672054  RCBP CAMPINAS-UNICAMP  MASCULINO   30.0  BRANCO   \n",
       "1           673745  RCBP CAMPINAS-UNICAMP  MASCULINO   71.0  BRANCO   \n",
       "2           676350  RCBP CAMPINAS-UNICAMP  MASCULINO   71.0  BRANCO   \n",
       "3           679877  RCBP CAMPINAS-UNICAMP   FEMININO   57.0   PARDA   \n",
       "4           676553  RCBP CAMPINAS-UNICAMP  MASCULINO   52.0  BRANCO   \n",
       "\n",
       "  nacionalidade estado_nascimento     estado       data  data_obito  \\\n",
       "0        BRASIL         SÃO PAULO  SÃO PAULO 2005-07-10  07/10/2005   \n",
       "1        BRASIL         SÃO PAULO  SÃO PAULO 2005-10-21  21/10/2005   \n",
       "2        BRASIL         SÃO PAULO  SÃO PAULO 2005-06-11  06/11/2005   \n",
       "3        BRASIL           ALAGOAS  SÃO PAULO 2005-05-15  15/05/2005   \n",
       "4        BRASIL         SÃO PAULO  SÃO PAULO 2005-02-24  24/02/2005   \n",
       "\n",
       "   ano_atendimento  \n",
       "0           2005.0  \n",
       "1           2005.0  \n",
       "2           2005.0  \n",
       "3           2005.0  \n",
       "4           2005.0  "
      ]
     },
     "execution_count": 20,
     "metadata": {},
     "output_type": "execute_result"
    }
   ],
   "source": [
    "# Conferindo se os dados do campo \"data\" coincidem com os dados da coluna \"data_atendimento\" criada.\n",
    "\n",
    "dados_2005 = dados2.loc[dados2['ano_atendimento'] == 2005]\n",
    "dados_2005.head()"
   ]
  },
  {
   "cell_type": "code",
   "execution_count": 21,
   "metadata": {},
   "outputs": [
    {
     "data": {
      "text/html": [
       "<div>\n",
       "<style scoped>\n",
       "    .dataframe tbody tr th:only-of-type {\n",
       "        vertical-align: middle;\n",
       "    }\n",
       "\n",
       "    .dataframe tbody tr th {\n",
       "        vertical-align: top;\n",
       "    }\n",
       "\n",
       "    .dataframe thead th {\n",
       "        text-align: right;\n",
       "    }\n",
       "</style>\n",
       "<table border=\"1\" class=\"dataframe\">\n",
       "  <thead>\n",
       "    <tr style=\"text-align: right;\">\n",
       "      <th></th>\n",
       "      <th>codigo_paciente</th>\n",
       "      <th>local_atendimento</th>\n",
       "      <th>sexo</th>\n",
       "      <th>idade</th>\n",
       "      <th>cor</th>\n",
       "      <th>nacionalidade</th>\n",
       "      <th>estado_nascimento</th>\n",
       "      <th>estado</th>\n",
       "      <th>data</th>\n",
       "      <th>data_obito</th>\n",
       "      <th>ano_atendimento</th>\n",
       "    </tr>\n",
       "  </thead>\n",
       "  <tbody>\n",
       "    <tr>\n",
       "      <th>4131</th>\n",
       "      <td>429828</td>\n",
       "      <td>RCBP SÃO PAULO</td>\n",
       "      <td>FEMININO</td>\n",
       "      <td>NaN</td>\n",
       "      <td>SEM INFORMAÇÃO</td>\n",
       "      <td>NaN</td>\n",
       "      <td>NaN</td>\n",
       "      <td>SÃO PAULO</td>\n",
       "      <td>2006-01-01</td>\n",
       "      <td>NaN</td>\n",
       "      <td>2006.0</td>\n",
       "    </tr>\n",
       "    <tr>\n",
       "      <th>6660</th>\n",
       "      <td>429945</td>\n",
       "      <td>RCBP SÃO PAULO</td>\n",
       "      <td>FEMININO</td>\n",
       "      <td>NaN</td>\n",
       "      <td>SEM INFORMAÇÃO</td>\n",
       "      <td>NaN</td>\n",
       "      <td>NaN</td>\n",
       "      <td>SÃO PAULO</td>\n",
       "      <td>2006-01-01</td>\n",
       "      <td>NaN</td>\n",
       "      <td>2006.0</td>\n",
       "    </tr>\n",
       "    <tr>\n",
       "      <th>13600</th>\n",
       "      <td>520927</td>\n",
       "      <td>RCBP SÃO PAULO</td>\n",
       "      <td>MASCULINO</td>\n",
       "      <td>66.0</td>\n",
       "      <td>BRANCO</td>\n",
       "      <td>NaN</td>\n",
       "      <td>NaN</td>\n",
       "      <td>SÃO PAULO</td>\n",
       "      <td>2006-01-01</td>\n",
       "      <td>01/01/2006</td>\n",
       "      <td>2006.0</td>\n",
       "    </tr>\n",
       "    <tr>\n",
       "      <th>15140</th>\n",
       "      <td>520929</td>\n",
       "      <td>RCBP SÃO PAULO</td>\n",
       "      <td>FEMININO</td>\n",
       "      <td>43.0</td>\n",
       "      <td>BRANCO</td>\n",
       "      <td>NaN</td>\n",
       "      <td>NaN</td>\n",
       "      <td>SÃO PAULO</td>\n",
       "      <td>2006-01-01</td>\n",
       "      <td>01/01/2006</td>\n",
       "      <td>2006.0</td>\n",
       "    </tr>\n",
       "    <tr>\n",
       "      <th>15479</th>\n",
       "      <td>690456</td>\n",
       "      <td>RCBP SÃO PAULO</td>\n",
       "      <td>MASCULINO</td>\n",
       "      <td>81.0</td>\n",
       "      <td>BRANCO</td>\n",
       "      <td>NaN</td>\n",
       "      <td>NaN</td>\n",
       "      <td>SÃO PAULO</td>\n",
       "      <td>2006-01-01</td>\n",
       "      <td>01/01/2006</td>\n",
       "      <td>2006.0</td>\n",
       "    </tr>\n",
       "  </tbody>\n",
       "</table>\n",
       "</div>"
      ],
      "text/plain": [
       "       codigo_paciente local_atendimento       sexo  idade             cor  \\\n",
       "4131            429828    RCBP SÃO PAULO   FEMININO    NaN  SEM INFORMAÇÃO   \n",
       "6660            429945    RCBP SÃO PAULO   FEMININO    NaN  SEM INFORMAÇÃO   \n",
       "13600           520927    RCBP SÃO PAULO  MASCULINO   66.0          BRANCO   \n",
       "15140           520929    RCBP SÃO PAULO   FEMININO   43.0          BRANCO   \n",
       "15479           690456    RCBP SÃO PAULO  MASCULINO   81.0          BRANCO   \n",
       "\n",
       "      nacionalidade estado_nascimento     estado       data  data_obito  \\\n",
       "4131            NaN               NaN  SÃO PAULO 2006-01-01         NaN   \n",
       "6660            NaN               NaN  SÃO PAULO 2006-01-01         NaN   \n",
       "13600           NaN               NaN  SÃO PAULO 2006-01-01  01/01/2006   \n",
       "15140           NaN               NaN  SÃO PAULO 2006-01-01  01/01/2006   \n",
       "15479           NaN               NaN  SÃO PAULO 2006-01-01  01/01/2006   \n",
       "\n",
       "       ano_atendimento  \n",
       "4131            2006.0  \n",
       "6660            2006.0  \n",
       "13600           2006.0  \n",
       "15140           2006.0  \n",
       "15479           2006.0  "
      ]
     },
     "execution_count": 21,
     "metadata": {},
     "output_type": "execute_result"
    }
   ],
   "source": [
    "dados_2006 = dados2.loc[dados2['ano_atendimento'] == 2006]\n",
    "dados_2006.head()"
   ]
  },
  {
   "cell_type": "code",
   "execution_count": 7,
   "metadata": {},
   "outputs": [
    {
     "data": {
      "text/plain": [
       "[[2011.0    118832\n",
       "  2010.0    110050\n",
       "  2009.0     95049\n",
       "  2008.0     87518\n",
       "  2007.0     80655\n",
       "  2005.0     69602\n",
       "  2006.0     68165\n",
       "  2013.0     67500\n",
       "  2012.0     66449\n",
       "  2014.0     62755\n",
       "  2015.0     61092\n",
       "  2016.0     42931\n",
       "  2017.0     24842\n",
       "  2018.0      1974\n",
       "  2019.0       544\n",
       "  Name: ano_atendimento, dtype: int64]]"
      ]
     },
     "execution_count": 7,
     "metadata": {},
     "output_type": "execute_result"
    }
   ],
   "source": [
    "# Frequência de cada ano para comparação com gráfico posterior\n",
    "\n",
    "quantidade_ano = [[dados2['ano_atendimento'].value_counts()]]\n",
    "quantidade_ano"
   ]
  },
  {
   "cell_type": "code",
   "execution_count": 51,
   "metadata": {},
   "outputs": [
    {
     "name": "stderr",
     "output_type": "stream",
     "text": [
      "No handles with labels found to put in legend.\n"
     ]
    },
    {
     "data": {
      "image/png": "[encoded data removed]",
      "text/plain": [
       "<Figure size 540x360 with 1 Axes>"
      ]
     },
     "metadata": {},
     "output_type": "display_data"
    }
   ],
   "source": [
    "sns.set_theme(style = 'whitegrid')\n",
    "sns.catplot(data=dados2, x='ano_atendimento', kind='count', palette='magma', aspect=1.5, alpha=.8)\n",
    "plt.xticks(rotation = 90)\n",
    "plt.legend().set_visible(False)\n",
    "\n",
    "plt.show()"
   ]
  },
  {
   "cell_type": "markdown",
   "metadata": {},
   "source": [
    "**Percebe-se que, nos anos de 2016, 2017, 2018 e 2019, há uma queda anômala nos registros de casos de câncer no banco de dados que esse projeto está trabalhando. Os dados tendiam a um patamar de estabilização conforme mostram os dados em 2012, 2013, 2014 e 2015.** "
   ]
  },
  {
   "cell_type": "code",
   "execution_count": 45,
   "metadata": {},
   "outputs": [
    {
     "data": {
      "text/html": [
       "<div>\n",
       "<style scoped>\n",
       "    .dataframe tbody tr th:only-of-type {\n",
       "        vertical-align: middle;\n",
       "    }\n",
       "\n",
       "    .dataframe tbody tr th {\n",
       "        vertical-align: top;\n",
       "    }\n",
       "\n",
       "    .dataframe thead th {\n",
       "        text-align: right;\n",
       "    }\n",
       "</style>\n",
       "<table border=\"1\" class=\"dataframe\">\n",
       "  <thead>\n",
       "    <tr style=\"text-align: right;\">\n",
       "      <th></th>\n",
       "      <th>codigo_paciente</th>\n",
       "      <th>local_atendimento</th>\n",
       "      <th>sexo</th>\n",
       "      <th>idade</th>\n",
       "      <th>cor</th>\n",
       "      <th>nacionalidade</th>\n",
       "      <th>estado_nascimento</th>\n",
       "      <th>estado</th>\n",
       "      <th>data</th>\n",
       "      <th>data_obito</th>\n",
       "      <th>ano_atendimento</th>\n",
       "    </tr>\n",
       "  </thead>\n",
       "  <tbody>\n",
       "    <tr>\n",
       "      <th>906556</th>\n",
       "      <td>1462405</td>\n",
       "      <td>RCBP JAHU</td>\n",
       "      <td>MASCULINO</td>\n",
       "      <td>82.0</td>\n",
       "      <td>BRANCO</td>\n",
       "      <td>BRASIL</td>\n",
       "      <td>SÃO PAULO</td>\n",
       "      <td>SÃO PAULO</td>\n",
       "      <td>2019-01-02</td>\n",
       "      <td>NaN</td>\n",
       "      <td>2019.0</td>\n",
       "    </tr>\n",
       "    <tr>\n",
       "      <th>906574</th>\n",
       "      <td>1462386</td>\n",
       "      <td>RCBP JAHU</td>\n",
       "      <td>MASCULINO</td>\n",
       "      <td>73.0</td>\n",
       "      <td>BRANCO</td>\n",
       "      <td>BRASIL</td>\n",
       "      <td>RIO DE JANEIRO</td>\n",
       "      <td>SÃO PAULO</td>\n",
       "      <td>2019-01-03</td>\n",
       "      <td>NaN</td>\n",
       "      <td>2019.0</td>\n",
       "    </tr>\n",
       "    <tr>\n",
       "      <th>906686</th>\n",
       "      <td>1462494</td>\n",
       "      <td>RCBP JAHU</td>\n",
       "      <td>FEMININO</td>\n",
       "      <td>55.0</td>\n",
       "      <td>BRANCO</td>\n",
       "      <td>BRASIL</td>\n",
       "      <td>SÃO PAULO</td>\n",
       "      <td>SÃO PAULO</td>\n",
       "      <td>2019-01-04</td>\n",
       "      <td>NaN</td>\n",
       "      <td>2019.0</td>\n",
       "    </tr>\n",
       "    <tr>\n",
       "      <th>906764</th>\n",
       "      <td>1462365</td>\n",
       "      <td>RCBP JAHU</td>\n",
       "      <td>MASCULINO</td>\n",
       "      <td>46.0</td>\n",
       "      <td>BRANCO</td>\n",
       "      <td>BRASIL</td>\n",
       "      <td>PARANÁ</td>\n",
       "      <td>SÃO PAULO</td>\n",
       "      <td>2019-01-04</td>\n",
       "      <td>NaN</td>\n",
       "      <td>2019.0</td>\n",
       "    </tr>\n",
       "    <tr>\n",
       "      <th>906602</th>\n",
       "      <td>1462343</td>\n",
       "      <td>RCBP JAHU</td>\n",
       "      <td>MASCULINO</td>\n",
       "      <td>58.0</td>\n",
       "      <td>BRANCO</td>\n",
       "      <td>BRASIL</td>\n",
       "      <td>SÃO PAULO</td>\n",
       "      <td>SÃO PAULO</td>\n",
       "      <td>2019-01-04</td>\n",
       "      <td>NaN</td>\n",
       "      <td>2019.0</td>\n",
       "    </tr>\n",
       "    <tr>\n",
       "      <th>...</th>\n",
       "      <td>...</td>\n",
       "      <td>...</td>\n",
       "      <td>...</td>\n",
       "      <td>...</td>\n",
       "      <td>...</td>\n",
       "      <td>...</td>\n",
       "      <td>...</td>\n",
       "      <td>...</td>\n",
       "      <td>...</td>\n",
       "      <td>...</td>\n",
       "      <td>...</td>\n",
       "    </tr>\n",
       "    <tr>\n",
       "      <th>906654</th>\n",
       "      <td>1462095</td>\n",
       "      <td>RCBP JAHU</td>\n",
       "      <td>FEMININO</td>\n",
       "      <td>74.0</td>\n",
       "      <td>BRANCO</td>\n",
       "      <td>BRASIL</td>\n",
       "      <td>SÃO PAULO</td>\n",
       "      <td>SÃO PAULO</td>\n",
       "      <td>2019-12-20</td>\n",
       "      <td>25/12/2019</td>\n",
       "      <td>2019.0</td>\n",
       "    </tr>\n",
       "    <tr>\n",
       "      <th>907019</th>\n",
       "      <td>1462220</td>\n",
       "      <td>RCBP JAHU</td>\n",
       "      <td>FEMININO</td>\n",
       "      <td>76.0</td>\n",
       "      <td>BRANCO</td>\n",
       "      <td>PORTUGAL</td>\n",
       "      <td>Não informado</td>\n",
       "      <td>SÃO PAULO</td>\n",
       "      <td>2019-12-20</td>\n",
       "      <td>NaN</td>\n",
       "      <td>2019.0</td>\n",
       "    </tr>\n",
       "    <tr>\n",
       "      <th>906993</th>\n",
       "      <td>1462245</td>\n",
       "      <td>RCBP JAHU</td>\n",
       "      <td>MASCULINO</td>\n",
       "      <td>33.0</td>\n",
       "      <td>BRANCO</td>\n",
       "      <td>BRASIL</td>\n",
       "      <td>SÃO PAULO</td>\n",
       "      <td>SÃO PAULO</td>\n",
       "      <td>2019-12-23</td>\n",
       "      <td>NaN</td>\n",
       "      <td>2019.0</td>\n",
       "    </tr>\n",
       "    <tr>\n",
       "      <th>906770</th>\n",
       "      <td>1462370</td>\n",
       "      <td>RCBP JAHU</td>\n",
       "      <td>MASCULINO</td>\n",
       "      <td>67.0</td>\n",
       "      <td>BRANCO</td>\n",
       "      <td>BRASIL</td>\n",
       "      <td>SÃO PAULO</td>\n",
       "      <td>SÃO PAULO</td>\n",
       "      <td>2019-12-27</td>\n",
       "      <td>26/03/2021</td>\n",
       "      <td>2019.0</td>\n",
       "    </tr>\n",
       "    <tr>\n",
       "      <th>906488</th>\n",
       "      <td>1462211</td>\n",
       "      <td>RCBP JAHU</td>\n",
       "      <td>FEMININO</td>\n",
       "      <td>72.0</td>\n",
       "      <td>BRANCO</td>\n",
       "      <td>LIBANO</td>\n",
       "      <td>Não informado</td>\n",
       "      <td>SÃO PAULO</td>\n",
       "      <td>2019-12-27</td>\n",
       "      <td>12/06/2020</td>\n",
       "      <td>2019.0</td>\n",
       "    </tr>\n",
       "  </tbody>\n",
       "</table>\n",
       "<p>544 rows × 11 columns</p>\n",
       "</div>"
      ],
      "text/plain": [
       "        codigo_paciente local_atendimento       sexo  idade     cor  \\\n",
       "906556          1462405         RCBP JAHU  MASCULINO   82.0  BRANCO   \n",
       "906574          1462386         RCBP JAHU  MASCULINO   73.0  BRANCO   \n",
       "906686          1462494         RCBP JAHU   FEMININO   55.0  BRANCO   \n",
       "906764          1462365         RCBP JAHU  MASCULINO   46.0  BRANCO   \n",
       "906602          1462343         RCBP JAHU  MASCULINO   58.0  BRANCO   \n",
       "...                 ...               ...        ...    ...     ...   \n",
       "906654          1462095         RCBP JAHU   FEMININO   74.0  BRANCO   \n",
       "907019          1462220         RCBP JAHU   FEMININO   76.0  BRANCO   \n",
       "906993          1462245         RCBP JAHU  MASCULINO   33.0  BRANCO   \n",
       "906770          1462370         RCBP JAHU  MASCULINO   67.0  BRANCO   \n",
       "906488          1462211         RCBP JAHU   FEMININO   72.0  BRANCO   \n",
       "\n",
       "       nacionalidade estado_nascimento     estado       data  data_obito  \\\n",
       "906556        BRASIL         SÃO PAULO  SÃO PAULO 2019-01-02         NaN   \n",
       "906574        BRASIL    RIO DE JANEIRO  SÃO PAULO 2019-01-03         NaN   \n",
       "906686        BRASIL         SÃO PAULO  SÃO PAULO 2019-01-04         NaN   \n",
       "906764        BRASIL            PARANÁ  SÃO PAULO 2019-01-04         NaN   \n",
       "906602        BRASIL         SÃO PAULO  SÃO PAULO 2019-01-04         NaN   \n",
       "...              ...               ...        ...        ...         ...   \n",
       "906654        BRASIL         SÃO PAULO  SÃO PAULO 2019-12-20  25/12/2019   \n",
       "907019      PORTUGAL     Não informado  SÃO PAULO 2019-12-20         NaN   \n",
       "906993        BRASIL         SÃO PAULO  SÃO PAULO 2019-12-23         NaN   \n",
       "906770        BRASIL         SÃO PAULO  SÃO PAULO 2019-12-27  26/03/2021   \n",
       "906488        LIBANO     Não informado  SÃO PAULO 2019-12-27  12/06/2020   \n",
       "\n",
       "        ano_atendimento  \n",
       "906556           2019.0  \n",
       "906574           2019.0  \n",
       "906686           2019.0  \n",
       "906764           2019.0  \n",
       "906602           2019.0  \n",
       "...                 ...  \n",
       "906654           2019.0  \n",
       "907019           2019.0  \n",
       "906993           2019.0  \n",
       "906770           2019.0  \n",
       "906488           2019.0  \n",
       "\n",
       "[544 rows x 11 columns]"
      ]
     },
     "execution_count": 45,
     "metadata": {},
     "output_type": "execute_result"
    }
   ],
   "source": [
    "# Observação do início e final do dataframe para analisar o ordenamento dos dados por data.\n",
    "\n",
    "dados_2019 = dados2.loc[dados2['ano_atendimento'] == 2019]\n",
    "dados_2019.sort_values(by=['data'])"
   ]
  },
  {
   "cell_type": "markdown",
   "metadata": {},
   "source": [
    "## Conclusões (ANÁLISE 01 - Variação quantitativa anual de casos)\n",
    "\n",
    "I. Nos anos de 2007 a 2011, houve um aumento significativo dos diagnósticos de câncer no Brasil. Isso pode ser associado às seguintes causas:\n",
    "> * maior acesso da população ao sistema de saúde público ou privado,\n",
    "> * crescimento e melhorias implementadas nos serviços de saúde prestados,\n",
    "> * investimento em campanhas de conscientização populacional a respeito da doença,\n",
    "> * diagnósticos pré óbito.\n",
    "\n",
    "II. Os dados faltosos dos anos de 2018 e 2019 são dados consideráveis para análise e sua supressão pode ter diversos motivos como:\n",
    "> * o fornecedor do banco de dados enviou arquivos incompletos,\n",
    "> * os dados desses anos estão sendo armazenados em outro banco de dados no momento,\n",
    "> * os órgãos responsáveis estão tendo dificuldade em armazenar e receber os dados do sistema de saúde.\n",
    "\n",
    "Embora haja dados faltososo relevantes, as análises continuarão nesse projeto. Numa outra fase desse projeto, os dados serão novamente trabalhados com as possíveis correções, junto ao fornecedo, não cabíveis no momentoS."
   ]
  },
  {
   "cell_type": "markdown",
   "metadata": {},
   "source": [
    "# ANÁLISE 02 - Distribuição por sexos dos pacientes"
   ]
  },
  {
   "cell_type": "code",
   "execution_count": 67,
   "metadata": {},
   "outputs": [
    {
     "name": "stdout",
     "output_type": "stream",
     "text": [
      "<class 'pandas.core.frame.DataFrame'>\n",
      "RangeIndex: 957959 entries, 0 to 957958\n",
      "Data columns (total 11 columns):\n",
      " #   Column              Non-Null Count   Dtype  \n",
      "---  ------              --------------   -----  \n",
      " 0   codigo_paciente     957959 non-null  int64  \n",
      " 1   local_atendimento   957959 non-null  object \n",
      " 2   sexo                957959 non-null  object \n",
      " 3   idade               906892 non-null  float64\n",
      " 4   cor                 957959 non-null  object \n",
      " 5   nacionalidade       570600 non-null  object \n",
      " 6   estado_nascimento   572603 non-null  object \n",
      " 7   estado              957923 non-null  object \n",
      " 8   data                957958 non-null  object \n",
      " 9   data_obito          328005 non-null  object \n",
      " 10  estado_atendimento  957959 non-null  object \n",
      "dtypes: float64(1), int64(1), object(9)\n",
      "memory usage: 80.4+ MB\n"
     ]
    }
   ],
   "source": [
    "dados2.info()"
   ]
  },
  {
   "cell_type": "code",
   "execution_count": 10,
   "metadata": {},
   "outputs": [
    {
     "data": {
      "text/plain": [
       "array(['MASCULINO', 'FEMININO', 'IGNORADO'], dtype=object)"
      ]
     },
     "execution_count": 10,
     "metadata": {},
     "output_type": "execute_result"
    }
   ],
   "source": [
    "dados2.sexo.unique()"
   ]
  },
  {
   "cell_type": "code",
   "execution_count": 11,
   "metadata": {},
   "outputs": [
    {
     "data": {
      "text/plain": [
       "codigo_paciente           0\n",
       "local_atendimento         0\n",
       "sexo                      0\n",
       "idade                 51067\n",
       "cor                       0\n",
       "nacionalidade        387359\n",
       "estado_nascimento    385356\n",
       "estado                   36\n",
       "data                      1\n",
       "data_obito           629954\n",
       "dtype: int64"
      ]
     },
     "execution_count": 11,
     "metadata": {},
     "output_type": "execute_result"
    }
   ],
   "source": [
    "# A coluna contendo os dados do sexo do paciente não tem valores nulos.\n",
    "\n",
    "dados2.isnull().sum()"
   ]
  },
  {
   "cell_type": "code",
   "execution_count": 4,
   "metadata": {},
   "outputs": [
    {
     "data": {
      "text/plain": [
       "FEMININO     527913\n",
       "MASCULINO    429937\n",
       "IGNORADO        109\n",
       "Name: sexo, dtype: int64"
      ]
     },
     "execution_count": 4,
     "metadata": {},
     "output_type": "execute_result"
    }
   ],
   "source": [
    "# Valor total de ocorrência de cada dado. \n",
    "\n",
    "dados2['sexo'].value_counts()"
   ]
  },
  {
   "cell_type": "code",
   "execution_count": 28,
   "metadata": {},
   "outputs": [],
   "source": [
    "sexos = dados2[dados2['sexo'] == 'IGNORADO'].index"
   ]
  },
  {
   "cell_type": "code",
   "execution_count": 29,
   "metadata": {},
   "outputs": [],
   "source": [
    "# Retirada do valor \"IGNORADO\" para alguns gráficos.\n",
    "\n",
    "sexos_masc_fem = dados2.drop(sexos)"
   ]
  },
  {
   "cell_type": "code",
   "execution_count": 30,
   "metadata": {},
   "outputs": [],
   "source": [
    "# Conversão em DataFrame\n",
    "\n",
    "sexos_masc_fem_df = pd.DataFrame(sexos_masc_fem)"
   ]
  },
  {
   "cell_type": "code",
   "execution_count": 38,
   "metadata": {},
   "outputs": [],
   "source": [
    "gf_pizza_sexos = sexos_masc_fem_df['sexo'].value_counts()"
   ]
  },
  {
   "cell_type": "markdown",
   "metadata": {},
   "source": [
    "O dados abaixo do CENSO de 2010 foram tirados do site do **IBGE** disponível em:\n",
    "\n",
    "<https://www.ibge.gov.br/estatisticas/sociais/educacao/9662-censo-demografico-2010.html?t=destaques>"
   ]
  },
  {
   "cell_type": "code",
   "execution_count": 32,
   "metadata": {},
   "outputs": [],
   "source": [
    "# Quantidade de homens e mulheres no Brasil segundo o CENSO de 2010 - último censo efetivado.\n",
    "\n",
    "homens = 93406990\n",
    "mulheres = 97348809\n",
    "total =  97348809 + 93406990\n",
    "censo_2010 = [93406990, 97348809]"
   ]
  },
  {
   "cell_type": "code",
   "execution_count": 48,
   "metadata": {},
   "outputs": [
    {
     "data": {
      "image/png": "[encoded data removed]",
      "text/plain": [
       "<Figure size 720x288 with 2 Axes>"
      ]
     },
     "metadata": {},
     "output_type": "display_data"
    }
   ],
   "source": [
    "# Gráfico de comparação entre a proporção de homens e mulheres no Brasil em 2010 e os dados de pacientes com câncer.\n",
    "\n",
    "#sns.catplot(data=censo_2010, x=['Masculino','Feminino'], palette='magma', aspect=1.5)\n",
    "#plt.xticks(rotation = 90)\n",
    "#plt.legend().set_visible(False)\n",
    "\n",
    "sns.set_theme(style = 'whitegrid')\n",
    "fig, (ax1,ax2) = plt.subplots(1,2, figsize=(10,4))\n",
    "\n",
    "x1 = ['Masculino', 'Feminino']\n",
    "\n",
    "ax1.set_title('CENSO 2010')\n",
    "sns.barplot(\n",
    "        x = x1,\n",
    "        y = censo_2010,\n",
    "        palette = 'magma',\n",
    "        ax = ax1\n",
    ")\n",
    "\n",
    "ax2.set_title('Dados INCA (2012 - 2019)')\n",
    "\n",
    "#ax2.pie(\n",
    " #       gf_pizza_sexos, \n",
    "  #      labels= ['FEMININO','MASCULINO'],\n",
    "   #     autopct='%1.1f%%',\n",
    "    #    colors= [\"lightsalmon\",\"lightsteelblue\"]\n",
    "#)\n",
    "sns.barplot(\n",
    "        x = ['FEMININO','MASCULINO'],\n",
    "        y = gf_pizza_sexos,\n",
    "        palette = 'Set3',\n",
    "        ax = ax2\n",
    ")\n",
    "\n",
    "plt.show()\n"
   ]
  },
  {
   "cell_type": "markdown",
   "metadata": {},
   "source": [
    "**Nota-se que a distribuição não é distonante da realidade brasileira.**"
   ]
  },
  {
   "cell_type": "code",
   "execution_count": 18,
   "metadata": {},
   "outputs": [
    {
     "data": {
      "text/html": [
       "<div>\n",
       "<style scoped>\n",
       "    .dataframe tbody tr th:only-of-type {\n",
       "        vertical-align: middle;\n",
       "    }\n",
       "\n",
       "    .dataframe tbody tr th {\n",
       "        vertical-align: top;\n",
       "    }\n",
       "\n",
       "    .dataframe thead th {\n",
       "        text-align: right;\n",
       "    }\n",
       "</style>\n",
       "<table border=\"1\" class=\"dataframe\">\n",
       "  <thead>\n",
       "    <tr style=\"text-align: right;\">\n",
       "      <th></th>\n",
       "      <th>codigo_paciente</th>\n",
       "      <th>local_atendimento</th>\n",
       "      <th>sexo</th>\n",
       "      <th>idade</th>\n",
       "      <th>cor</th>\n",
       "      <th>nacionalidade</th>\n",
       "      <th>estado_nascimento</th>\n",
       "      <th>estado</th>\n",
       "      <th>data</th>\n",
       "      <th>data_obito</th>\n",
       "    </tr>\n",
       "  </thead>\n",
       "  <tbody>\n",
       "    <tr>\n",
       "      <th>0</th>\n",
       "      <td>672054</td>\n",
       "      <td>RCBP CAMPINAS-UNICAMP</td>\n",
       "      <td>MASCULINO</td>\n",
       "      <td>30.0</td>\n",
       "      <td>BRANCO</td>\n",
       "      <td>BRASIL</td>\n",
       "      <td>SÃO PAULO</td>\n",
       "      <td>SÃO PAULO</td>\n",
       "      <td>07/10/2005</td>\n",
       "      <td>07/10/2005</td>\n",
       "    </tr>\n",
       "    <tr>\n",
       "      <th>1</th>\n",
       "      <td>673745</td>\n",
       "      <td>RCBP CAMPINAS-UNICAMP</td>\n",
       "      <td>MASCULINO</td>\n",
       "      <td>71.0</td>\n",
       "      <td>BRANCO</td>\n",
       "      <td>BRASIL</td>\n",
       "      <td>SÃO PAULO</td>\n",
       "      <td>SÃO PAULO</td>\n",
       "      <td>21/10/2005</td>\n",
       "      <td>21/10/2005</td>\n",
       "    </tr>\n",
       "    <tr>\n",
       "      <th>2</th>\n",
       "      <td>676350</td>\n",
       "      <td>RCBP CAMPINAS-UNICAMP</td>\n",
       "      <td>MASCULINO</td>\n",
       "      <td>71.0</td>\n",
       "      <td>BRANCO</td>\n",
       "      <td>BRASIL</td>\n",
       "      <td>SÃO PAULO</td>\n",
       "      <td>SÃO PAULO</td>\n",
       "      <td>06/11/2005</td>\n",
       "      <td>06/11/2005</td>\n",
       "    </tr>\n",
       "    <tr>\n",
       "      <th>3</th>\n",
       "      <td>679877</td>\n",
       "      <td>RCBP CAMPINAS-UNICAMP</td>\n",
       "      <td>FEMININO</td>\n",
       "      <td>57.0</td>\n",
       "      <td>PARDA</td>\n",
       "      <td>BRASIL</td>\n",
       "      <td>ALAGOAS</td>\n",
       "      <td>SÃO PAULO</td>\n",
       "      <td>15/05/2005</td>\n",
       "      <td>15/05/2005</td>\n",
       "    </tr>\n",
       "    <tr>\n",
       "      <th>4</th>\n",
       "      <td>676553</td>\n",
       "      <td>RCBP CAMPINAS-UNICAMP</td>\n",
       "      <td>MASCULINO</td>\n",
       "      <td>52.0</td>\n",
       "      <td>BRANCO</td>\n",
       "      <td>BRASIL</td>\n",
       "      <td>SÃO PAULO</td>\n",
       "      <td>SÃO PAULO</td>\n",
       "      <td>24/02/2005</td>\n",
       "      <td>24/02/2005</td>\n",
       "    </tr>\n",
       "  </tbody>\n",
       "</table>\n",
       "</div>"
      ],
      "text/plain": [
       "   codigo_paciente      local_atendimento       sexo  idade     cor  \\\n",
       "0           672054  RCBP CAMPINAS-UNICAMP  MASCULINO   30.0  BRANCO   \n",
       "1           673745  RCBP CAMPINAS-UNICAMP  MASCULINO   71.0  BRANCO   \n",
       "2           676350  RCBP CAMPINAS-UNICAMP  MASCULINO   71.0  BRANCO   \n",
       "3           679877  RCBP CAMPINAS-UNICAMP   FEMININO   57.0   PARDA   \n",
       "4           676553  RCBP CAMPINAS-UNICAMP  MASCULINO   52.0  BRANCO   \n",
       "\n",
       "  nacionalidade estado_nascimento     estado        data  data_obito  \n",
       "0        BRASIL         SÃO PAULO  SÃO PAULO  07/10/2005  07/10/2005  \n",
       "1        BRASIL         SÃO PAULO  SÃO PAULO  21/10/2005  21/10/2005  \n",
       "2        BRASIL         SÃO PAULO  SÃO PAULO  06/11/2005  06/11/2005  \n",
       "3        BRASIL           ALAGOAS  SÃO PAULO  15/05/2005  15/05/2005  \n",
       "4        BRASIL         SÃO PAULO  SÃO PAULO  24/02/2005  24/02/2005  "
      ]
     },
     "execution_count": 18,
     "metadata": {},
     "output_type": "execute_result"
    }
   ],
   "source": [
    "sexos_masc_fem_df.head()"
   ]
  },
  {
   "cell_type": "code",
   "execution_count": 33,
   "metadata": {},
   "outputs": [
    {
     "data": {
      "image/png": "[encoded data removed]",
      "text/plain": [
       "<Figure size 360x360 with 1 Axes>"
      ]
     },
     "metadata": {
      "needs_background": "light"
     },
     "output_type": "display_data"
    }
   ],
   "source": [
    "# Gráfico quantidade de homens e de mulheres no banco de dados em valores absolutos.\n",
    "sns.set_theme(style = 'whitegrid')\n",
    "plt.figure(figsize=(5,5))\n",
    "sns.histplot(data=sexos_masc_fem_df, x='sexo', hue='sexo', palette='cubehelix')\n",
    "plt.tick_params(axis='x', labelsize=0)\n",
    "plt.xlabel([], fontsize=0)\n",
    "plt.show()\n"
   ]
  },
  {
   "cell_type": "code",
   "execution_count": 53,
   "metadata": {},
   "outputs": [
    {
     "data": {
      "image/png": "[encoded data removed]",
      "text/plain": [
       "<Figure size 1296x360 with 1 Axes>"
      ]
     },
     "metadata": {},
     "output_type": "display_data"
    }
   ],
   "source": [
    "# Gráfico contendo a quantidade de homens e mulheres que tiveram ou têm câncer por estado e considerando o valor \"IGNORADO\"\n",
    "sns.set_theme(style = 'whitegrid')\n",
    "plt.figure(figsize=(18,5))\n",
    "sns.histplot(data=dados2, x='estado', hue='sexo', multiple=\"dodge\", log_scale=(False,True), palette='BuPu', alpha=.8 )\n",
    "plt.xticks(rotation = 90)\n",
    "\n",
    "plt.show()"
   ]
  },
  {
   "cell_type": "markdown",
   "metadata": {},
   "source": [
    "**Observa-se que o valor \"IGNORADO\" para sexo não é algo recorrente em todos os estados brasileiros. Porém, ele está presente 13 dos 23 estados e no Distrito Federal.**"
   ]
  },
  {
   "cell_type": "markdown",
   "metadata": {},
   "source": [
    "## Conclusões (ANÁLISE 02 - Distribuição por sexos dos pacientes)\n",
    "\n",
    "I. A distribuição de casos de câncer entre os sexo se revelou parecida com a distribuição dos sexos na população no CENSO de 2010. Pode-se concluir disso que não há uma predominância importante dos casos de câncer entre os sexos, embora cada um possua pré-disposição conforme características genéticas do sexo pertencente.\n",
    "\n",
    "II. A presença do valor \"IGNORADO\" pode ser devido:\n",
    "> * a falta de atenção da pessoa que faz as fichas de cadastos ou de quem as coloca no banco de dados,\n",
    "> * ao paciente ser do grupo LGBTQIA+ e o atendente não ter experiência em como proceder nesse caso ou preconceito."
   ]
  },
  {
   "cell_type": "markdown",
   "metadata": {},
   "source": [
    "# ANÁLISE 03 - Idades"
   ]
  },
  {
   "cell_type": "code",
   "execution_count": 28,
   "metadata": {},
   "outputs": [
    {
     "data": {
      "text/html": [
       "<div>\n",
       "<style scoped>\n",
       "    .dataframe tbody tr th:only-of-type {\n",
       "        vertical-align: middle;\n",
       "    }\n",
       "\n",
       "    .dataframe tbody tr th {\n",
       "        vertical-align: top;\n",
       "    }\n",
       "\n",
       "    .dataframe thead th {\n",
       "        text-align: right;\n",
       "    }\n",
       "</style>\n",
       "<table border=\"1\" class=\"dataframe\">\n",
       "  <thead>\n",
       "    <tr style=\"text-align: right;\">\n",
       "      <th></th>\n",
       "      <th>codigo_paciente</th>\n",
       "      <th>local_atendimento</th>\n",
       "      <th>sexo</th>\n",
       "      <th>idade</th>\n",
       "      <th>cor</th>\n",
       "      <th>nacionalidade</th>\n",
       "      <th>estado_nascimento</th>\n",
       "      <th>estado</th>\n",
       "      <th>data</th>\n",
       "      <th>data_obito</th>\n",
       "    </tr>\n",
       "  </thead>\n",
       "  <tbody>\n",
       "    <tr>\n",
       "      <th>0</th>\n",
       "      <td>672054</td>\n",
       "      <td>RCBP CAMPINAS-UNICAMP</td>\n",
       "      <td>MASCULINO</td>\n",
       "      <td>30.0</td>\n",
       "      <td>BRANCO</td>\n",
       "      <td>BRASIL</td>\n",
       "      <td>SÃO PAULO</td>\n",
       "      <td>SÃO PAULO</td>\n",
       "      <td>07/10/2005</td>\n",
       "      <td>07/10/2005</td>\n",
       "    </tr>\n",
       "    <tr>\n",
       "      <th>1</th>\n",
       "      <td>673745</td>\n",
       "      <td>RCBP CAMPINAS-UNICAMP</td>\n",
       "      <td>MASCULINO</td>\n",
       "      <td>71.0</td>\n",
       "      <td>BRANCO</td>\n",
       "      <td>BRASIL</td>\n",
       "      <td>SÃO PAULO</td>\n",
       "      <td>SÃO PAULO</td>\n",
       "      <td>21/10/2005</td>\n",
       "      <td>21/10/2005</td>\n",
       "    </tr>\n",
       "    <tr>\n",
       "      <th>2</th>\n",
       "      <td>676350</td>\n",
       "      <td>RCBP CAMPINAS-UNICAMP</td>\n",
       "      <td>MASCULINO</td>\n",
       "      <td>71.0</td>\n",
       "      <td>BRANCO</td>\n",
       "      <td>BRASIL</td>\n",
       "      <td>SÃO PAULO</td>\n",
       "      <td>SÃO PAULO</td>\n",
       "      <td>06/11/2005</td>\n",
       "      <td>06/11/2005</td>\n",
       "    </tr>\n",
       "    <tr>\n",
       "      <th>3</th>\n",
       "      <td>679877</td>\n",
       "      <td>RCBP CAMPINAS-UNICAMP</td>\n",
       "      <td>FEMININO</td>\n",
       "      <td>57.0</td>\n",
       "      <td>PARDA</td>\n",
       "      <td>BRASIL</td>\n",
       "      <td>ALAGOAS</td>\n",
       "      <td>SÃO PAULO</td>\n",
       "      <td>15/05/2005</td>\n",
       "      <td>15/05/2005</td>\n",
       "    </tr>\n",
       "    <tr>\n",
       "      <th>4</th>\n",
       "      <td>676553</td>\n",
       "      <td>RCBP CAMPINAS-UNICAMP</td>\n",
       "      <td>MASCULINO</td>\n",
       "      <td>52.0</td>\n",
       "      <td>BRANCO</td>\n",
       "      <td>BRASIL</td>\n",
       "      <td>SÃO PAULO</td>\n",
       "      <td>SÃO PAULO</td>\n",
       "      <td>24/02/2005</td>\n",
       "      <td>24/02/2005</td>\n",
       "    </tr>\n",
       "  </tbody>\n",
       "</table>\n",
       "</div>"
      ],
      "text/plain": [
       "   codigo_paciente      local_atendimento       sexo  idade     cor  \\\n",
       "0           672054  RCBP CAMPINAS-UNICAMP  MASCULINO   30.0  BRANCO   \n",
       "1           673745  RCBP CAMPINAS-UNICAMP  MASCULINO   71.0  BRANCO   \n",
       "2           676350  RCBP CAMPINAS-UNICAMP  MASCULINO   71.0  BRANCO   \n",
       "3           679877  RCBP CAMPINAS-UNICAMP   FEMININO   57.0   PARDA   \n",
       "4           676553  RCBP CAMPINAS-UNICAMP  MASCULINO   52.0  BRANCO   \n",
       "\n",
       "  nacionalidade estado_nascimento     estado        data  data_obito  \n",
       "0        BRASIL         SÃO PAULO  SÃO PAULO  07/10/2005  07/10/2005  \n",
       "1        BRASIL         SÃO PAULO  SÃO PAULO  21/10/2005  21/10/2005  \n",
       "2        BRASIL         SÃO PAULO  SÃO PAULO  06/11/2005  06/11/2005  \n",
       "3        BRASIL           ALAGOAS  SÃO PAULO  15/05/2005  15/05/2005  \n",
       "4        BRASIL         SÃO PAULO  SÃO PAULO  24/02/2005  24/02/2005  "
      ]
     },
     "execution_count": 28,
     "metadata": {},
     "output_type": "execute_result"
    }
   ],
   "source": [
    "dados2.head()"
   ]
  },
  {
   "cell_type": "code",
   "execution_count": 32,
   "metadata": {},
   "outputs": [
    {
     "name": "stdout",
     "output_type": "stream",
     "text": [
      "<class 'pandas.core.frame.DataFrame'>\n",
      "RangeIndex: 957959 entries, 0 to 957958\n",
      "Data columns (total 10 columns):\n",
      " #   Column             Non-Null Count   Dtype  \n",
      "---  ------             --------------   -----  \n",
      " 0   codigo_paciente    957959 non-null  int64  \n",
      " 1   local_atendimento  957959 non-null  object \n",
      " 2   sexo               957959 non-null  object \n",
      " 3   idade              906892 non-null  float64\n",
      " 4   cor                957959 non-null  object \n",
      " 5   nacionalidade      570600 non-null  object \n",
      " 6   estado_nascimento  572603 non-null  object \n",
      " 7   estado             957923 non-null  object \n",
      " 8   data               957958 non-null  object \n",
      " 9   data_obito         328005 non-null  object \n",
      "dtypes: float64(1), int64(1), object(8)\n",
      "memory usage: 73.1+ MB\n"
     ]
    }
   ],
   "source": [
    "dados2.info()"
   ]
  },
  {
   "cell_type": "code",
   "execution_count": 54,
   "metadata": {},
   "outputs": [
    {
     "data": {
      "image/png": "[encoded data removed]",
      "text/plain": [
       "<Figure size 576x576 with 1 Axes>"
      ]
     },
     "metadata": {},
     "output_type": "display_data"
    }
   ],
   "source": [
    "# Histograma da idade em relação a quantidade de casos\n",
    "\n",
    "plt.figure(figsize=(8,8))\n",
    "sns.histplot(data=dados2, x='idade', palette='magma')\n",
    "plt.xlim(0,100)\n",
    "\n",
    "plt.show()"
   ]
  },
  {
   "cell_type": "markdown",
   "metadata": {},
   "source": [
    "**Nota-se que o intervalo com maior quantidade de pessoas com diagnóstico de câncer é dos 45 aos 80 anos de dade.**"
   ]
  },
  {
   "cell_type": "code",
   "execution_count": 57,
   "metadata": {},
   "outputs": [
    {
     "data": {
      "image/png": "[encoded data removed]",
      "text/plain": [
       "<Figure size 576x576 with 1 Axes>"
      ]
     },
     "metadata": {},
     "output_type": "display_data"
    }
   ],
   "source": [
    "# Histograma da idade em relação a quantidade de casos separdas por sexo\n",
    "\n",
    "plt.figure(figsize=(8,8))\n",
    "sns.histplot(data=dados2, x='idade', hue='sexo', palette = 'Set2')\n",
    "plt.xlim(0,100)\n",
    "\n",
    "plt.show()"
   ]
  },
  {
   "cell_type": "markdown",
   "metadata": {},
   "source": [
    "**Pelo gráfico, fica evidente que a quatindade mulheres entre os 20 ao 55 com diagnóstico de câncer é significativamente maior que a quantidade de homens nessa mesma faixa etária.**"
   ]
  },
  {
   "cell_type": "markdown",
   "metadata": {},
   "source": [
    "## Conclusões (ANÁLISE 02 - Idades)\n",
    "\n",
    "A análise do gráfico geral ratifica que o câncer tem maior ocorrência entre pessoas acima dos 50 anos de idade. No entanto, a quantidade de casos abaixo dos 50 anos de idade também é preocupante, principalmente em mulheres. Isso pode ser devido ao fato do câncer de mama e de útero acontecerem, geralmente, antes nas mulheres do que o câncer de próstota nos homens ou, também, pelo fato de a mulher ter maior cuidado com a saúde e favorecer um diagnóstico precoce."
   ]
  },
  {
   "cell_type": "markdown",
   "metadata": {},
   "source": [
    "# ANÁLISE 04 - Quantidade de casos por estado"
   ]
  },
  {
   "cell_type": "code",
   "execution_count": 20,
   "metadata": {},
   "outputs": [
    {
     "data": {
      "text/plain": [
       "Index(['codigo_paciente', 'local_atendimento', 'sexo', 'idade', 'cor',\n",
       "       'nacionalidade', 'estado_nascimento', 'estado', 'data', 'data_obito'],\n",
       "      dtype='object')"
      ]
     },
     "execution_count": 20,
     "metadata": {},
     "output_type": "execute_result"
    }
   ],
   "source": [
    "sexos_masc_fem_df.columns"
   ]
  },
  {
   "cell_type": "code",
   "execution_count": 21,
   "metadata": {},
   "outputs": [
    {
     "data": {
      "text/plain": [
       "SÃO PAULO              430767\n",
       "MINAS GERAIS           102853\n",
       "MATO GROSSO             53060\n",
       "CEARÁ                   48026\n",
       "DISTRITO FEDERAL        47590\n",
       "PARÁ                    42463\n",
       "PARANÁ                  41153\n",
       "PERNAMBUCO              33626\n",
       "RIO GRANDE DO SUL       28495\n",
       "AMAZONAS                20605\n",
       "SERGIPE                 15938\n",
       "SANTA CATARINA          15851\n",
       "ESPIRITO SANTO          14056\n",
       "PARAÍBA                 12941\n",
       "ALAGOAS                  9688\n",
       "MATO GROSSO DO SUL       9655\n",
       "RIO GRANDE DO NORTE      9120\n",
       "RONDONIA                 7142\n",
       "ACRE                     6031\n",
       "RORAIMA                  2716\n",
       "RIO DE JANEIRO           2264\n",
       "TOCANTINS                2179\n",
       "PIAUÍ                    1512\n",
       "BAHIA                     192\n",
       "Name: estado, dtype: int64"
      ]
     },
     "execution_count": 21,
     "metadata": {},
     "output_type": "execute_result"
    }
   ],
   "source": [
    "# Quantidade de dados por estado\n",
    "\n",
    "gf_pizza_estados = dados2['estado'].value_counts()\n",
    "gf_pizza_estados"
   ]
  },
  {
   "cell_type": "code",
   "execution_count": 22,
   "metadata": {},
   "outputs": [
    {
     "data": {
      "text/plain": [
       "array(['SÃO PAULO', 'ACRE', 'ALAGOAS', 'RIO DE JANEIRO', 'SERGIPE',\n",
       "       'PARÁ', 'MINAS GERAIS', nan, 'MATO GROSSO DO SUL', 'MATO GROSSO ',\n",
       "       'PARANÁ', 'DISTRITO FEDERAL', 'ESPIRITO SANTO', 'SANTA CATARINA',\n",
       "       'CEARÁ', 'PARAÍBA', 'AMAZONAS', 'RIO GRANDE DO NORTE', 'TOCANTINS',\n",
       "       'RIO GRANDE DO SUL', 'PERNAMBUCO', 'RORAIMA', 'BAHIA', 'PIAUÍ',\n",
       "       'RONDONIA'], dtype=object)"
      ]
     },
     "execution_count": 22,
     "metadata": {},
     "output_type": "execute_result"
    }
   ],
   "source": [
    "# Tiposde valores que aparecem nos dados por estado\n",
    "\n",
    "dados2.estado.unique()"
   ]
  },
  {
   "cell_type": "code",
   "execution_count": 23,
   "metadata": {},
   "outputs": [
    {
     "data": {
      "image/png": "[encoded data removed]",
      "text/plain": [
       "<Figure size 504x504 with 1 Axes>"
      ]
     },
     "metadata": {},
     "output_type": "display_data"
    }
   ],
   "source": [
    "# Gráfico da porcentagem de casos por estados\n",
    "\n",
    "plt.figure(figsize=(7,7))\n",
    "\n",
    "'''\n",
    "plt.axis('equal')\n",
    "plt.pie(gf_pizza_estados,\n",
    "        labels=['SÃO PAULO',\n",
    "                'MINAS GERAIS',\n",
    "                'MATO GROSSO',\n",
    "                'CEARÁ',\n",
    "                'DISTRITO FEDERAL',\n",
    "                'PARÁ',\n",
    "                'PARANÁ',\n",
    "                'PERNAMBUCO',\n",
    "                'RIO GRANDE DO SUL',\n",
    "                'AMAZONAS',\n",
    "                'SERGIPE',\n",
    "                'SANTA CATARINA',\n",
    "                'ESPIRITO SANTO',\n",
    "                'PARAÍBA',\n",
    "                'ALAGOAS',\n",
    "                'MATO GROSSO DO SUL',\n",
    "                'RIO GRANDE DO NORTE',\n",
    "                'RONDONIA',\n",
    "                'ACRE',\n",
    "                'RORAIMA',\n",
    "                'RIO DE JANEIRO',\n",
    "                'TOCANTINS',\n",
    "                'PIAUÍ',\n",
    "                'BAHIA'],\n",
    "        autopct='%1.1f%%',\n",
    "        pctdistance= 0.8\n",
    ")\n",
    "'''\n",
    "plt.show()"
   ]
  },
  {
   "cell_type": "markdown",
   "metadata": {},
   "source": [
    "**Estados de destaque na quantidade de diagnósticos: São Paulo, Minas Gerais, Mato Grosso, Ceará, Distrito Federal, Pará, Paraná.**"
   ]
  },
  {
   "cell_type": "code",
   "execution_count": 26,
   "metadata": {},
   "outputs": [
    {
     "name": "stderr",
     "output_type": "stream",
     "text": [
      "No handles with labels found to put in legend.\n"
     ]
    },
    {
     "data": {
      "image/png": "[encoded data removed]",
      "text/plain": [
       "<Figure size 1296x432 with 1 Axes>"
      ]
     },
     "metadata": {
      "needs_background": "light"
     },
     "output_type": "display_data"
    }
   ],
   "source": [
    "# Gráfico da quantidade absoluta de casos por estado\n",
    "\n",
    "plt.figure(figsize=(18,6))\n",
    "sns.histplot(data=dados2, x='estado', hue='estado', stat='percent', palette='rainbow')\n",
    "plt.xticks(rotation = 90)\n",
    "plt.legend().set_visible(False)\n",
    "\n",
    "plt.show()"
   ]
  },
  {
   "cell_type": "markdown",
   "metadata": {},
   "source": [
    "## Conclusão (ANÁLISE 04 - Quantidade de casos por estado)\n",
    "\n",
    "I. Os possíveis motivos pelo qual São Paulo detém 45% dos diagnósticos de câncer são:\n",
    "> * é referência nacional no que se refere ao tratamento de câncer com melhor infraestrutura, portanto é provavél que há grande fluxo de pessoas para essa região em busca de melhores tratamentos de câncer (Destaque para o Hospital do Amor em Barretos, o maior da América Latina),\n",
    "> * é o estado mais populoso e povoado do país (IBGE - CENSO 2010) e, consequentemente, possuem maior quantidade de casos.\n",
    "\n",
    "II. Os outros estados como Minas Gerais, Mato Grosso, Ceará, Rio Grande do Sul, Paraná, Pará e o Distrito Federal possuem elevados números de diagnóstico pode ser relacionado ao fato de serem estados de grande importância econômica para suas respectivas regiões, por isso, é onde concentram-se os pólos em saúde.\n"
   ]
  },
  {
   "cell_type": "markdown",
   "metadata": {},
   "source": [
    "# ANÁLISE 05 - Deslocamentos dos pacientes para tratamento"
   ]
  },
  {
   "cell_type": "markdown",
   "metadata": {},
   "source": [
    "## 5.1. Adicionando a coluna que mostra o estado em que aconteceu o atendimento.\n",
    "\n",
    "A base de dados mostra o nome do local de atendimento e o endereço do paciente. Para analisar um possível movimento interestadual de pacientes, faz-se necessário associar o nome do local do antendimento com o estado de pertecimento e colocar numa coluna."
   ]
  },
  {
   "cell_type": "code",
   "execution_count": 40,
   "metadata": {},
   "outputs": [
    {
     "data": {
      "text/plain": [
       "array(['RCBP CAMPINAS-UNICAMP', 'RCBP SÃO PAULO', 'RCBP ACRE',\n",
       "       'RCBP ALAGOAS', 'RCBP ANGRA DOS REIS', 'RCBP ARACAJU',\n",
       "       'RCBP BELÉM', 'RCBP BELO HORIZONTE', 'RCBP CAMPINAS-SMS',\n",
       "       'RCBP CAMPO GRANDE', 'RCBP CUIABA', 'RCBP CURITIBA',\n",
       "       'RCBP MATO GROSSO (INTERIOR)', 'RCBP DISTRITO FEDERAL',\n",
       "       'RCBP DRS BARRETOS', 'RCBP ESPÍRITO SANTO', 'RCBP FLORIANOPOLIS',\n",
       "       'RCBP FORTALEZA', 'RCBP JAHU', 'RCBP JOAO PESSOA', 'RCBP MANAUS',\n",
       "       'RCBP NATAL', 'RCBP PALMAS', 'RCBP POÇOS DE CALDAS',\n",
       "       'RCBP PORTO ALEGRE', 'RCBP RECIFE', 'RCBP RORAIMA',\n",
       "       'RCBP SALVADOR', 'RCBP SANTOS', 'RCBP TERESINA', 'RCBP GOIÂNIA',\n",
       "       'RCBP RONDONIA'], dtype=object)"
      ]
     },
     "execution_count": 40,
     "metadata": {},
     "output_type": "execute_result"
    }
   ],
   "source": [
    "# Identificação dos dados que aparecem na coluna 'local_atendimento'\n",
    "\n",
    "dados2.local_atendimento.unique()"
   ]
  },
  {
   "cell_type": "code",
   "execution_count": 41,
   "metadata": {},
   "outputs": [],
   "source": [
    "# Condições e dados para a nova coluna\n",
    "\n",
    "conditionlist=[\n",
    "    (dados2['local_atendimento']=='RCBP CAMPINAS-UNICAMP'),\n",
    "    (dados2['local_atendimento']=='RCBP SÃO PAULO'),\n",
    "    (dados2['local_atendimento']=='RCBP ACRE'),\n",
    "    (dados2['local_atendimento']=='RCBP ALAGOAS'),\n",
    "    (dados2['local_atendimento']=='RCBP ANGRA DOS REIS'),\n",
    "    (dados2['local_atendimento']=='RCBP ARACAJU'),\n",
    "    (dados2['local_atendimento']=='RCBP BELÉM'),\n",
    "    (dados2['local_atendimento']=='RCBP BELO HORIZONTE'),\n",
    "    (dados2['local_atendimento']=='RCBP CAMPINAS-SMS'),\n",
    "    (dados2['local_atendimento']=='RCBP CAMPO GRANDE'),\n",
    "    (dados2['local_atendimento']=='RCBP CUIABA'),\n",
    "    (dados2['local_atendimento']=='RCBP CURITIBA'),\n",
    "    (dados2['local_atendimento']=='RCBP MATO GROSSO (INTERIOR)'),\n",
    "    (dados2['local_atendimento']=='RCBP DISTRITO FEDERAL)'),\n",
    "    (dados2['local_atendimento']=='RCBP DRS BARRETOS'),\n",
    "    (dados2['local_atendimento']=='RCBP ESPÍRITO SANTO'),\n",
    "    (dados2['local_atendimento']=='RCBP FLORIANOPOLIS'),\n",
    "    (dados2['local_atendimento']=='RCBP FORTALEZA'),\n",
    "    (dados2['local_atendimento']=='RCBP JAHU'),\n",
    "    (dados2['local_atendimento']=='RCBP JOAO PESSOA'),\n",
    "    (dados2['local_atendimento']=='RCBP MANAUS'),\n",
    "    (dados2['local_atendimento']=='RCBP NATAL'),\n",
    "    (dados2['local_atendimento']=='RCBP PALMAS'),\n",
    "    (dados2['local_atendimento']=='RCBP POÇOS DE CALDAS'),\n",
    "    (dados2['local_atendimento']=='RCBP PORTO ALEGRE'),\n",
    "    (dados2['local_atendimento']=='RCBP RECIFE'),\n",
    "    (dados2['local_atendimento']=='RCBP RORAIMA'),\n",
    "    (dados2['local_atendimento']=='RCBP SALVADOR'),\n",
    "    (dados2['local_atendimento']=='RCBP SANTOS'),\n",
    "    (dados2['local_atendimento']=='RCBP TERESINA'),\n",
    "    (dados2['local_atendimento']=='RCBP GOIÂNIA'),\n",
    "    (dados2['local_atendimento']=='RCBP RONDONIA'),\n",
    "]\n",
    "\n",
    "choicelist = [\n",
    "    'SÃO PAULO',\n",
    "    'SÃO PAULO', \n",
    "    'ACRE',\n",
    "    'ALAGOAS',\n",
    "    'RIO DE JANEIRO',\n",
    "    'SERGIPE',\n",
    "    'PARÁ',\n",
    "    'MINAS GERAIS',\n",
    "    'SÃO PAULO',\n",
    "    'MATO GROSSO DO SUL', \n",
    "    'MATO GROSSO',\n",
    "    'PARANÁ',\n",
    "    'MATO GROSSO',\n",
    "    'DISTRITO FEDERAL',\n",
    "    'SÃO PAULO',\n",
    "    'ESPÍRITO SANTO', \n",
    "    'SANTA CATARINA',\n",
    "    'CEARÁ', \n",
    "    'SÃO PAULO', \n",
    "    'PARAÍBA',\n",
    "    'AMAZONAS',\n",
    "    'RIO GRANDE DO NORTE', \n",
    "    'TOCANTINS', \n",
    "    'MINAS GERAIS',\n",
    "    'RIO GRANDE DO SUL', \n",
    "    'PERNAMBUCO', \n",
    "    'RORAIMA',\n",
    "    'BAHIA',\n",
    "    'SÃO PAULO', \n",
    "    'PIAUÍ', \n",
    "    'GOIÁS',\n",
    "    'RONDONIA'\n",
    "]"
   ]
  },
  {
   "cell_type": "code",
   "execution_count": 42,
   "metadata": {},
   "outputs": [],
   "source": [
    "# Criação da nova coluna\n",
    "\n",
    "dados2['estado_atendimento']= np.select(conditionlist, choicelist, default='Not Specified')"
   ]
  },
  {
   "cell_type": "code",
   "execution_count": 51,
   "metadata": {},
   "outputs": [
    {
     "data": {
      "text/html": [
       "<div>\n",
       "<style scoped>\n",
       "    .dataframe tbody tr th:only-of-type {\n",
       "        vertical-align: middle;\n",
       "    }\n",
       "\n",
       "    .dataframe tbody tr th {\n",
       "        vertical-align: top;\n",
       "    }\n",
       "\n",
       "    .dataframe thead th {\n",
       "        text-align: right;\n",
       "    }\n",
       "</style>\n",
       "<table border=\"1\" class=\"dataframe\">\n",
       "  <thead>\n",
       "    <tr style=\"text-align: right;\">\n",
       "      <th></th>\n",
       "      <th>codigo_paciente</th>\n",
       "      <th>local_atendimento</th>\n",
       "      <th>sexo</th>\n",
       "      <th>idade</th>\n",
       "      <th>cor</th>\n",
       "      <th>nacionalidade</th>\n",
       "      <th>estado_nascimento</th>\n",
       "      <th>estado</th>\n",
       "      <th>data</th>\n",
       "      <th>data_obito</th>\n",
       "      <th>estado_atendimento</th>\n",
       "    </tr>\n",
       "  </thead>\n",
       "  <tbody>\n",
       "    <tr>\n",
       "      <th>0</th>\n",
       "      <td>672054</td>\n",
       "      <td>RCBP CAMPINAS-UNICAMP</td>\n",
       "      <td>MASCULINO</td>\n",
       "      <td>30.0</td>\n",
       "      <td>BRANCO</td>\n",
       "      <td>BRASIL</td>\n",
       "      <td>SÃO PAULO</td>\n",
       "      <td>SÃO PAULO</td>\n",
       "      <td>07/10/2005</td>\n",
       "      <td>07/10/2005</td>\n",
       "      <td>SÃO PAULO</td>\n",
       "    </tr>\n",
       "    <tr>\n",
       "      <th>1</th>\n",
       "      <td>673745</td>\n",
       "      <td>RCBP CAMPINAS-UNICAMP</td>\n",
       "      <td>MASCULINO</td>\n",
       "      <td>71.0</td>\n",
       "      <td>BRANCO</td>\n",
       "      <td>BRASIL</td>\n",
       "      <td>SÃO PAULO</td>\n",
       "      <td>SÃO PAULO</td>\n",
       "      <td>21/10/2005</td>\n",
       "      <td>21/10/2005</td>\n",
       "      <td>SÃO PAULO</td>\n",
       "    </tr>\n",
       "    <tr>\n",
       "      <th>2</th>\n",
       "      <td>676350</td>\n",
       "      <td>RCBP CAMPINAS-UNICAMP</td>\n",
       "      <td>MASCULINO</td>\n",
       "      <td>71.0</td>\n",
       "      <td>BRANCO</td>\n",
       "      <td>BRASIL</td>\n",
       "      <td>SÃO PAULO</td>\n",
       "      <td>SÃO PAULO</td>\n",
       "      <td>06/11/2005</td>\n",
       "      <td>06/11/2005</td>\n",
       "      <td>SÃO PAULO</td>\n",
       "    </tr>\n",
       "    <tr>\n",
       "      <th>3</th>\n",
       "      <td>679877</td>\n",
       "      <td>RCBP CAMPINAS-UNICAMP</td>\n",
       "      <td>FEMININO</td>\n",
       "      <td>57.0</td>\n",
       "      <td>PARDA</td>\n",
       "      <td>BRASIL</td>\n",
       "      <td>ALAGOAS</td>\n",
       "      <td>SÃO PAULO</td>\n",
       "      <td>15/05/2005</td>\n",
       "      <td>15/05/2005</td>\n",
       "      <td>SÃO PAULO</td>\n",
       "    </tr>\n",
       "    <tr>\n",
       "      <th>4</th>\n",
       "      <td>676553</td>\n",
       "      <td>RCBP CAMPINAS-UNICAMP</td>\n",
       "      <td>MASCULINO</td>\n",
       "      <td>52.0</td>\n",
       "      <td>BRANCO</td>\n",
       "      <td>BRASIL</td>\n",
       "      <td>SÃO PAULO</td>\n",
       "      <td>SÃO PAULO</td>\n",
       "      <td>24/02/2005</td>\n",
       "      <td>24/02/2005</td>\n",
       "      <td>SÃO PAULO</td>\n",
       "    </tr>\n",
       "    <tr>\n",
       "      <th>...</th>\n",
       "      <td>...</td>\n",
       "      <td>...</td>\n",
       "      <td>...</td>\n",
       "      <td>...</td>\n",
       "      <td>...</td>\n",
       "      <td>...</td>\n",
       "      <td>...</td>\n",
       "      <td>...</td>\n",
       "      <td>...</td>\n",
       "      <td>...</td>\n",
       "      <td>...</td>\n",
       "    </tr>\n",
       "    <tr>\n",
       "      <th>957954</th>\n",
       "      <td>1331797</td>\n",
       "      <td>RCBP RONDONIA</td>\n",
       "      <td>MASCULINO</td>\n",
       "      <td>68.0</td>\n",
       "      <td>PARDA</td>\n",
       "      <td>BRASIL</td>\n",
       "      <td>GOIAS</td>\n",
       "      <td>RONDONIA</td>\n",
       "      <td>03/07/2017</td>\n",
       "      <td>14/03/2019</td>\n",
       "      <td>RONDONIA</td>\n",
       "    </tr>\n",
       "    <tr>\n",
       "      <th>957955</th>\n",
       "      <td>1331551</td>\n",
       "      <td>RCBP RONDONIA</td>\n",
       "      <td>FEMININO</td>\n",
       "      <td>24.0</td>\n",
       "      <td>PARDA</td>\n",
       "      <td>BRASIL</td>\n",
       "      <td>RONDONIA</td>\n",
       "      <td>RONDONIA</td>\n",
       "      <td>17/07/2017</td>\n",
       "      <td>06/08/2018</td>\n",
       "      <td>RONDONIA</td>\n",
       "    </tr>\n",
       "    <tr>\n",
       "      <th>957956</th>\n",
       "      <td>1331058</td>\n",
       "      <td>RCBP RONDONIA</td>\n",
       "      <td>FEMININO</td>\n",
       "      <td>56.0</td>\n",
       "      <td>BRANCO</td>\n",
       "      <td>BRASIL</td>\n",
       "      <td>MINAS GERAIS</td>\n",
       "      <td>RONDONIA</td>\n",
       "      <td>08/02/2017</td>\n",
       "      <td>08/06/2018</td>\n",
       "      <td>RONDONIA</td>\n",
       "    </tr>\n",
       "    <tr>\n",
       "      <th>957957</th>\n",
       "      <td>1331001</td>\n",
       "      <td>RCBP RONDONIA</td>\n",
       "      <td>MASCULINO</td>\n",
       "      <td>40.0</td>\n",
       "      <td>PARDA</td>\n",
       "      <td>BRASIL</td>\n",
       "      <td>RONDONIA</td>\n",
       "      <td>RONDONIA</td>\n",
       "      <td>27/06/2017</td>\n",
       "      <td>30/04/2018</td>\n",
       "      <td>RONDONIA</td>\n",
       "    </tr>\n",
       "    <tr>\n",
       "      <th>957958</th>\n",
       "      <td>1398299</td>\n",
       "      <td>RCBP RONDONIA</td>\n",
       "      <td>FEMININO</td>\n",
       "      <td>61.0</td>\n",
       "      <td>BRANCO</td>\n",
       "      <td>BRASIL</td>\n",
       "      <td>RIO GRANDE DO SUL</td>\n",
       "      <td>RONDONIA</td>\n",
       "      <td>26/05/2017</td>\n",
       "      <td>23/10/2017</td>\n",
       "      <td>RONDONIA</td>\n",
       "    </tr>\n",
       "  </tbody>\n",
       "</table>\n",
       "<p>957959 rows × 11 columns</p>\n",
       "</div>"
      ],
      "text/plain": [
       "        codigo_paciente      local_atendimento       sexo  idade     cor  \\\n",
       "0                672054  RCBP CAMPINAS-UNICAMP  MASCULINO   30.0  BRANCO   \n",
       "1                673745  RCBP CAMPINAS-UNICAMP  MASCULINO   71.0  BRANCO   \n",
       "2                676350  RCBP CAMPINAS-UNICAMP  MASCULINO   71.0  BRANCO   \n",
       "3                679877  RCBP CAMPINAS-UNICAMP   FEMININO   57.0   PARDA   \n",
       "4                676553  RCBP CAMPINAS-UNICAMP  MASCULINO   52.0  BRANCO   \n",
       "...                 ...                    ...        ...    ...     ...   \n",
       "957954          1331797          RCBP RONDONIA  MASCULINO   68.0   PARDA   \n",
       "957955          1331551          RCBP RONDONIA   FEMININO   24.0   PARDA   \n",
       "957956          1331058          RCBP RONDONIA   FEMININO   56.0  BRANCO   \n",
       "957957          1331001          RCBP RONDONIA  MASCULINO   40.0   PARDA   \n",
       "957958          1398299          RCBP RONDONIA   FEMININO   61.0  BRANCO   \n",
       "\n",
       "       nacionalidade  estado_nascimento     estado        data  data_obito  \\\n",
       "0             BRASIL          SÃO PAULO  SÃO PAULO  07/10/2005  07/10/2005   \n",
       "1             BRASIL          SÃO PAULO  SÃO PAULO  21/10/2005  21/10/2005   \n",
       "2             BRASIL          SÃO PAULO  SÃO PAULO  06/11/2005  06/11/2005   \n",
       "3             BRASIL            ALAGOAS  SÃO PAULO  15/05/2005  15/05/2005   \n",
       "4             BRASIL          SÃO PAULO  SÃO PAULO  24/02/2005  24/02/2005   \n",
       "...              ...                ...        ...         ...         ...   \n",
       "957954        BRASIL              GOIAS   RONDONIA  03/07/2017  14/03/2019   \n",
       "957955        BRASIL           RONDONIA   RONDONIA  17/07/2017  06/08/2018   \n",
       "957956        BRASIL       MINAS GERAIS   RONDONIA  08/02/2017  08/06/2018   \n",
       "957957        BRASIL           RONDONIA   RONDONIA  27/06/2017  30/04/2018   \n",
       "957958        BRASIL  RIO GRANDE DO SUL   RONDONIA  26/05/2017  23/10/2017   \n",
       "\n",
       "       estado_atendimento  \n",
       "0               SÃO PAULO  \n",
       "1               SÃO PAULO  \n",
       "2               SÃO PAULO  \n",
       "3               SÃO PAULO  \n",
       "4               SÃO PAULO  \n",
       "...                   ...  \n",
       "957954           RONDONIA  \n",
       "957955           RONDONIA  \n",
       "957956           RONDONIA  \n",
       "957957           RONDONIA  \n",
       "957958           RONDONIA  \n",
       "\n",
       "[957959 rows x 11 columns]"
      ]
     },
     "execution_count": 51,
     "metadata": {},
     "output_type": "execute_result"
    }
   ],
   "source": [
    "dados2"
   ]
  },
  {
   "cell_type": "code",
   "execution_count": 44,
   "metadata": {},
   "outputs": [],
   "source": [
    "# Seleção do estado de São Paulo para análise\n",
    "\n",
    "deslocamento_sp = dados2.loc[dados2['estado_atendimento'] == 'SÃO PAULO']"
   ]
  },
  {
   "cell_type": "code",
   "execution_count": 45,
   "metadata": {},
   "outputs": [
    {
     "data": {
      "text/html": [
       "<div>\n",
       "<style scoped>\n",
       "    .dataframe tbody tr th:only-of-type {\n",
       "        vertical-align: middle;\n",
       "    }\n",
       "\n",
       "    .dataframe tbody tr th {\n",
       "        vertical-align: top;\n",
       "    }\n",
       "\n",
       "    .dataframe thead th {\n",
       "        text-align: right;\n",
       "    }\n",
       "</style>\n",
       "<table border=\"1\" class=\"dataframe\">\n",
       "  <thead>\n",
       "    <tr style=\"text-align: right;\">\n",
       "      <th></th>\n",
       "      <th>codigo_paciente</th>\n",
       "      <th>local_atendimento</th>\n",
       "      <th>sexo</th>\n",
       "      <th>idade</th>\n",
       "      <th>cor</th>\n",
       "      <th>nacionalidade</th>\n",
       "      <th>estado_nascimento</th>\n",
       "      <th>estado</th>\n",
       "      <th>data</th>\n",
       "      <th>data_obito</th>\n",
       "      <th>estado_atendimento</th>\n",
       "    </tr>\n",
       "  </thead>\n",
       "  <tbody>\n",
       "    <tr>\n",
       "      <th>0</th>\n",
       "      <td>672054</td>\n",
       "      <td>RCBP CAMPINAS-UNICAMP</td>\n",
       "      <td>MASCULINO</td>\n",
       "      <td>30.0</td>\n",
       "      <td>BRANCO</td>\n",
       "      <td>BRASIL</td>\n",
       "      <td>SÃO PAULO</td>\n",
       "      <td>SÃO PAULO</td>\n",
       "      <td>07/10/2005</td>\n",
       "      <td>07/10/2005</td>\n",
       "      <td>SÃO PAULO</td>\n",
       "    </tr>\n",
       "    <tr>\n",
       "      <th>1</th>\n",
       "      <td>673745</td>\n",
       "      <td>RCBP CAMPINAS-UNICAMP</td>\n",
       "      <td>MASCULINO</td>\n",
       "      <td>71.0</td>\n",
       "      <td>BRANCO</td>\n",
       "      <td>BRASIL</td>\n",
       "      <td>SÃO PAULO</td>\n",
       "      <td>SÃO PAULO</td>\n",
       "      <td>21/10/2005</td>\n",
       "      <td>21/10/2005</td>\n",
       "      <td>SÃO PAULO</td>\n",
       "    </tr>\n",
       "    <tr>\n",
       "      <th>2</th>\n",
       "      <td>676350</td>\n",
       "      <td>RCBP CAMPINAS-UNICAMP</td>\n",
       "      <td>MASCULINO</td>\n",
       "      <td>71.0</td>\n",
       "      <td>BRANCO</td>\n",
       "      <td>BRASIL</td>\n",
       "      <td>SÃO PAULO</td>\n",
       "      <td>SÃO PAULO</td>\n",
       "      <td>06/11/2005</td>\n",
       "      <td>06/11/2005</td>\n",
       "      <td>SÃO PAULO</td>\n",
       "    </tr>\n",
       "    <tr>\n",
       "      <th>3</th>\n",
       "      <td>679877</td>\n",
       "      <td>RCBP CAMPINAS-UNICAMP</td>\n",
       "      <td>FEMININO</td>\n",
       "      <td>57.0</td>\n",
       "      <td>PARDA</td>\n",
       "      <td>BRASIL</td>\n",
       "      <td>ALAGOAS</td>\n",
       "      <td>SÃO PAULO</td>\n",
       "      <td>15/05/2005</td>\n",
       "      <td>15/05/2005</td>\n",
       "      <td>SÃO PAULO</td>\n",
       "    </tr>\n",
       "    <tr>\n",
       "      <th>4</th>\n",
       "      <td>676553</td>\n",
       "      <td>RCBP CAMPINAS-UNICAMP</td>\n",
       "      <td>MASCULINO</td>\n",
       "      <td>52.0</td>\n",
       "      <td>BRANCO</td>\n",
       "      <td>BRASIL</td>\n",
       "      <td>SÃO PAULO</td>\n",
       "      <td>SÃO PAULO</td>\n",
       "      <td>24/02/2005</td>\n",
       "      <td>24/02/2005</td>\n",
       "      <td>SÃO PAULO</td>\n",
       "    </tr>\n",
       "    <tr>\n",
       "      <th>...</th>\n",
       "      <td>...</td>\n",
       "      <td>...</td>\n",
       "      <td>...</td>\n",
       "      <td>...</td>\n",
       "      <td>...</td>\n",
       "      <td>...</td>\n",
       "      <td>...</td>\n",
       "      <td>...</td>\n",
       "      <td>...</td>\n",
       "      <td>...</td>\n",
       "      <td>...</td>\n",
       "    </tr>\n",
       "    <tr>\n",
       "      <th>907023</th>\n",
       "      <td>1462216</td>\n",
       "      <td>RCBP JAHU</td>\n",
       "      <td>FEMININO</td>\n",
       "      <td>52.0</td>\n",
       "      <td>BRANCO</td>\n",
       "      <td>BRASIL</td>\n",
       "      <td>SÃO PAULO</td>\n",
       "      <td>SÃO PAULO</td>\n",
       "      <td>09/09/2019</td>\n",
       "      <td>NaN</td>\n",
       "      <td>SÃO PAULO</td>\n",
       "    </tr>\n",
       "    <tr>\n",
       "      <th>907024</th>\n",
       "      <td>1462215</td>\n",
       "      <td>RCBP JAHU</td>\n",
       "      <td>FEMININO</td>\n",
       "      <td>58.0</td>\n",
       "      <td>BRANCO</td>\n",
       "      <td>BRASIL</td>\n",
       "      <td>SÃO PAULO</td>\n",
       "      <td>SÃO PAULO</td>\n",
       "      <td>24/04/2019</td>\n",
       "      <td>NaN</td>\n",
       "      <td>SÃO PAULO</td>\n",
       "    </tr>\n",
       "    <tr>\n",
       "      <th>907025</th>\n",
       "      <td>1462214</td>\n",
       "      <td>RCBP JAHU</td>\n",
       "      <td>FEMININO</td>\n",
       "      <td>94.0</td>\n",
       "      <td>BRANCO</td>\n",
       "      <td>BRASIL</td>\n",
       "      <td>CEARÁ</td>\n",
       "      <td>SÃO PAULO</td>\n",
       "      <td>05/09/2019</td>\n",
       "      <td>NaN</td>\n",
       "      <td>SÃO PAULO</td>\n",
       "    </tr>\n",
       "    <tr>\n",
       "      <th>907026</th>\n",
       "      <td>1461932</td>\n",
       "      <td>RCBP JAHU</td>\n",
       "      <td>MASCULINO</td>\n",
       "      <td>65.0</td>\n",
       "      <td>BRANCO</td>\n",
       "      <td>BRASIL</td>\n",
       "      <td>SÃO PAULO</td>\n",
       "      <td>SÃO PAULO</td>\n",
       "      <td>13/03/2019</td>\n",
       "      <td>NaN</td>\n",
       "      <td>SÃO PAULO</td>\n",
       "    </tr>\n",
       "    <tr>\n",
       "      <th>907027</th>\n",
       "      <td>1461931</td>\n",
       "      <td>RCBP JAHU</td>\n",
       "      <td>FEMININO</td>\n",
       "      <td>45.0</td>\n",
       "      <td>BRANCO</td>\n",
       "      <td>BRASIL</td>\n",
       "      <td>MINAS GERAIS</td>\n",
       "      <td>SÃO PAULO</td>\n",
       "      <td>25/01/2019</td>\n",
       "      <td>NaN</td>\n",
       "      <td>SÃO PAULO</td>\n",
       "    </tr>\n",
       "  </tbody>\n",
       "</table>\n",
       "<p>430767 rows × 11 columns</p>\n",
       "</div>"
      ],
      "text/plain": [
       "        codigo_paciente      local_atendimento       sexo  idade     cor  \\\n",
       "0                672054  RCBP CAMPINAS-UNICAMP  MASCULINO   30.0  BRANCO   \n",
       "1                673745  RCBP CAMPINAS-UNICAMP  MASCULINO   71.0  BRANCO   \n",
       "2                676350  RCBP CAMPINAS-UNICAMP  MASCULINO   71.0  BRANCO   \n",
       "3                679877  RCBP CAMPINAS-UNICAMP   FEMININO   57.0   PARDA   \n",
       "4                676553  RCBP CAMPINAS-UNICAMP  MASCULINO   52.0  BRANCO   \n",
       "...                 ...                    ...        ...    ...     ...   \n",
       "907023          1462216              RCBP JAHU   FEMININO   52.0  BRANCO   \n",
       "907024          1462215              RCBP JAHU   FEMININO   58.0  BRANCO   \n",
       "907025          1462214              RCBP JAHU   FEMININO   94.0  BRANCO   \n",
       "907026          1461932              RCBP JAHU  MASCULINO   65.0  BRANCO   \n",
       "907027          1461931              RCBP JAHU   FEMININO   45.0  BRANCO   \n",
       "\n",
       "       nacionalidade estado_nascimento     estado        data  data_obito  \\\n",
       "0             BRASIL         SÃO PAULO  SÃO PAULO  07/10/2005  07/10/2005   \n",
       "1             BRASIL         SÃO PAULO  SÃO PAULO  21/10/2005  21/10/2005   \n",
       "2             BRASIL         SÃO PAULO  SÃO PAULO  06/11/2005  06/11/2005   \n",
       "3             BRASIL           ALAGOAS  SÃO PAULO  15/05/2005  15/05/2005   \n",
       "4             BRASIL         SÃO PAULO  SÃO PAULO  24/02/2005  24/02/2005   \n",
       "...              ...               ...        ...         ...         ...   \n",
       "907023        BRASIL         SÃO PAULO  SÃO PAULO  09/09/2019         NaN   \n",
       "907024        BRASIL         SÃO PAULO  SÃO PAULO  24/04/2019         NaN   \n",
       "907025        BRASIL             CEARÁ  SÃO PAULO  05/09/2019         NaN   \n",
       "907026        BRASIL         SÃO PAULO  SÃO PAULO  13/03/2019         NaN   \n",
       "907027        BRASIL      MINAS GERAIS  SÃO PAULO  25/01/2019         NaN   \n",
       "\n",
       "       estado_atendimento  \n",
       "0               SÃO PAULO  \n",
       "1               SÃO PAULO  \n",
       "2               SÃO PAULO  \n",
       "3               SÃO PAULO  \n",
       "4               SÃO PAULO  \n",
       "...                   ...  \n",
       "907023          SÃO PAULO  \n",
       "907024          SÃO PAULO  \n",
       "907025          SÃO PAULO  \n",
       "907026          SÃO PAULO  \n",
       "907027          SÃO PAULO  \n",
       "\n",
       "[430767 rows x 11 columns]"
      ]
     },
     "execution_count": 45,
     "metadata": {},
     "output_type": "execute_result"
    }
   ],
   "source": [
    "deslocamento_sp"
   ]
  },
  {
   "cell_type": "code",
   "execution_count": 56,
   "metadata": {},
   "outputs": [
    {
     "data": {
      "text/plain": [
       "array(['SÃO PAULO'], dtype=object)"
      ]
     },
     "execution_count": 56,
     "metadata": {},
     "output_type": "execute_result"
    }
   ],
   "source": [
    "deslocamento_sp.estado.unique()"
   ]
  },
  {
   "cell_type": "markdown",
   "metadata": {},
   "source": [
    "**Pelos dados, não houve migração de pessoas em busca de tratamento em São Paulo. Isso não é o que ocorre na prática.**"
   ]
  },
  {
   "cell_type": "code",
   "execution_count": 60,
   "metadata": {},
   "outputs": [
    {
     "data": {
      "text/plain": [
       "array(['SÃO PAULO', 'ALAGOAS', 'Não informado', 'SANTA CATARINA',\n",
       "       'PERNAMBUCO', 'MINAS GERAIS', 'RIO GRANDE DO SUL', 'PARANÁ',\n",
       "       'PARÁ', 'CEARÁ', 'PARAÍBA', 'BAHIA', 'MATO GROSSO DO SUL',\n",
       "       'RIO GRANDE DO NORTE', 'SERGIPE', 'TOCANTINS', 'RIO DE JANEIRO',\n",
       "       'MARANHÃO', 'PIAUÍ', 'MATO GROSSO ', 'ESPIRITO SANTO',\n",
       "       'DISTRITO FEDERAL', 'GOIAS', nan, 'AMAZONAS', 'ACRE', 'RONDONIA',\n",
       "       'AMAPA', 'RORAIMA'], dtype=object)"
      ]
     },
     "execution_count": 60,
     "metadata": {},
     "output_type": "execute_result"
    }
   ],
   "source": [
    "deslocamento_sp.estado_nascimento.unique()"
   ]
  },
  {
   "cell_type": "markdown",
   "metadata": {},
   "source": [
    "**Comparando com os estado de nascimento das pessoas, nota-se uma possível movimentação. No entanto, não se pode afirmar que o estado de nascimento é o estado de residência da pessoa no momento do diagnóstico. Poranto, fica inconclusivo.**"
   ]
  },
  {
   "cell_type": "markdown",
   "metadata": {},
   "source": [
    "**Abaixo, a avaliação dos dados de estado de Minas Gerais para avaliar os observados no estado de São Paulo.**"
   ]
  },
  {
   "cell_type": "code",
   "execution_count": 57,
   "metadata": {},
   "outputs": [],
   "source": [
    "\n",
    "\n",
    "deslocamento_mg = dados2.loc[dados2['estado_atendimento'] == 'MINAS GERAIS']"
   ]
  },
  {
   "cell_type": "code",
   "execution_count": 58,
   "metadata": {},
   "outputs": [
    {
     "data": {
      "text/html": [
       "<div>\n",
       "<style scoped>\n",
       "    .dataframe tbody tr th:only-of-type {\n",
       "        vertical-align: middle;\n",
       "    }\n",
       "\n",
       "    .dataframe tbody tr th {\n",
       "        vertical-align: top;\n",
       "    }\n",
       "\n",
       "    .dataframe thead th {\n",
       "        text-align: right;\n",
       "    }\n",
       "</style>\n",
       "<table border=\"1\" class=\"dataframe\">\n",
       "  <thead>\n",
       "    <tr style=\"text-align: right;\">\n",
       "      <th></th>\n",
       "      <th>codigo_paciente</th>\n",
       "      <th>local_atendimento</th>\n",
       "      <th>sexo</th>\n",
       "      <th>idade</th>\n",
       "      <th>cor</th>\n",
       "      <th>nacionalidade</th>\n",
       "      <th>estado_nascimento</th>\n",
       "      <th>estado</th>\n",
       "      <th>data</th>\n",
       "      <th>data_obito</th>\n",
       "      <th>estado_atendimento</th>\n",
       "    </tr>\n",
       "  </thead>\n",
       "  <tbody>\n",
       "    <tr>\n",
       "      <th>358007</th>\n",
       "      <td>754835</td>\n",
       "      <td>RCBP BELO HORIZONTE</td>\n",
       "      <td>FEMININO</td>\n",
       "      <td>82.0</td>\n",
       "      <td>BRANCO</td>\n",
       "      <td>BRASIL</td>\n",
       "      <td>MINAS GERAIS</td>\n",
       "      <td>MINAS GERAIS</td>\n",
       "      <td>27/05/2005</td>\n",
       "      <td>19/02/2007</td>\n",
       "      <td>MINAS GERAIS</td>\n",
       "    </tr>\n",
       "    <tr>\n",
       "      <th>358008</th>\n",
       "      <td>532813</td>\n",
       "      <td>RCBP BELO HORIZONTE</td>\n",
       "      <td>MASCULINO</td>\n",
       "      <td>75.0</td>\n",
       "      <td>PARDA</td>\n",
       "      <td>Não informado</td>\n",
       "      <td>Não informado</td>\n",
       "      <td>MINAS GERAIS</td>\n",
       "      <td>17/01/2005</td>\n",
       "      <td>17/01/2005</td>\n",
       "      <td>MINAS GERAIS</td>\n",
       "    </tr>\n",
       "    <tr>\n",
       "      <th>358009</th>\n",
       "      <td>532899</td>\n",
       "      <td>RCBP BELO HORIZONTE</td>\n",
       "      <td>FEMININO</td>\n",
       "      <td>79.0</td>\n",
       "      <td>BRANCO</td>\n",
       "      <td>Não informado</td>\n",
       "      <td>Não informado</td>\n",
       "      <td>MINAS GERAIS</td>\n",
       "      <td>28/12/2005</td>\n",
       "      <td>28/12/2005</td>\n",
       "      <td>MINAS GERAIS</td>\n",
       "    </tr>\n",
       "    <tr>\n",
       "      <th>358010</th>\n",
       "      <td>507753</td>\n",
       "      <td>RCBP BELO HORIZONTE</td>\n",
       "      <td>FEMININO</td>\n",
       "      <td>50.0</td>\n",
       "      <td>SEM INFORMAÇÃO</td>\n",
       "      <td>BRASIL</td>\n",
       "      <td>Não informado</td>\n",
       "      <td>MINAS GERAIS</td>\n",
       "      <td>02/06/2005</td>\n",
       "      <td>NaN</td>\n",
       "      <td>MINAS GERAIS</td>\n",
       "    </tr>\n",
       "    <tr>\n",
       "      <th>358011</th>\n",
       "      <td>752414</td>\n",
       "      <td>RCBP BELO HORIZONTE</td>\n",
       "      <td>FEMININO</td>\n",
       "      <td>75.0</td>\n",
       "      <td>BRANCO</td>\n",
       "      <td>BRASIL</td>\n",
       "      <td>MINAS GERAIS</td>\n",
       "      <td>MINAS GERAIS</td>\n",
       "      <td>03/01/2005</td>\n",
       "      <td>20/06/2007</td>\n",
       "      <td>MINAS GERAIS</td>\n",
       "    </tr>\n",
       "    <tr>\n",
       "      <th>...</th>\n",
       "      <td>...</td>\n",
       "      <td>...</td>\n",
       "      <td>...</td>\n",
       "      <td>...</td>\n",
       "      <td>...</td>\n",
       "      <td>...</td>\n",
       "      <td>...</td>\n",
       "      <td>...</td>\n",
       "      <td>...</td>\n",
       "      <td>...</td>\n",
       "      <td>...</td>\n",
       "    </tr>\n",
       "    <tr>\n",
       "      <th>925604</th>\n",
       "      <td>1189251</td>\n",
       "      <td>RCBP POÇOS DE CALDAS</td>\n",
       "      <td>MASCULINO</td>\n",
       "      <td>72.0</td>\n",
       "      <td>BRANCO</td>\n",
       "      <td>BRASIL</td>\n",
       "      <td>MINAS GERAIS</td>\n",
       "      <td>MINAS GERAIS</td>\n",
       "      <td>22/09/2014</td>\n",
       "      <td>NaN</td>\n",
       "      <td>MINAS GERAIS</td>\n",
       "    </tr>\n",
       "    <tr>\n",
       "      <th>925605</th>\n",
       "      <td>1192163</td>\n",
       "      <td>RCBP POÇOS DE CALDAS</td>\n",
       "      <td>FEMININO</td>\n",
       "      <td>83.0</td>\n",
       "      <td>BRANCO</td>\n",
       "      <td>BRASIL</td>\n",
       "      <td>SÃO PAULO</td>\n",
       "      <td>MINAS GERAIS</td>\n",
       "      <td>20/05/2014</td>\n",
       "      <td>NaN</td>\n",
       "      <td>MINAS GERAIS</td>\n",
       "    </tr>\n",
       "    <tr>\n",
       "      <th>925606</th>\n",
       "      <td>1190651</td>\n",
       "      <td>RCBP POÇOS DE CALDAS</td>\n",
       "      <td>MASCULINO</td>\n",
       "      <td>87.0</td>\n",
       "      <td>BRANCO</td>\n",
       "      <td>BRASIL</td>\n",
       "      <td>MINAS GERAIS</td>\n",
       "      <td>MINAS GERAIS</td>\n",
       "      <td>13/06/2014</td>\n",
       "      <td>31/01/2016</td>\n",
       "      <td>MINAS GERAIS</td>\n",
       "    </tr>\n",
       "    <tr>\n",
       "      <th>925607</th>\n",
       "      <td>1195654</td>\n",
       "      <td>RCBP POÇOS DE CALDAS</td>\n",
       "      <td>FEMININO</td>\n",
       "      <td>89.0</td>\n",
       "      <td>BRANCO</td>\n",
       "      <td>BRASIL</td>\n",
       "      <td>MINAS GERAIS</td>\n",
       "      <td>MINAS GERAIS</td>\n",
       "      <td>08/10/2014</td>\n",
       "      <td>13/12/2015</td>\n",
       "      <td>MINAS GERAIS</td>\n",
       "    </tr>\n",
       "    <tr>\n",
       "      <th>925608</th>\n",
       "      <td>1195631</td>\n",
       "      <td>RCBP POÇOS DE CALDAS</td>\n",
       "      <td>FEMININO</td>\n",
       "      <td>55.0</td>\n",
       "      <td>PARDA</td>\n",
       "      <td>BRASIL</td>\n",
       "      <td>MINAS GERAIS</td>\n",
       "      <td>MINAS GERAIS</td>\n",
       "      <td>19/02/2014</td>\n",
       "      <td>NaN</td>\n",
       "      <td>MINAS GERAIS</td>\n",
       "    </tr>\n",
       "  </tbody>\n",
       "</table>\n",
       "<p>102856 rows × 11 columns</p>\n",
       "</div>"
      ],
      "text/plain": [
       "        codigo_paciente     local_atendimento       sexo  idade  \\\n",
       "358007           754835   RCBP BELO HORIZONTE   FEMININO   82.0   \n",
       "358008           532813   RCBP BELO HORIZONTE  MASCULINO   75.0   \n",
       "358009           532899   RCBP BELO HORIZONTE   FEMININO   79.0   \n",
       "358010           507753   RCBP BELO HORIZONTE   FEMININO   50.0   \n",
       "358011           752414   RCBP BELO HORIZONTE   FEMININO   75.0   \n",
       "...                 ...                   ...        ...    ...   \n",
       "925604          1189251  RCBP POÇOS DE CALDAS  MASCULINO   72.0   \n",
       "925605          1192163  RCBP POÇOS DE CALDAS   FEMININO   83.0   \n",
       "925606          1190651  RCBP POÇOS DE CALDAS  MASCULINO   87.0   \n",
       "925607          1195654  RCBP POÇOS DE CALDAS   FEMININO   89.0   \n",
       "925608          1195631  RCBP POÇOS DE CALDAS   FEMININO   55.0   \n",
       "\n",
       "                   cor  nacionalidade estado_nascimento        estado  \\\n",
       "358007          BRANCO         BRASIL      MINAS GERAIS  MINAS GERAIS   \n",
       "358008           PARDA  Não informado     Não informado  MINAS GERAIS   \n",
       "358009          BRANCO  Não informado     Não informado  MINAS GERAIS   \n",
       "358010  SEM INFORMAÇÃO         BRASIL     Não informado  MINAS GERAIS   \n",
       "358011          BRANCO         BRASIL      MINAS GERAIS  MINAS GERAIS   \n",
       "...                ...            ...               ...           ...   \n",
       "925604          BRANCO         BRASIL      MINAS GERAIS  MINAS GERAIS   \n",
       "925605          BRANCO         BRASIL         SÃO PAULO  MINAS GERAIS   \n",
       "925606          BRANCO         BRASIL      MINAS GERAIS  MINAS GERAIS   \n",
       "925607          BRANCO         BRASIL      MINAS GERAIS  MINAS GERAIS   \n",
       "925608           PARDA         BRASIL      MINAS GERAIS  MINAS GERAIS   \n",
       "\n",
       "              data  data_obito estado_atendimento  \n",
       "358007  27/05/2005  19/02/2007       MINAS GERAIS  \n",
       "358008  17/01/2005  17/01/2005       MINAS GERAIS  \n",
       "358009  28/12/2005  28/12/2005       MINAS GERAIS  \n",
       "358010  02/06/2005         NaN       MINAS GERAIS  \n",
       "358011  03/01/2005  20/06/2007       MINAS GERAIS  \n",
       "...            ...         ...                ...  \n",
       "925604  22/09/2014         NaN       MINAS GERAIS  \n",
       "925605  20/05/2014         NaN       MINAS GERAIS  \n",
       "925606  13/06/2014  31/01/2016       MINAS GERAIS  \n",
       "925607  08/10/2014  13/12/2015       MINAS GERAIS  \n",
       "925608  19/02/2014         NaN       MINAS GERAIS  \n",
       "\n",
       "[102856 rows x 11 columns]"
      ]
     },
     "execution_count": 58,
     "metadata": {},
     "output_type": "execute_result"
    }
   ],
   "source": [
    "deslocamento_mg"
   ]
  },
  {
   "cell_type": "code",
   "execution_count": 59,
   "metadata": {},
   "outputs": [
    {
     "data": {
      "text/plain": [
       "array(['MINAS GERAIS', nan], dtype=object)"
      ]
     },
     "execution_count": 59,
     "metadata": {},
     "output_type": "execute_result"
    }
   ],
   "source": [
    "deslocamento_mg.estado.unique()"
   ]
  },
  {
   "cell_type": "code",
   "execution_count": 61,
   "metadata": {},
   "outputs": [
    {
     "data": {
      "text/plain": [
       "array(['MINAS GERAIS', 'Não informado', 'RIO DE JANEIRO',\n",
       "       'ESPIRITO SANTO', 'BAHIA', 'SÃO PAULO', 'GOIAS', 'PARANÁ',\n",
       "       'PERNAMBUCO', 'CEARÁ', 'RIO GRANDE DO SUL', 'PARAÍBA', 'PARÁ',\n",
       "       'RIO GRANDE DO NORTE', 'PIAUÍ', 'MARANHÃO', 'DISTRITO FEDERAL',\n",
       "       'MATO GROSSO DO SUL', 'SERGIPE', 'AMAZONAS', 'SANTA CATARINA',\n",
       "       'ALAGOAS', 'MATO GROSSO ', 'ACRE', 'RONDONIA', 'TOCANTINS',\n",
       "       'RORAIMA'], dtype=object)"
      ]
     },
     "execution_count": 61,
     "metadata": {},
     "output_type": "execute_result"
    }
   ],
   "source": [
    "deslocamento_mg.estado_nascimento.unique()"
   ]
  },
  {
   "cell_type": "markdown",
   "metadata": {},
   "source": [
    "**Abaixo, a avaliação dos dados de estado de Minas Gerais para avaliar os observados no estado de São Paulo.**"
   ]
  },
  {
   "cell_type": "code",
   "execution_count": 62,
   "metadata": {},
   "outputs": [],
   "source": [
    "deslocamento_pa = dados2.loc[dados2['estado_atendimento'] == 'PARÁ']"
   ]
  },
  {
   "cell_type": "code",
   "execution_count": 63,
   "metadata": {},
   "outputs": [
    {
     "data": {
      "text/html": [
       "<div>\n",
       "<style scoped>\n",
       "    .dataframe tbody tr th:only-of-type {\n",
       "        vertical-align: middle;\n",
       "    }\n",
       "\n",
       "    .dataframe tbody tr th {\n",
       "        vertical-align: top;\n",
       "    }\n",
       "\n",
       "    .dataframe thead th {\n",
       "        text-align: right;\n",
       "    }\n",
       "</style>\n",
       "<table border=\"1\" class=\"dataframe\">\n",
       "  <thead>\n",
       "    <tr style=\"text-align: right;\">\n",
       "      <th></th>\n",
       "      <th>codigo_paciente</th>\n",
       "      <th>local_atendimento</th>\n",
       "      <th>sexo</th>\n",
       "      <th>idade</th>\n",
       "      <th>cor</th>\n",
       "      <th>nacionalidade</th>\n",
       "      <th>estado_nascimento</th>\n",
       "      <th>estado</th>\n",
       "      <th>data</th>\n",
       "      <th>data_obito</th>\n",
       "      <th>estado_atendimento</th>\n",
       "    </tr>\n",
       "  </thead>\n",
       "  <tbody>\n",
       "    <tr>\n",
       "      <th>336923</th>\n",
       "      <td>765279</td>\n",
       "      <td>RCBP BELÉM</td>\n",
       "      <td>MASCULINO</td>\n",
       "      <td>NaN</td>\n",
       "      <td>SEM INFORMAÇÃO</td>\n",
       "      <td>BRASIL</td>\n",
       "      <td>Não informado</td>\n",
       "      <td>PARÁ</td>\n",
       "      <td>10/10/2005</td>\n",
       "      <td>NaN</td>\n",
       "      <td>PARÁ</td>\n",
       "    </tr>\n",
       "    <tr>\n",
       "      <th>336924</th>\n",
       "      <td>909211</td>\n",
       "      <td>RCBP BELÉM</td>\n",
       "      <td>FEMININO</td>\n",
       "      <td>64.0</td>\n",
       "      <td>SEM INFORMAÇÃO</td>\n",
       "      <td>BRASIL</td>\n",
       "      <td>PARÁ</td>\n",
       "      <td>PARÁ</td>\n",
       "      <td>15/06/2005</td>\n",
       "      <td>NaN</td>\n",
       "      <td>PARÁ</td>\n",
       "    </tr>\n",
       "    <tr>\n",
       "      <th>336925</th>\n",
       "      <td>765349</td>\n",
       "      <td>RCBP BELÉM</td>\n",
       "      <td>FEMININO</td>\n",
       "      <td>62.0</td>\n",
       "      <td>BRANCO</td>\n",
       "      <td>BRASIL</td>\n",
       "      <td>PARÁ</td>\n",
       "      <td>PARÁ</td>\n",
       "      <td>11/05/2005</td>\n",
       "      <td>05/08/2005</td>\n",
       "      <td>PARÁ</td>\n",
       "    </tr>\n",
       "    <tr>\n",
       "      <th>336926</th>\n",
       "      <td>765436</td>\n",
       "      <td>RCBP BELÉM</td>\n",
       "      <td>FEMININO</td>\n",
       "      <td>52.0</td>\n",
       "      <td>PARDA</td>\n",
       "      <td>BRASIL</td>\n",
       "      <td>MARANHÃO</td>\n",
       "      <td>PARÁ</td>\n",
       "      <td>18/01/2005</td>\n",
       "      <td>24/05/2005</td>\n",
       "      <td>PARÁ</td>\n",
       "    </tr>\n",
       "    <tr>\n",
       "      <th>336927</th>\n",
       "      <td>765560</td>\n",
       "      <td>RCBP BELÉM</td>\n",
       "      <td>MASCULINO</td>\n",
       "      <td>63.0</td>\n",
       "      <td>SEM INFORMAÇÃO</td>\n",
       "      <td>BRASIL</td>\n",
       "      <td>Não informado</td>\n",
       "      <td>PARÁ</td>\n",
       "      <td>12/09/2005</td>\n",
       "      <td>NaN</td>\n",
       "      <td>PARÁ</td>\n",
       "    </tr>\n",
       "    <tr>\n",
       "      <th>...</th>\n",
       "      <td>...</td>\n",
       "      <td>...</td>\n",
       "      <td>...</td>\n",
       "      <td>...</td>\n",
       "      <td>...</td>\n",
       "      <td>...</td>\n",
       "      <td>...</td>\n",
       "      <td>...</td>\n",
       "      <td>...</td>\n",
       "      <td>...</td>\n",
       "      <td>...</td>\n",
       "    </tr>\n",
       "    <tr>\n",
       "      <th>722599</th>\n",
       "      <td>1421803</td>\n",
       "      <td>RCBP BELÉM</td>\n",
       "      <td>MASCULINO</td>\n",
       "      <td>73.0</td>\n",
       "      <td>SEM INFORMAÇÃO</td>\n",
       "      <td>BRASIL</td>\n",
       "      <td>Não informado</td>\n",
       "      <td>PARÁ</td>\n",
       "      <td>01/07/2017</td>\n",
       "      <td>29/03/2018</td>\n",
       "      <td>PARÁ</td>\n",
       "    </tr>\n",
       "    <tr>\n",
       "      <th>722600</th>\n",
       "      <td>1427218</td>\n",
       "      <td>RCBP BELÉM</td>\n",
       "      <td>FEMININO</td>\n",
       "      <td>83.0</td>\n",
       "      <td>BRANCO</td>\n",
       "      <td>BRASIL</td>\n",
       "      <td>PARÁ</td>\n",
       "      <td>PARÁ</td>\n",
       "      <td>26/12/2017</td>\n",
       "      <td>11/01/2018</td>\n",
       "      <td>PARÁ</td>\n",
       "    </tr>\n",
       "    <tr>\n",
       "      <th>722601</th>\n",
       "      <td>1288417</td>\n",
       "      <td>RCBP BELÉM</td>\n",
       "      <td>MASCULINO</td>\n",
       "      <td>8.0</td>\n",
       "      <td>PARDA</td>\n",
       "      <td>BRASIL</td>\n",
       "      <td>PARÁ</td>\n",
       "      <td>PARÁ</td>\n",
       "      <td>03/04/2017</td>\n",
       "      <td>03/04/2017</td>\n",
       "      <td>PARÁ</td>\n",
       "    </tr>\n",
       "    <tr>\n",
       "      <th>722602</th>\n",
       "      <td>1450481</td>\n",
       "      <td>RCBP BELÉM</td>\n",
       "      <td>MASCULINO</td>\n",
       "      <td>70.0</td>\n",
       "      <td>BRANCO</td>\n",
       "      <td>BRASIL</td>\n",
       "      <td>PARÁ</td>\n",
       "      <td>PARÁ</td>\n",
       "      <td>15/04/2017</td>\n",
       "      <td>05/10/2018</td>\n",
       "      <td>PARÁ</td>\n",
       "    </tr>\n",
       "    <tr>\n",
       "      <th>722603</th>\n",
       "      <td>1454076</td>\n",
       "      <td>RCBP BELÉM</td>\n",
       "      <td>FEMININO</td>\n",
       "      <td>46.0</td>\n",
       "      <td>PARDA</td>\n",
       "      <td>BRASIL</td>\n",
       "      <td>PARÁ</td>\n",
       "      <td>PARÁ</td>\n",
       "      <td>27/12/2017</td>\n",
       "      <td>20/02/2018</td>\n",
       "      <td>PARÁ</td>\n",
       "    </tr>\n",
       "  </tbody>\n",
       "</table>\n",
       "<p>42463 rows × 11 columns</p>\n",
       "</div>"
      ],
      "text/plain": [
       "        codigo_paciente local_atendimento       sexo  idade             cor  \\\n",
       "336923           765279        RCBP BELÉM  MASCULINO    NaN  SEM INFORMAÇÃO   \n",
       "336924           909211        RCBP BELÉM   FEMININO   64.0  SEM INFORMAÇÃO   \n",
       "336925           765349        RCBP BELÉM   FEMININO   62.0          BRANCO   \n",
       "336926           765436        RCBP BELÉM   FEMININO   52.0           PARDA   \n",
       "336927           765560        RCBP BELÉM  MASCULINO   63.0  SEM INFORMAÇÃO   \n",
       "...                 ...               ...        ...    ...             ...   \n",
       "722599          1421803        RCBP BELÉM  MASCULINO   73.0  SEM INFORMAÇÃO   \n",
       "722600          1427218        RCBP BELÉM   FEMININO   83.0          BRANCO   \n",
       "722601          1288417        RCBP BELÉM  MASCULINO    8.0           PARDA   \n",
       "722602          1450481        RCBP BELÉM  MASCULINO   70.0          BRANCO   \n",
       "722603          1454076        RCBP BELÉM   FEMININO   46.0           PARDA   \n",
       "\n",
       "       nacionalidade estado_nascimento estado        data  data_obito  \\\n",
       "336923        BRASIL     Não informado   PARÁ  10/10/2005         NaN   \n",
       "336924        BRASIL              PARÁ   PARÁ  15/06/2005         NaN   \n",
       "336925        BRASIL              PARÁ   PARÁ  11/05/2005  05/08/2005   \n",
       "336926        BRASIL          MARANHÃO   PARÁ  18/01/2005  24/05/2005   \n",
       "336927        BRASIL     Não informado   PARÁ  12/09/2005         NaN   \n",
       "...              ...               ...    ...         ...         ...   \n",
       "722599        BRASIL     Não informado   PARÁ  01/07/2017  29/03/2018   \n",
       "722600        BRASIL              PARÁ   PARÁ  26/12/2017  11/01/2018   \n",
       "722601        BRASIL              PARÁ   PARÁ  03/04/2017  03/04/2017   \n",
       "722602        BRASIL              PARÁ   PARÁ  15/04/2017  05/10/2018   \n",
       "722603        BRASIL              PARÁ   PARÁ  27/12/2017  20/02/2018   \n",
       "\n",
       "       estado_atendimento  \n",
       "336923               PARÁ  \n",
       "336924               PARÁ  \n",
       "336925               PARÁ  \n",
       "336926               PARÁ  \n",
       "336927               PARÁ  \n",
       "...                   ...  \n",
       "722599               PARÁ  \n",
       "722600               PARÁ  \n",
       "722601               PARÁ  \n",
       "722602               PARÁ  \n",
       "722603               PARÁ  \n",
       "\n",
       "[42463 rows x 11 columns]"
      ]
     },
     "execution_count": 63,
     "metadata": {},
     "output_type": "execute_result"
    }
   ],
   "source": [
    "deslocamento_pa "
   ]
  },
  {
   "cell_type": "code",
   "execution_count": 66,
   "metadata": {},
   "outputs": [
    {
     "data": {
      "text/plain": [
       "array(['PARÁ'], dtype=object)"
      ]
     },
     "execution_count": 66,
     "metadata": {},
     "output_type": "execute_result"
    }
   ],
   "source": [
    "deslocamento_pa.estado.unique()"
   ]
  },
  {
   "cell_type": "code",
   "execution_count": 64,
   "metadata": {},
   "outputs": [
    {
     "data": {
      "text/plain": [
       "array(['Não informado', 'PARÁ', 'MARANHÃO', 'AMAZONAS', 'SÃO PAULO',\n",
       "       'RONDONIA', 'PIAUÍ', 'PERNAMBUCO', 'CEARÁ', 'RIO DE JANEIRO',\n",
       "       'ACRE', 'MINAS GERAIS', 'RIO GRANDE DO NORTE', 'GOIAS',\n",
       "       'RIO GRANDE DO SUL', 'AMAPA', 'PARAÍBA', 'TOCANTINS',\n",
       "       'ESPIRITO SANTO', 'BAHIA', 'RORAIMA', 'MATO GROSSO DO SUL',\n",
       "       'SANTA CATARINA', 'ALAGOAS', 'PARANÁ', 'MATO GROSSO ', 'SERGIPE',\n",
       "       'DISTRITO FEDERAL'], dtype=object)"
      ]
     },
     "execution_count": 64,
     "metadata": {},
     "output_type": "execute_result"
    }
   ],
   "source": [
    "deslocamento_pa.estado_nascimento.unique()"
   ]
  },
  {
   "cell_type": "markdown",
   "metadata": {},
   "source": [
    "## Conclusões (ANÁLISE 04 - Deslocamentos dos pacientes para tratamento)\n",
    "\n",
    "Os dados da coluna 'estado' disponibilizados não correspodem ao estado de endereço do paciente e sim do local do diagnóstico. Em virtude disso, não pode-se inferir uma migração de pessoas para atendimento médico relacionado ao câncer com essa base de dados."
   ]
  }
 ],
 "metadata": {
  "interpreter": {
   "hash": "8fac594bfae6525c0c41b4041d2d72effa188cc8ead05f81b1fab2bb098927fb"
  },
  "kernelspec": {
   "display_name": "Python 3.9.7 64-bit ('base': conda)",
   "language": "python",
   "name": "python3"
  },
  "language_info": {
   "codemirror_mode": {
    "name": "ipython",
    "version": 3
   },
   "file_extension": ".py",
   "mimetype": "text/x-python",
   "name": "python",
   "nbconvert_exporter": "python",
   "pygments_lexer": "ipython3",
   "version": "3.9.7"
  },
  "orig_nbformat": 4
 },
 "nbformat": 4,
 "nbformat_minor": 2
}
